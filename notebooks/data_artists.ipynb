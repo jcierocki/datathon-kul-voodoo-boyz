{
 "cells": [
  {
   "cell_type": "code",
   "execution_count": 166,
   "metadata": {},
   "outputs": [],
   "source": [
    "import polars as pl\n",
    "import pandas as pd\n",
    "from geopy.geocoders import Nominatim\n",
    "import matplotlib.pyplot as plt\n",
    "import numpy as np\n",
    "import plotly.express as px\n",
    "import plotly.graph_objects as go\n",
    "import nltk\n",
    "from nltk.tokenize import sent_tokenize\n",
    "\n",
    "from py2neo import Graph"
   ]
  },
  {
   "cell_type": "code",
   "execution_count": 167,
   "metadata": {},
   "outputs": [
    {
     "name": "stderr",
     "output_type": "stream",
     "text": [
      "[nltk_data] Downloading collection 'popular'\n",
      "[nltk_data]    | \n",
      "[nltk_data]    | Downloading package cmudict to\n",
      "[nltk_data]    |     /home/aleksandra/nltk_data...\n",
      "[nltk_data]    |   Package cmudict is already up-to-date!\n",
      "[nltk_data]    | Downloading package gazetteers to\n",
      "[nltk_data]    |     /home/aleksandra/nltk_data...\n",
      "[nltk_data]    |   Package gazetteers is already up-to-date!\n",
      "[nltk_data]    | Downloading package genesis to\n",
      "[nltk_data]    |     /home/aleksandra/nltk_data...\n",
      "[nltk_data]    |   Package genesis is already up-to-date!\n",
      "[nltk_data]    | Downloading package gutenberg to\n",
      "[nltk_data]    |     /home/aleksandra/nltk_data...\n",
      "[nltk_data]    |   Package gutenberg is already up-to-date!\n",
      "[nltk_data]    | Downloading package inaugural to\n",
      "[nltk_data]    |     /home/aleksandra/nltk_data...\n",
      "[nltk_data]    |   Package inaugural is already up-to-date!\n",
      "[nltk_data]    | Downloading package movie_reviews to\n",
      "[nltk_data]    |     /home/aleksandra/nltk_data...\n",
      "[nltk_data]    |   Package movie_reviews is already up-to-date!\n",
      "[nltk_data]    | Downloading package names to\n",
      "[nltk_data]    |     /home/aleksandra/nltk_data...\n",
      "[nltk_data]    |   Package names is already up-to-date!\n",
      "[nltk_data]    | Downloading package shakespeare to\n",
      "[nltk_data]    |     /home/aleksandra/nltk_data...\n",
      "[nltk_data]    |   Package shakespeare is already up-to-date!\n",
      "[nltk_data]    | Downloading package stopwords to\n",
      "[nltk_data]    |     /home/aleksandra/nltk_data...\n",
      "[nltk_data]    |   Package stopwords is already up-to-date!\n",
      "[nltk_data]    | Downloading package treebank to\n",
      "[nltk_data]    |     /home/aleksandra/nltk_data...\n",
      "[nltk_data]    |   Package treebank is already up-to-date!\n",
      "[nltk_data]    | Downloading package twitter_samples to\n",
      "[nltk_data]    |     /home/aleksandra/nltk_data...\n",
      "[nltk_data]    |   Package twitter_samples is already up-to-date!\n",
      "[nltk_data]    | Downloading package omw to\n",
      "[nltk_data]    |     /home/aleksandra/nltk_data...\n",
      "[nltk_data]    |   Package omw is already up-to-date!\n",
      "[nltk_data]    | Downloading package omw-1.4 to\n",
      "[nltk_data]    |     /home/aleksandra/nltk_data...\n",
      "[nltk_data]    |   Package omw-1.4 is already up-to-date!\n",
      "[nltk_data]    | Downloading package wordnet to\n",
      "[nltk_data]    |     /home/aleksandra/nltk_data...\n",
      "[nltk_data]    |   Package wordnet is already up-to-date!\n",
      "[nltk_data]    | Downloading package wordnet2021 to\n",
      "[nltk_data]    |     /home/aleksandra/nltk_data...\n",
      "[nltk_data]    |   Package wordnet2021 is already up-to-date!\n",
      "[nltk_data]    | Downloading package wordnet31 to\n",
      "[nltk_data]    |     /home/aleksandra/nltk_data...\n",
      "[nltk_data]    |   Package wordnet31 is already up-to-date!\n",
      "[nltk_data]    | Downloading package wordnet_ic to\n",
      "[nltk_data]    |     /home/aleksandra/nltk_data...\n",
      "[nltk_data]    |   Package wordnet_ic is already up-to-date!\n",
      "[nltk_data]    | Downloading package words to\n",
      "[nltk_data]    |     /home/aleksandra/nltk_data...\n",
      "[nltk_data]    |   Package words is already up-to-date!\n",
      "[nltk_data]    | Downloading package maxent_ne_chunker to\n",
      "[nltk_data]    |     /home/aleksandra/nltk_data...\n",
      "[nltk_data]    |   Package maxent_ne_chunker is already up-to-date!\n",
      "[nltk_data]    | Downloading package punkt to\n",
      "[nltk_data]    |     /home/aleksandra/nltk_data...\n",
      "[nltk_data]    |   Package punkt is already up-to-date!\n",
      "[nltk_data]    | Downloading package snowball_data to\n",
      "[nltk_data]    |     /home/aleksandra/nltk_data...\n",
      "[nltk_data]    |   Package snowball_data is already up-to-date!\n",
      "[nltk_data]    | Downloading package averaged_perceptron_tagger to\n",
      "[nltk_data]    |     /home/aleksandra/nltk_data...\n",
      "[nltk_data]    |   Package averaged_perceptron_tagger is already up-\n",
      "[nltk_data]    |       to-date!\n",
      "[nltk_data]    | \n",
      "[nltk_data]  Done downloading collection popular\n"
     ]
    },
    {
     "data": {
      "text/plain": [
       "True"
      ]
     },
     "execution_count": 167,
     "metadata": {},
     "output_type": "execute_result"
    }
   ],
   "source": [
    "graph = Graph(\"bolt://localhost:7687\", auth=(\"neo4j\", \"password\"))\n",
    "\n",
    "geolocator = Nominatim(user_agent='myapplication')\n",
    "nltk.download('popular')"
   ]
  },
  {
   "attachments": {},
   "cell_type": "markdown",
   "metadata": {},
   "source": [
    "## Artists on a map"
   ]
  },
  {
   "cell_type": "code",
   "execution_count": 155,
   "metadata": {},
   "outputs": [],
   "source": [
    "df = pl.from_dicts(graph.run(\"\"\"\n",
    "    MATCH (a:Artist)-[b:BORN_IN]->(p:Place)\n",
    "    RETURN a.name as artist, p.name as birth_place, a.summary as summary\n",
    "    order by artist;\n",
    "\"\"\").data(), schema={\"artist\": str, \"birth_place\": str, \"summary\": str}).to_pandas()"
   ]
  },
  {
   "cell_type": "code",
   "execution_count": 156,
   "metadata": {},
   "outputs": [
    {
     "name": "stderr",
     "output_type": "stream",
     "text": [
      "/tmp/ipykernel_1411/1582504125.py:1: FutureWarning: The default value of regex will change from True to False in a future version.\n",
      "  df['birth_place'] = df['birth_place'].str.replace('\\d+', '')\n",
      "/tmp/ipykernel_1411/1582504125.py:2: FutureWarning: The default value of regex will change from True to False in a future version.\n",
      "  df['artist'] = df['artist'].str.replace('\\(after\\) ', '')\n"
     ]
    },
    {
     "data": {
      "text/html": [
       "<div>\n",
       "<style scoped>\n",
       "    .dataframe tbody tr th:only-of-type {\n",
       "        vertical-align: middle;\n",
       "    }\n",
       "\n",
       "    .dataframe tbody tr th {\n",
       "        vertical-align: top;\n",
       "    }\n",
       "\n",
       "    .dataframe thead th {\n",
       "        text-align: right;\n",
       "    }\n",
       "</style>\n",
       "<table border=\"1\" class=\"dataframe\">\n",
       "  <thead>\n",
       "    <tr style=\"text-align: right;\">\n",
       "      <th></th>\n",
       "      <th>artist</th>\n",
       "      <th>birth_place</th>\n",
       "      <th>summary</th>\n",
       "    </tr>\n",
       "  </thead>\n",
       "  <tbody>\n",
       "    <tr>\n",
       "      <th>302</th>\n",
       "      <td>William Merritt Chase</td>\n",
       "      <td>Nineveh</td>\n",
       "      <td>William Merritt Chase (November 1, 1849 – Octo...</td>\n",
       "    </tr>\n",
       "    <tr>\n",
       "      <th>303</th>\n",
       "      <td>William Sidney Mount</td>\n",
       "      <td>Setauket</td>\n",
       "      <td>William Sidney Mount (November 26, 1807 – Nove...</td>\n",
       "    </tr>\n",
       "    <tr>\n",
       "      <th>304</th>\n",
       "      <td>William-Adolphe Bouguereau</td>\n",
       "      <td>La Rochelle</td>\n",
       "      <td>William-Adolphe Bouguereau (French pronunciati...</td>\n",
       "    </tr>\n",
       "    <tr>\n",
       "      <th>305</th>\n",
       "      <td>Winslow Homer</td>\n",
       "      <td>Boston</td>\n",
       "      <td>Winslow Homer (February 24, 1836 – September 2...</td>\n",
       "    </tr>\n",
       "    <tr>\n",
       "      <th>306</th>\n",
       "      <td>Yves Tanguy</td>\n",
       "      <td>Paris</td>\n",
       "      <td>Raymond Georges Yves Tanguy (January 5, 1900 –...</td>\n",
       "    </tr>\n",
       "  </tbody>\n",
       "</table>\n",
       "</div>"
      ],
      "text/plain": [
       "                         artist  birth_place  \\\n",
       "302       William Merritt Chase      Nineveh   \n",
       "303        William Sidney Mount     Setauket   \n",
       "304  William-Adolphe Bouguereau  La Rochelle   \n",
       "305               Winslow Homer       Boston   \n",
       "306                 Yves Tanguy        Paris   \n",
       "\n",
       "                                               summary  \n",
       "302  William Merritt Chase (November 1, 1849 – Octo...  \n",
       "303  William Sidney Mount (November 26, 1807 – Nove...  \n",
       "304  William-Adolphe Bouguereau (French pronunciati...  \n",
       "305  Winslow Homer (February 24, 1836 – September 2...  \n",
       "306  Raymond Georges Yves Tanguy (January 5, 1900 –...  "
      ]
     },
     "execution_count": 156,
     "metadata": {},
     "output_type": "execute_result"
    }
   ],
   "source": [
    "df['birth_place'] = df['birth_place'].str.replace('\\d+', '')\n",
    "df['artist'] = df['artist'].str.replace('\\(after\\) ', '')\n",
    "# drop row with \"and ...\"\n",
    "df = df[:-1]\n",
    "df.tail()"
   ]
  },
  {
   "cell_type": "code",
   "execution_count": 157,
   "metadata": {},
   "outputs": [],
   "source": [
    "birth = pd.Series(df['birth_place'].unique())"
   ]
  },
  {
   "cell_type": "code",
   "execution_count": 158,
   "metadata": {},
   "outputs": [],
   "source": [
    "names = []\n",
    "\n",
    "def enter_new_column(dfr):\n",
    "    # loop over length of the rows\n",
    "    temp_arr = []\n",
    "\n",
    "    for i in range(0, len(dfr)):\n",
    "        if(str(dfr.iloc[i]) == 'Edo'):\n",
    "            dfr.iloc[i] = 'Edo, Japan'\n",
    "        if(str(dfr.iloc[i]) == 'Caprese'):\n",
    "            dfr.iloc[i] = 'Caprese, Tuscany'\n",
    "        if(str(dfr.iloc[i]) == 'Nineveh'):\n",
    "            dfr.iloc[i] = 'Nineveh, Indiana'\n",
    "        location = geolocator.geocode(str(dfr.iloc[i]), language=\"en\")\n",
    "        country = str(location).split(', ')[-1]\n",
    "        if country != \"None\":\n",
    "            (lat, long) = geolocator.geocode(str(dfr.iloc[i]), language=\"en\")\n",
    "            temp_arr.append((lat, long))\n",
    "            if(str(dfr.iloc[i]) == 'Edo, Japan'):\n",
    "                dfr.iloc[i] = 'Edo'\n",
    "            if(str(dfr.iloc[i]) == 'Caprese, Tuscany'):\n",
    "                dfr.iloc[i] = 'Caprese'\n",
    "            if(str(dfr.iloc[i]) == 'Nineveh, Indiana'):\n",
    "                dfr.iloc[i] = 'Nineveh'\n",
    "            names.append(dfr.iloc[i])\n",
    "    return temp_arr\n",
    "\n",
    "arr = enter_new_column(birth)"
   ]
  },
  {
   "cell_type": "code",
   "execution_count": 159,
   "metadata": {},
   "outputs": [],
   "source": [
    "new_arr = [arr[i][1] for i in range(0, len(arr))]"
   ]
  },
  {
   "cell_type": "code",
   "execution_count": 160,
   "metadata": {},
   "outputs": [
    {
     "data": {
      "text/html": [
       "<div>\n",
       "<style scoped>\n",
       "    .dataframe tbody tr th:only-of-type {\n",
       "        vertical-align: middle;\n",
       "    }\n",
       "\n",
       "    .dataframe tbody tr th {\n",
       "        vertical-align: top;\n",
       "    }\n",
       "\n",
       "    .dataframe thead th {\n",
       "        text-align: right;\n",
       "    }\n",
       "</style>\n",
       "<table border=\"1\" class=\"dataframe\">\n",
       "  <thead>\n",
       "    <tr style=\"text-align: right;\">\n",
       "      <th></th>\n",
       "      <th>birth_place</th>\n",
       "      <th>artist</th>\n",
       "    </tr>\n",
       "  </thead>\n",
       "  <tbody>\n",
       "    <tr>\n",
       "      <th>0</th>\n",
       "      <td>'s-Hertogenbosch</td>\n",
       "      <td>[Hieronymus Bosch]</td>\n",
       "    </tr>\n",
       "    <tr>\n",
       "      <th>1</th>\n",
       "      <td>Abbey House</td>\n",
       "      <td>[Charles Cooper Henderson]</td>\n",
       "    </tr>\n",
       "    <tr>\n",
       "      <th>2</th>\n",
       "      <td>Aguascalientes</td>\n",
       "      <td>[Saturnino Herran]</td>\n",
       "    </tr>\n",
       "    <tr>\n",
       "      <th>3</th>\n",
       "      <td>Albano</td>\n",
       "      <td>[Eugene de Blaas]</td>\n",
       "    </tr>\n",
       "    <tr>\n",
       "      <th>4</th>\n",
       "      <td>Albi</td>\n",
       "      <td>[Henri De Toulouse-Lautrec]</td>\n",
       "    </tr>\n",
       "    <tr>\n",
       "      <th>...</th>\n",
       "      <td>...</td>\n",
       "      <td>...</td>\n",
       "    </tr>\n",
       "    <tr>\n",
       "      <th>200</th>\n",
       "      <td>Zundert</td>\n",
       "      <td>[Vincent Van Gogh]</td>\n",
       "    </tr>\n",
       "    <tr>\n",
       "      <th>201</th>\n",
       "      <td>[a] Vinci</td>\n",
       "      <td>[Leonardo Da Vinci]</td>\n",
       "    </tr>\n",
       "    <tr>\n",
       "      <th>202</th>\n",
       "      <td>near Florence</td>\n",
       "      <td>[Giotto Di Bondone]</td>\n",
       "    </tr>\n",
       "    <tr>\n",
       "      <th>203</th>\n",
       "      <td>th arrondissement of Paris</td>\n",
       "      <td>[Jules Frederic Ballavoine]</td>\n",
       "    </tr>\n",
       "    <tr>\n",
       "      <th>204</th>\n",
       "      <td>Ústí nad Labem</td>\n",
       "      <td>[Anton Raphael Mengs]</td>\n",
       "    </tr>\n",
       "  </tbody>\n",
       "</table>\n",
       "<p>205 rows × 2 columns</p>\n",
       "</div>"
      ],
      "text/plain": [
       "                    birth_place                       artist\n",
       "0              's-Hertogenbosch           [Hieronymus Bosch]\n",
       "1                   Abbey House   [Charles Cooper Henderson]\n",
       "2                Aguascalientes           [Saturnino Herran]\n",
       "3                        Albano            [Eugene de Blaas]\n",
       "4                          Albi  [Henri De Toulouse-Lautrec]\n",
       "..                          ...                          ...\n",
       "200                     Zundert           [Vincent Van Gogh]\n",
       "201                   [a] Vinci          [Leonardo Da Vinci]\n",
       "202               near Florence          [Giotto Di Bondone]\n",
       "203  th arrondissement of Paris  [Jules Frederic Ballavoine]\n",
       "204              Ústí nad Labem        [Anton Raphael Mengs]\n",
       "\n",
       "[205 rows x 2 columns]"
      ]
     },
     "execution_count": 160,
     "metadata": {},
     "output_type": "execute_result"
    }
   ],
   "source": [
    "temp = df[df.birth_place.isin(names)].drop_duplicates().drop(['summary'], axis=1).reset_index(drop = True)\n",
    "d = pd.DataFrame(temp.groupby('birth_place')['artist'].apply(list)).reset_index()\n",
    "d\n"
   ]
  },
  {
   "cell_type": "code",
   "execution_count": 161,
   "metadata": {},
   "outputs": [
    {
     "data": {
      "text/html": [
       "<div>\n",
       "<style scoped>\n",
       "    .dataframe tbody tr th:only-of-type {\n",
       "        vertical-align: middle;\n",
       "    }\n",
       "\n",
       "    .dataframe tbody tr th {\n",
       "        vertical-align: top;\n",
       "    }\n",
       "\n",
       "    .dataframe thead th {\n",
       "        text-align: right;\n",
       "    }\n",
       "</style>\n",
       "<table border=\"1\" class=\"dataframe\">\n",
       "  <thead>\n",
       "    <tr style=\"text-align: right;\">\n",
       "      <th></th>\n",
       "      <th>birth_place</th>\n",
       "      <th>artist</th>\n",
       "    </tr>\n",
       "  </thead>\n",
       "  <tbody>\n",
       "    <tr>\n",
       "      <th>0</th>\n",
       "      <td>Venice</td>\n",
       "      <td>[(Giovanni Antonio Canal) Canaletto, Bernardo ...</td>\n",
       "    </tr>\n",
       "    <tr>\n",
       "      <th>1</th>\n",
       "      <td>Paris</td>\n",
       "      <td>[Alexis-Simon Belle, Francois Boucher, Alfred ...</td>\n",
       "    </tr>\n",
       "    <tr>\n",
       "      <th>2</th>\n",
       "      <td>Utrecht</td>\n",
       "      <td>[Anthonis Mor Van Dashorst]</td>\n",
       "    </tr>\n",
       "    <tr>\n",
       "      <th>3</th>\n",
       "      <td>Middenbeemster</td>\n",
       "      <td>[Carel Fabritius]</td>\n",
       "    </tr>\n",
       "    <tr>\n",
       "      <th>4</th>\n",
       "      <td>Camerano</td>\n",
       "      <td>[Carlo Maratta Or Maratti]</td>\n",
       "    </tr>\n",
       "    <tr>\n",
       "      <th>...</th>\n",
       "      <td>...</td>\n",
       "      <td>...</td>\n",
       "    </tr>\n",
       "    <tr>\n",
       "      <th>200</th>\n",
       "      <td>Sunderland</td>\n",
       "      <td>[William Clarkson Stanfield]</td>\n",
       "    </tr>\n",
       "    <tr>\n",
       "      <th>201</th>\n",
       "      <td>Nineveh</td>\n",
       "      <td>[William Merritt Chase]</td>\n",
       "    </tr>\n",
       "    <tr>\n",
       "      <th>202</th>\n",
       "      <td>Setauket</td>\n",
       "      <td>[William Sidney Mount]</td>\n",
       "    </tr>\n",
       "    <tr>\n",
       "      <th>203</th>\n",
       "      <td>La Rochelle</td>\n",
       "      <td>[William-Adolphe Bouguereau]</td>\n",
       "    </tr>\n",
       "    <tr>\n",
       "      <th>204</th>\n",
       "      <td>Boston</td>\n",
       "      <td>[Winslow Homer]</td>\n",
       "    </tr>\n",
       "  </tbody>\n",
       "</table>\n",
       "<p>205 rows × 2 columns</p>\n",
       "</div>"
      ],
      "text/plain": [
       "        birth_place                                             artist\n",
       "0            Venice  [(Giovanni Antonio Canal) Canaletto, Bernardo ...\n",
       "1             Paris  [Alexis-Simon Belle, Francois Boucher, Alfred ...\n",
       "2           Utrecht                        [Anthonis Mor Van Dashorst]\n",
       "3    Middenbeemster                                  [Carel Fabritius]\n",
       "4          Camerano                         [Carlo Maratta Or Maratti]\n",
       "..              ...                                                ...\n",
       "200      Sunderland                       [William Clarkson Stanfield]\n",
       "201         Nineveh                            [William Merritt Chase]\n",
       "202        Setauket                             [William Sidney Mount]\n",
       "203     La Rochelle                       [William-Adolphe Bouguereau]\n",
       "204          Boston                                    [Winslow Homer]\n",
       "\n",
       "[205 rows x 2 columns]"
      ]
     },
     "execution_count": 161,
     "metadata": {},
     "output_type": "execute_result"
    }
   ],
   "source": [
    "df_text = pd.DataFrame(names, columns=['birth_place'])\n",
    "\n",
    "merge_data = df_text.merge(d, on=['birth_place'])\n",
    "merge_data"
   ]
  },
  {
   "cell_type": "code",
   "execution_count": 162,
   "metadata": {},
   "outputs": [
    {
     "data": {
      "text/plain": [
       "'(Giovanni Antonio Canal) Canaletto, Bernardo Bellotto (Canaletto), Canaletto, Giovanni Battista Piranesi, Giovanni Battista Tiepolo, Giovanni Bellini, Jacopo Tintoretto, Jacopo Tintoretto (Robusti)'"
      ]
     },
     "execution_count": 162,
     "metadata": {},
     "output_type": "execute_result"
    }
   ],
   "source": [
    "', '.join(merge_data['artist'][0])"
   ]
  },
  {
   "cell_type": "code",
   "execution_count": 163,
   "metadata": {},
   "outputs": [],
   "source": [
    "import folium\n",
    "\n",
    "m = folium.Map(location=[20,0], tiles=\"OpenStreetMap\", zoom_start=2)\n",
    "# add marker one by one on the map\n",
    "for i in range(0,len(new_arr)):\n",
    "   html=f\"\"\"\n",
    "        <h1> {names[i]}</h1>\n",
    "        <p>{', '.join(merge_data['artist'][i])}</p>\n",
    "        \"\"\"\n",
    "   iframe = folium.IFrame(html=html, width=200, height=200)\n",
    "   popup = folium.Popup(iframe, max_width=2650)\n",
    "   folium.Marker(\n",
    "      location=[round(float(new_arr[i][0]), 2), round(float(new_arr[i][1]), 2)],\n",
    "      popup=popup,\n",
    "   ).add_to(m)\n",
    "\n",
    "# Show the map again\n",
    "m\n",
    "\n",
    "m.save(\"birthplaces_map.html\")"
   ]
  },
  {
   "cell_type": "code",
   "execution_count": null,
   "metadata": {},
   "outputs": [],
   "source": [
    "m"
   ]
  },
  {
   "cell_type": "code",
   "execution_count": null,
   "metadata": {},
   "outputs": [],
   "source": []
  },
  {
   "cell_type": "code",
   "execution_count": 21,
   "metadata": {},
   "outputs": [
    {
     "data": {
      "text/html": [
       "<div>\n",
       "<style scoped>\n",
       "    .dataframe tbody tr th:only-of-type {\n",
       "        vertical-align: middle;\n",
       "    }\n",
       "\n",
       "    .dataframe tbody tr th {\n",
       "        vertical-align: top;\n",
       "    }\n",
       "\n",
       "    .dataframe thead th {\n",
       "        text-align: right;\n",
       "    }\n",
       "</style>\n",
       "<table border=\"1\" class=\"dataframe\">\n",
       "  <thead>\n",
       "    <tr style=\"text-align: right;\">\n",
       "      <th></th>\n",
       "      <th>artist</th>\n",
       "      <th>birth_place</th>\n",
       "      <th>summary</th>\n",
       "    </tr>\n",
       "  </thead>\n",
       "  <tbody>\n",
       "    <tr>\n",
       "      <th>0</th>\n",
       "      <td>(Giovanni Antonio Canal) Canaletto</td>\n",
       "      <td>Venice</td>\n",
       "      <td>Giovanni Antonio Canal (18 October 1697 – 19 A...</td>\n",
       "    </tr>\n",
       "    <tr>\n",
       "      <th>1</th>\n",
       "      <td>(Giovanni Antonio Canal) Canaletto</td>\n",
       "      <td>Venice</td>\n",
       "      <td>Giovanni Antonio Canal (18 October 1697 – 19 A...</td>\n",
       "    </tr>\n",
       "    <tr>\n",
       "      <th>2</th>\n",
       "      <td>Alexis-Simon Belle</td>\n",
       "      <td>Paris</td>\n",
       "      <td>Alexis Simon Belle (12 January 1674 – 21 Novem...</td>\n",
       "    </tr>\n",
       "    <tr>\n",
       "      <th>3</th>\n",
       "      <td>Anthonis Mor Van Dashorst</td>\n",
       "      <td>Utrecht</td>\n",
       "      <td>Anthonis Mor, also known as Anthonis Mor van D...</td>\n",
       "    </tr>\n",
       "    <tr>\n",
       "      <th>4</th>\n",
       "      <td>Carel Fabritius</td>\n",
       "      <td>Middenbeemster</td>\n",
       "      <td>Carel Pietersz. Fabritius (Dutch pronunciation...</td>\n",
       "    </tr>\n",
       "  </tbody>\n",
       "</table>\n",
       "</div>"
      ],
      "text/plain": [
       "                               artist     birth_place  \\\n",
       "0  (Giovanni Antonio Canal) Canaletto          Venice   \n",
       "1  (Giovanni Antonio Canal) Canaletto          Venice   \n",
       "2                  Alexis-Simon Belle           Paris   \n",
       "3           Anthonis Mor Van Dashorst         Utrecht   \n",
       "4                     Carel Fabritius  Middenbeemster   \n",
       "\n",
       "                                             summary  \n",
       "0  Giovanni Antonio Canal (18 October 1697 – 19 A...  \n",
       "1  Giovanni Antonio Canal (18 October 1697 – 19 A...  \n",
       "2  Alexis Simon Belle (12 January 1674 – 21 Novem...  \n",
       "3  Anthonis Mor, also known as Anthonis Mor van D...  \n",
       "4  Carel Pietersz. Fabritius (Dutch pronunciation...  "
      ]
     },
     "execution_count": 21,
     "metadata": {},
     "output_type": "execute_result"
    }
   ],
   "source": [
    "df = enter_new_column(df)\n",
    "df.head()"
   ]
  },
  {
   "cell_type": "code",
   "execution_count": null,
   "metadata": {},
   "outputs": [],
   "source": [
    "import plotly.express as px\n",
    "\n",
    "fig = px.scatter_geo(birth, locations=\"location\",\n",
    "                    locationmode = 'country names',\n",
    "                    projection=\"natural earth\")\n",
    "fig.show()"
   ]
  },
  {
   "cell_type": "code",
   "execution_count": null,
   "metadata": {},
   "outputs": [],
   "source": [
    "txt = df['summary'].iloc[65]\n",
    "\n",
    "import datefinder\n",
    "\n",
    "matches = datefinder.find_dates(txt)\n",
    "\n",
    "for match in matches:\n",
    "    print(match)\n",
    "\n",
    "print(txt)\n",
    "\n",
    "import re\n",
    "re.findall(r'\\d+', txt)"
   ]
  },
  {
   "attachments": {},
   "cell_type": "markdown",
   "metadata": {},
   "source": [
    "## Artists and Movements"
   ]
  },
  {
   "cell_type": "code",
   "execution_count": 99,
   "metadata": {},
   "outputs": [],
   "source": [
    "df_mov = pl.from_dicts(graph.run(\"\"\"\n",
    "    match (a: Artist) -- (m: Movement)\n",
    "    return a.name as artist, m.name as movement\n",
    "    order by artist;\n",
    "\"\"\").data(), schema={\"artist\": str, \"movement\": str}).to_pandas()"
   ]
  },
  {
   "cell_type": "code",
   "execution_count": 102,
   "metadata": {},
   "outputs": [
    {
     "name": "stderr",
     "output_type": "stream",
     "text": [
      "/tmp/ipykernel_4696/1397651301.py:1: FutureWarning:\n",
      "\n",
      "The default value of regex will change from True to False in a future version.\n",
      "\n"
     ]
    },
    {
     "data": {
      "text/html": [
       "<div>\n",
       "<style scoped>\n",
       "    .dataframe tbody tr th:only-of-type {\n",
       "        vertical-align: middle;\n",
       "    }\n",
       "\n",
       "    .dataframe tbody tr th {\n",
       "        vertical-align: top;\n",
       "    }\n",
       "\n",
       "    .dataframe thead th {\n",
       "        text-align: right;\n",
       "    }\n",
       "</style>\n",
       "<table border=\"1\" class=\"dataframe\">\n",
       "  <thead>\n",
       "    <tr style=\"text-align: right;\">\n",
       "      <th></th>\n",
       "      <th>artist</th>\n",
       "      <th>movement</th>\n",
       "    </tr>\n",
       "  </thead>\n",
       "  <tbody>\n",
       "    <tr>\n",
       "      <th>244</th>\n",
       "      <td>William James Muller</td>\n",
       "      <td>Bristol School</td>\n",
       "    </tr>\n",
       "    <tr>\n",
       "      <th>245</th>\n",
       "      <td>William James Muller</td>\n",
       "      <td>Orientalism</td>\n",
       "    </tr>\n",
       "    <tr>\n",
       "      <th>246</th>\n",
       "      <td>William Merritt Chase</td>\n",
       "      <td>Impressionism</td>\n",
       "    </tr>\n",
       "    <tr>\n",
       "      <th>247</th>\n",
       "      <td>William-Adolphe Bouguereau</td>\n",
       "      <td>Academism</td>\n",
       "    </tr>\n",
       "    <tr>\n",
       "      <th>248</th>\n",
       "      <td>William-Adolphe Bouguereau</td>\n",
       "      <td>Realism</td>\n",
       "    </tr>\n",
       "  </tbody>\n",
       "</table>\n",
       "</div>"
      ],
      "text/plain": [
       "                         artist        movement\n",
       "244        William James Muller  Bristol School\n",
       "245        William James Muller     Orientalism\n",
       "246       William Merritt Chase   Impressionism\n",
       "247  William-Adolphe Bouguereau       Academism\n",
       "248  William-Adolphe Bouguereau         Realism"
      ]
     },
     "execution_count": 102,
     "metadata": {},
     "output_type": "execute_result"
    }
   ],
   "source": [
    "df_mov['artist'] = df_mov['artist'].str.replace('\\(after\\) ', '')\n",
    "# drop row with \"and ...\"\n",
    "df_mov = df_mov.drop_duplicates()[:-1]\n",
    "df_mov.tail()"
   ]
  },
  {
   "cell_type": "code",
   "execution_count": 103,
   "metadata": {},
   "outputs": [
    {
     "data": {
      "text/html": [
       "<div>\n",
       "<style scoped>\n",
       "    .dataframe tbody tr th:only-of-type {\n",
       "        vertical-align: middle;\n",
       "    }\n",
       "\n",
       "    .dataframe tbody tr th {\n",
       "        vertical-align: top;\n",
       "    }\n",
       "\n",
       "    .dataframe thead th {\n",
       "        text-align: right;\n",
       "    }\n",
       "</style>\n",
       "<table border=\"1\" class=\"dataframe\">\n",
       "  <thead>\n",
       "    <tr style=\"text-align: right;\">\n",
       "      <th></th>\n",
       "      <th>Movement</th>\n",
       "      <th>Count</th>\n",
       "    </tr>\n",
       "  </thead>\n",
       "  <tbody>\n",
       "    <tr>\n",
       "      <th>0</th>\n",
       "      <td>Vienna Secession</td>\n",
       "      <td>1</td>\n",
       "    </tr>\n",
       "    <tr>\n",
       "      <th>1</th>\n",
       "      <td>Utagawa School</td>\n",
       "      <td>1</td>\n",
       "    </tr>\n",
       "    <tr>\n",
       "      <th>2</th>\n",
       "      <td>Synthetism</td>\n",
       "      <td>1</td>\n",
       "    </tr>\n",
       "    <tr>\n",
       "      <th>3</th>\n",
       "      <td>Suprematism</td>\n",
       "      <td>1</td>\n",
       "    </tr>\n",
       "    <tr>\n",
       "      <th>4</th>\n",
       "      <td>Rocky Mountain School</td>\n",
       "      <td>1</td>\n",
       "    </tr>\n",
       "  </tbody>\n",
       "</table>\n",
       "</div>"
      ],
      "text/plain": [
       "                Movement  Count\n",
       "0       Vienna Secession      1\n",
       "1         Utagawa School      1\n",
       "2             Synthetism      1\n",
       "3            Suprematism      1\n",
       "4  Rocky Mountain School      1"
      ]
     },
     "execution_count": 103,
     "metadata": {},
     "output_type": "execute_result"
    }
   ],
   "source": [
    "movement_sum = df_mov.movement.value_counts().reset_index()\n",
    "movement_sum.columns = ['Movement', 'Count']\n",
    "movement_sum.sort_values(by=['Count', 'Movement'], inplace=True, ascending = [True, False])\n",
    "movement_sum = movement_sum.reset_index(drop=True)\n",
    "movement_sum.head()"
   ]
  },
  {
   "cell_type": "code",
   "execution_count": 184,
   "metadata": {},
   "outputs": [],
   "source": [
    "def hex_to_RGB(hex_str):\n",
    "    \"\"\" #FFFFFF -> [255,255,255]\"\"\"\n",
    "    #Pass 16 to the integer function for change of base\n",
    "    return [int(hex_str[i:i+2], 16) for i in range(1,6,2)]\n",
    "\n",
    "def get_color_gradient(c1, c2, n):\n",
    "    \"\"\"\n",
    "    Given two hex colors, returns a color gradient\n",
    "    with n colors.\n",
    "    \"\"\"\n",
    "    assert n > 1\n",
    "    c1_rgb = np.array(hex_to_RGB(c1))/255\n",
    "    c2_rgb = np.array(hex_to_RGB(c2))/255\n",
    "    mix_pcts = [x/(n-1) for x in range(n)]\n",
    "    rgb_colors = [((1-mix)*c1_rgb + (mix*c2_rgb)) for mix in mix_pcts]\n",
    "    return [\"#\" + \"\".join([format(int(round(val*255)), \"02x\") for val in item]) for item in rgb_colors]"
   ]
  },
  {
   "cell_type": "code",
   "execution_count": 183,
   "metadata": {},
   "outputs": [],
   "source": [
    "color_1 = '#CCEECD'\n",
    "color_2 = '#0F7620'"
   ]
  },
  {
   "cell_type": "code",
   "execution_count": 32,
   "metadata": {},
   "outputs": [],
   "source": [
    "\n",
    "color = movement_sum['Count'].value_counts().reset_index()\n",
    "color.columns = ['Color', 'Count']\n",
    "my_color_temp= get_color_gradient(color_1, color_2, len(color))\n",
    "\n",
    "a = 0\n",
    "my_color = []\n",
    "for i in list(color['Count']):\n",
    "    my_color += i * [my_color_temp[a]]\n",
    "    a = a + 1"
   ]
  },
  {
   "cell_type": "code",
   "execution_count": 31,
   "metadata": {},
   "outputs": [
    {
     "data": {
      "application/vnd.plotly.v1+json": {
       "config": {
        "plotlyServerURL": "https://plot.ly"
       },
       "data": [
        {
         "marker": {
          "color": [
           "#cceecd",
           "#cceecd",
           "#cceecd",
           "#cceecd",
           "#cceecd",
           "#cceecd",
           "#cceecd",
           "#cceecd",
           "#cceecd",
           "#cceecd",
           "#cceecd",
           "#cceecd",
           "#cceecd",
           "#cceecd",
           "#cceecd",
           "#cceecd",
           "#cceecd",
           "#cceecd",
           "#cceecd",
           "#cceecd",
           "#cceecd",
           "#cceecd",
           "#cceecd",
           "#cceecd",
           "#cceecd",
           "#cceecd",
           "#bee5c1",
           "#bee5c1",
           "#bee5c1",
           "#bee5c1",
           "#bee5c1",
           "#bee5c1",
           "#bee5c1",
           "#bee5c1",
           "#b1ddb4",
           "#b1ddb4",
           "#b1ddb4",
           "#b1ddb4",
           "#a3d4a8",
           "#a3d4a8",
           "#96cc9c",
           "#96cc9c",
           "#88c38f",
           "#88c38f",
           "#7bbb83",
           "#7bbb83",
           "#6eb276",
           "#60a96a",
           "#52a15e",
           "#459851",
           "#389045",
           "#2a8739",
           "#1c7f2c",
           "#0f7620"
          ],
          "size": 6
         },
         "mode": "markers",
         "type": "scatter",
         "x": [
          1,
          1,
          1,
          1,
          1,
          1,
          1,
          1,
          1,
          1,
          1,
          1,
          1,
          1,
          1,
          1,
          1,
          1,
          1,
          1,
          1,
          1,
          1,
          1,
          1,
          1,
          2,
          2,
          2,
          2,
          2,
          2,
          2,
          2,
          3,
          3,
          3,
          3,
          4,
          5,
          5,
          6,
          6,
          7,
          7,
          9,
          10,
          11,
          15,
          18,
          19,
          19,
          23,
          33
         ],
         "y": [
          "Vienna Secession",
          "Utagawa School",
          "Synthetism",
          "Suprematism",
          "Rocky Mountain School",
          "Regionalism",
          "Purismo",
          "Primitivism",
          "Pointillism",
          "Norwich School",
          "Muralism",
          "Munich School",
          "Les Nabis",
          "Intimism",
          "Heidelberg School",
          "Futurism",
          "Fauvism",
          "Early Netherlandish",
          "Dusseldorf School",
          "Decadent Movement",
          "Bristol School",
          "Berlin Secession",
          "Bauhaus",
          "Avant-Garde",
          "Ashcan School",
          "Abstract",
          "Newlyn School",
          "Neo-Impressionism",
          "Modernism",
          "Gothic",
          "Divisionism",
          "Barbizon School",
          "Animalier",
          "Aestheticism",
          "Venetian School",
          "Tonalism",
          "Surrealism",
          "Luminism",
          "Dutch Golden Age",
          "Mannerism",
          "Art Nouveau",
          "Hudson River School",
          "Expressionism",
          "Pre-Raphaelite Brotherhood",
          "Neoclassicism",
          "Academism",
          "Symbolism",
          "Post-Impressionism",
          "Orientalism",
          "Romanticism",
          "Realism",
          "Impressionism",
          "Renaissance",
          "Baroque"
         ]
        }
       ],
       "layout": {
        "autosize": false,
        "height": 650,
        "margin": {
         "b": 25,
         "l": 25,
         "r": 25,
         "t": 45
        },
        "plot_bgcolor": "rgb(242,242,242)",
        "shapes": [
         {
          "line": {
           "color": "#cceecd"
          },
          "type": "line",
          "x0": 0,
          "x1": 1,
          "y0": 0,
          "y1": 0
         },
         {
          "line": {
           "color": "#cceecd"
          },
          "type": "line",
          "x0": 0,
          "x1": 1,
          "y0": 1,
          "y1": 1
         },
         {
          "line": {
           "color": "#cceecd"
          },
          "type": "line",
          "x0": 0,
          "x1": 1,
          "y0": 2,
          "y1": 2
         },
         {
          "line": {
           "color": "#cceecd"
          },
          "type": "line",
          "x0": 0,
          "x1": 1,
          "y0": 3,
          "y1": 3
         },
         {
          "line": {
           "color": "#cceecd"
          },
          "type": "line",
          "x0": 0,
          "x1": 1,
          "y0": 4,
          "y1": 4
         },
         {
          "line": {
           "color": "#cceecd"
          },
          "type": "line",
          "x0": 0,
          "x1": 1,
          "y0": 5,
          "y1": 5
         },
         {
          "line": {
           "color": "#cceecd"
          },
          "type": "line",
          "x0": 0,
          "x1": 1,
          "y0": 6,
          "y1": 6
         },
         {
          "line": {
           "color": "#cceecd"
          },
          "type": "line",
          "x0": 0,
          "x1": 1,
          "y0": 7,
          "y1": 7
         },
         {
          "line": {
           "color": "#cceecd"
          },
          "type": "line",
          "x0": 0,
          "x1": 1,
          "y0": 8,
          "y1": 8
         },
         {
          "line": {
           "color": "#cceecd"
          },
          "type": "line",
          "x0": 0,
          "x1": 1,
          "y0": 9,
          "y1": 9
         },
         {
          "line": {
           "color": "#cceecd"
          },
          "type": "line",
          "x0": 0,
          "x1": 1,
          "y0": 10,
          "y1": 10
         },
         {
          "line": {
           "color": "#cceecd"
          },
          "type": "line",
          "x0": 0,
          "x1": 1,
          "y0": 11,
          "y1": 11
         },
         {
          "line": {
           "color": "#cceecd"
          },
          "type": "line",
          "x0": 0,
          "x1": 1,
          "y0": 12,
          "y1": 12
         },
         {
          "line": {
           "color": "#cceecd"
          },
          "type": "line",
          "x0": 0,
          "x1": 1,
          "y0": 13,
          "y1": 13
         },
         {
          "line": {
           "color": "#cceecd"
          },
          "type": "line",
          "x0": 0,
          "x1": 1,
          "y0": 14,
          "y1": 14
         },
         {
          "line": {
           "color": "#cceecd"
          },
          "type": "line",
          "x0": 0,
          "x1": 1,
          "y0": 15,
          "y1": 15
         },
         {
          "line": {
           "color": "#cceecd"
          },
          "type": "line",
          "x0": 0,
          "x1": 1,
          "y0": 16,
          "y1": 16
         },
         {
          "line": {
           "color": "#cceecd"
          },
          "type": "line",
          "x0": 0,
          "x1": 1,
          "y0": 17,
          "y1": 17
         },
         {
          "line": {
           "color": "#cceecd"
          },
          "type": "line",
          "x0": 0,
          "x1": 1,
          "y0": 18,
          "y1": 18
         },
         {
          "line": {
           "color": "#cceecd"
          },
          "type": "line",
          "x0": 0,
          "x1": 1,
          "y0": 19,
          "y1": 19
         },
         {
          "line": {
           "color": "#cceecd"
          },
          "type": "line",
          "x0": 0,
          "x1": 1,
          "y0": 20,
          "y1": 20
         },
         {
          "line": {
           "color": "#cceecd"
          },
          "type": "line",
          "x0": 0,
          "x1": 1,
          "y0": 21,
          "y1": 21
         },
         {
          "line": {
           "color": "#cceecd"
          },
          "type": "line",
          "x0": 0,
          "x1": 1,
          "y0": 22,
          "y1": 22
         },
         {
          "line": {
           "color": "#cceecd"
          },
          "type": "line",
          "x0": 0,
          "x1": 1,
          "y0": 23,
          "y1": 23
         },
         {
          "line": {
           "color": "#cceecd"
          },
          "type": "line",
          "x0": 0,
          "x1": 1,
          "y0": 24,
          "y1": 24
         },
         {
          "line": {
           "color": "#cceecd"
          },
          "type": "line",
          "x0": 0,
          "x1": 1,
          "y0": 25,
          "y1": 25
         },
         {
          "line": {
           "color": "#bee5c1"
          },
          "type": "line",
          "x0": 0,
          "x1": 2,
          "y0": 26,
          "y1": 26
         },
         {
          "line": {
           "color": "#bee5c1"
          },
          "type": "line",
          "x0": 0,
          "x1": 2,
          "y0": 27,
          "y1": 27
         },
         {
          "line": {
           "color": "#bee5c1"
          },
          "type": "line",
          "x0": 0,
          "x1": 2,
          "y0": 28,
          "y1": 28
         },
         {
          "line": {
           "color": "#bee5c1"
          },
          "type": "line",
          "x0": 0,
          "x1": 2,
          "y0": 29,
          "y1": 29
         },
         {
          "line": {
           "color": "#bee5c1"
          },
          "type": "line",
          "x0": 0,
          "x1": 2,
          "y0": 30,
          "y1": 30
         },
         {
          "line": {
           "color": "#bee5c1"
          },
          "type": "line",
          "x0": 0,
          "x1": 2,
          "y0": 31,
          "y1": 31
         },
         {
          "line": {
           "color": "#bee5c1"
          },
          "type": "line",
          "x0": 0,
          "x1": 2,
          "y0": 32,
          "y1": 32
         },
         {
          "line": {
           "color": "#bee5c1"
          },
          "type": "line",
          "x0": 0,
          "x1": 2,
          "y0": 33,
          "y1": 33
         },
         {
          "line": {
           "color": "#b1ddb4"
          },
          "type": "line",
          "x0": 0,
          "x1": 3,
          "y0": 34,
          "y1": 34
         },
         {
          "line": {
           "color": "#b1ddb4"
          },
          "type": "line",
          "x0": 0,
          "x1": 3,
          "y0": 35,
          "y1": 35
         },
         {
          "line": {
           "color": "#b1ddb4"
          },
          "type": "line",
          "x0": 0,
          "x1": 3,
          "y0": 36,
          "y1": 36
         },
         {
          "line": {
           "color": "#b1ddb4"
          },
          "type": "line",
          "x0": 0,
          "x1": 3,
          "y0": 37,
          "y1": 37
         },
         {
          "line": {
           "color": "#a3d4a8"
          },
          "type": "line",
          "x0": 0,
          "x1": 4,
          "y0": 38,
          "y1": 38
         },
         {
          "line": {
           "color": "#a3d4a8"
          },
          "type": "line",
          "x0": 0,
          "x1": 5,
          "y0": 39,
          "y1": 39
         },
         {
          "line": {
           "color": "#96cc9c"
          },
          "type": "line",
          "x0": 0,
          "x1": 5,
          "y0": 40,
          "y1": 40
         },
         {
          "line": {
           "color": "#96cc9c"
          },
          "type": "line",
          "x0": 0,
          "x1": 6,
          "y0": 41,
          "y1": 41
         },
         {
          "line": {
           "color": "#88c38f"
          },
          "type": "line",
          "x0": 0,
          "x1": 6,
          "y0": 42,
          "y1": 42
         },
         {
          "line": {
           "color": "#88c38f"
          },
          "type": "line",
          "x0": 0,
          "x1": 7,
          "y0": 43,
          "y1": 43
         },
         {
          "line": {
           "color": "#7bbb83"
          },
          "type": "line",
          "x0": 0,
          "x1": 7,
          "y0": 44,
          "y1": 44
         },
         {
          "line": {
           "color": "#7bbb83"
          },
          "type": "line",
          "x0": 0,
          "x1": 9,
          "y0": 45,
          "y1": 45
         },
         {
          "line": {
           "color": "#6eb276"
          },
          "type": "line",
          "x0": 0,
          "x1": 10,
          "y0": 46,
          "y1": 46
         },
         {
          "line": {
           "color": "#60a96a"
          },
          "type": "line",
          "x0": 0,
          "x1": 11,
          "y0": 47,
          "y1": 47
         },
         {
          "line": {
           "color": "#52a15e"
          },
          "type": "line",
          "x0": 0,
          "x1": 15,
          "y0": 48,
          "y1": 48
         },
         {
          "line": {
           "color": "#459851"
          },
          "type": "line",
          "x0": 0,
          "x1": 18,
          "y0": 49,
          "y1": 49
         },
         {
          "line": {
           "color": "#389045"
          },
          "type": "line",
          "x0": 0,
          "x1": 19,
          "y0": 50,
          "y1": 50
         },
         {
          "line": {
           "color": "#2a8739"
          },
          "type": "line",
          "x0": 0,
          "x1": 19,
          "y0": 51,
          "y1": 51
         },
         {
          "line": {
           "color": "#1c7f2c"
          },
          "type": "line",
          "x0": 0,
          "x1": 23,
          "y0": 52,
          "y1": 52
         },
         {
          "line": {
           "color": "#0f7620"
          },
          "type": "line",
          "x0": 0,
          "x1": 33,
          "y0": 53,
          "y1": 53
         }
        ],
        "template": {
         "data": {
          "bar": [
           {
            "error_x": {
             "color": "#2a3f5f"
            },
            "error_y": {
             "color": "#2a3f5f"
            },
            "marker": {
             "line": {
              "color": "#E5ECF6",
              "width": 0.5
             },
             "pattern": {
              "fillmode": "overlay",
              "size": 10,
              "solidity": 0.2
             }
            },
            "type": "bar"
           }
          ],
          "barpolar": [
           {
            "marker": {
             "line": {
              "color": "#E5ECF6",
              "width": 0.5
             },
             "pattern": {
              "fillmode": "overlay",
              "size": 10,
              "solidity": 0.2
             }
            },
            "type": "barpolar"
           }
          ],
          "carpet": [
           {
            "aaxis": {
             "endlinecolor": "#2a3f5f",
             "gridcolor": "white",
             "linecolor": "white",
             "minorgridcolor": "white",
             "startlinecolor": "#2a3f5f"
            },
            "baxis": {
             "endlinecolor": "#2a3f5f",
             "gridcolor": "white",
             "linecolor": "white",
             "minorgridcolor": "white",
             "startlinecolor": "#2a3f5f"
            },
            "type": "carpet"
           }
          ],
          "choropleth": [
           {
            "colorbar": {
             "outlinewidth": 0,
             "ticks": ""
            },
            "type": "choropleth"
           }
          ],
          "contour": [
           {
            "colorbar": {
             "outlinewidth": 0,
             "ticks": ""
            },
            "colorscale": [
             [
              0,
              "#0d0887"
             ],
             [
              0.1111111111111111,
              "#46039f"
             ],
             [
              0.2222222222222222,
              "#7201a8"
             ],
             [
              0.3333333333333333,
              "#9c179e"
             ],
             [
              0.4444444444444444,
              "#bd3786"
             ],
             [
              0.5555555555555556,
              "#d8576b"
             ],
             [
              0.6666666666666666,
              "#ed7953"
             ],
             [
              0.7777777777777778,
              "#fb9f3a"
             ],
             [
              0.8888888888888888,
              "#fdca26"
             ],
             [
              1,
              "#f0f921"
             ]
            ],
            "type": "contour"
           }
          ],
          "contourcarpet": [
           {
            "colorbar": {
             "outlinewidth": 0,
             "ticks": ""
            },
            "type": "contourcarpet"
           }
          ],
          "heatmap": [
           {
            "colorbar": {
             "outlinewidth": 0,
             "ticks": ""
            },
            "colorscale": [
             [
              0,
              "#0d0887"
             ],
             [
              0.1111111111111111,
              "#46039f"
             ],
             [
              0.2222222222222222,
              "#7201a8"
             ],
             [
              0.3333333333333333,
              "#9c179e"
             ],
             [
              0.4444444444444444,
              "#bd3786"
             ],
             [
              0.5555555555555556,
              "#d8576b"
             ],
             [
              0.6666666666666666,
              "#ed7953"
             ],
             [
              0.7777777777777778,
              "#fb9f3a"
             ],
             [
              0.8888888888888888,
              "#fdca26"
             ],
             [
              1,
              "#f0f921"
             ]
            ],
            "type": "heatmap"
           }
          ],
          "heatmapgl": [
           {
            "colorbar": {
             "outlinewidth": 0,
             "ticks": ""
            },
            "colorscale": [
             [
              0,
              "#0d0887"
             ],
             [
              0.1111111111111111,
              "#46039f"
             ],
             [
              0.2222222222222222,
              "#7201a8"
             ],
             [
              0.3333333333333333,
              "#9c179e"
             ],
             [
              0.4444444444444444,
              "#bd3786"
             ],
             [
              0.5555555555555556,
              "#d8576b"
             ],
             [
              0.6666666666666666,
              "#ed7953"
             ],
             [
              0.7777777777777778,
              "#fb9f3a"
             ],
             [
              0.8888888888888888,
              "#fdca26"
             ],
             [
              1,
              "#f0f921"
             ]
            ],
            "type": "heatmapgl"
           }
          ],
          "histogram": [
           {
            "marker": {
             "pattern": {
              "fillmode": "overlay",
              "size": 10,
              "solidity": 0.2
             }
            },
            "type": "histogram"
           }
          ],
          "histogram2d": [
           {
            "colorbar": {
             "outlinewidth": 0,
             "ticks": ""
            },
            "colorscale": [
             [
              0,
              "#0d0887"
             ],
             [
              0.1111111111111111,
              "#46039f"
             ],
             [
              0.2222222222222222,
              "#7201a8"
             ],
             [
              0.3333333333333333,
              "#9c179e"
             ],
             [
              0.4444444444444444,
              "#bd3786"
             ],
             [
              0.5555555555555556,
              "#d8576b"
             ],
             [
              0.6666666666666666,
              "#ed7953"
             ],
             [
              0.7777777777777778,
              "#fb9f3a"
             ],
             [
              0.8888888888888888,
              "#fdca26"
             ],
             [
              1,
              "#f0f921"
             ]
            ],
            "type": "histogram2d"
           }
          ],
          "histogram2dcontour": [
           {
            "colorbar": {
             "outlinewidth": 0,
             "ticks": ""
            },
            "colorscale": [
             [
              0,
              "#0d0887"
             ],
             [
              0.1111111111111111,
              "#46039f"
             ],
             [
              0.2222222222222222,
              "#7201a8"
             ],
             [
              0.3333333333333333,
              "#9c179e"
             ],
             [
              0.4444444444444444,
              "#bd3786"
             ],
             [
              0.5555555555555556,
              "#d8576b"
             ],
             [
              0.6666666666666666,
              "#ed7953"
             ],
             [
              0.7777777777777778,
              "#fb9f3a"
             ],
             [
              0.8888888888888888,
              "#fdca26"
             ],
             [
              1,
              "#f0f921"
             ]
            ],
            "type": "histogram2dcontour"
           }
          ],
          "mesh3d": [
           {
            "colorbar": {
             "outlinewidth": 0,
             "ticks": ""
            },
            "type": "mesh3d"
           }
          ],
          "parcoords": [
           {
            "line": {
             "colorbar": {
              "outlinewidth": 0,
              "ticks": ""
             }
            },
            "type": "parcoords"
           }
          ],
          "pie": [
           {
            "automargin": true,
            "type": "pie"
           }
          ],
          "scatter": [
           {
            "fillpattern": {
             "fillmode": "overlay",
             "size": 10,
             "solidity": 0.2
            },
            "type": "scatter"
           }
          ],
          "scatter3d": [
           {
            "line": {
             "colorbar": {
              "outlinewidth": 0,
              "ticks": ""
             }
            },
            "marker": {
             "colorbar": {
              "outlinewidth": 0,
              "ticks": ""
             }
            },
            "type": "scatter3d"
           }
          ],
          "scattercarpet": [
           {
            "marker": {
             "colorbar": {
              "outlinewidth": 0,
              "ticks": ""
             }
            },
            "type": "scattercarpet"
           }
          ],
          "scattergeo": [
           {
            "marker": {
             "colorbar": {
              "outlinewidth": 0,
              "ticks": ""
             }
            },
            "type": "scattergeo"
           }
          ],
          "scattergl": [
           {
            "marker": {
             "colorbar": {
              "outlinewidth": 0,
              "ticks": ""
             }
            },
            "type": "scattergl"
           }
          ],
          "scattermapbox": [
           {
            "marker": {
             "colorbar": {
              "outlinewidth": 0,
              "ticks": ""
             }
            },
            "type": "scattermapbox"
           }
          ],
          "scatterpolar": [
           {
            "marker": {
             "colorbar": {
              "outlinewidth": 0,
              "ticks": ""
             }
            },
            "type": "scatterpolar"
           }
          ],
          "scatterpolargl": [
           {
            "marker": {
             "colorbar": {
              "outlinewidth": 0,
              "ticks": ""
             }
            },
            "type": "scatterpolargl"
           }
          ],
          "scatterternary": [
           {
            "marker": {
             "colorbar": {
              "outlinewidth": 0,
              "ticks": ""
             }
            },
            "type": "scatterternary"
           }
          ],
          "surface": [
           {
            "colorbar": {
             "outlinewidth": 0,
             "ticks": ""
            },
            "colorscale": [
             [
              0,
              "#0d0887"
             ],
             [
              0.1111111111111111,
              "#46039f"
             ],
             [
              0.2222222222222222,
              "#7201a8"
             ],
             [
              0.3333333333333333,
              "#9c179e"
             ],
             [
              0.4444444444444444,
              "#bd3786"
             ],
             [
              0.5555555555555556,
              "#d8576b"
             ],
             [
              0.6666666666666666,
              "#ed7953"
             ],
             [
              0.7777777777777778,
              "#fb9f3a"
             ],
             [
              0.8888888888888888,
              "#fdca26"
             ],
             [
              1,
              "#f0f921"
             ]
            ],
            "type": "surface"
           }
          ],
          "table": [
           {
            "cells": {
             "fill": {
              "color": "#EBF0F8"
             },
             "line": {
              "color": "white"
             }
            },
            "header": {
             "fill": {
              "color": "#C8D4E3"
             },
             "line": {
              "color": "white"
             }
            },
            "type": "table"
           }
          ]
         },
         "layout": {
          "annotationdefaults": {
           "arrowcolor": "#2a3f5f",
           "arrowhead": 0,
           "arrowwidth": 1
          },
          "autotypenumbers": "strict",
          "coloraxis": {
           "colorbar": {
            "outlinewidth": 0,
            "ticks": ""
           }
          },
          "colorscale": {
           "diverging": [
            [
             0,
             "#8e0152"
            ],
            [
             0.1,
             "#c51b7d"
            ],
            [
             0.2,
             "#de77ae"
            ],
            [
             0.3,
             "#f1b6da"
            ],
            [
             0.4,
             "#fde0ef"
            ],
            [
             0.5,
             "#f7f7f7"
            ],
            [
             0.6,
             "#e6f5d0"
            ],
            [
             0.7,
             "#b8e186"
            ],
            [
             0.8,
             "#7fbc41"
            ],
            [
             0.9,
             "#4d9221"
            ],
            [
             1,
             "#276419"
            ]
           ],
           "sequential": [
            [
             0,
             "#0d0887"
            ],
            [
             0.1111111111111111,
             "#46039f"
            ],
            [
             0.2222222222222222,
             "#7201a8"
            ],
            [
             0.3333333333333333,
             "#9c179e"
            ],
            [
             0.4444444444444444,
             "#bd3786"
            ],
            [
             0.5555555555555556,
             "#d8576b"
            ],
            [
             0.6666666666666666,
             "#ed7953"
            ],
            [
             0.7777777777777778,
             "#fb9f3a"
            ],
            [
             0.8888888888888888,
             "#fdca26"
            ],
            [
             1,
             "#f0f921"
            ]
           ],
           "sequentialminus": [
            [
             0,
             "#0d0887"
            ],
            [
             0.1111111111111111,
             "#46039f"
            ],
            [
             0.2222222222222222,
             "#7201a8"
            ],
            [
             0.3333333333333333,
             "#9c179e"
            ],
            [
             0.4444444444444444,
             "#bd3786"
            ],
            [
             0.5555555555555556,
             "#d8576b"
            ],
            [
             0.6666666666666666,
             "#ed7953"
            ],
            [
             0.7777777777777778,
             "#fb9f3a"
            ],
            [
             0.8888888888888888,
             "#fdca26"
            ],
            [
             1,
             "#f0f921"
            ]
           ]
          },
          "colorway": [
           "#636efa",
           "#EF553B",
           "#00cc96",
           "#ab63fa",
           "#FFA15A",
           "#19d3f3",
           "#FF6692",
           "#B6E880",
           "#FF97FF",
           "#FECB52"
          ],
          "font": {
           "color": "#2a3f5f"
          },
          "geo": {
           "bgcolor": "white",
           "lakecolor": "white",
           "landcolor": "#E5ECF6",
           "showlakes": true,
           "showland": true,
           "subunitcolor": "white"
          },
          "hoverlabel": {
           "align": "left"
          },
          "hovermode": "closest",
          "mapbox": {
           "style": "light"
          },
          "paper_bgcolor": "white",
          "plot_bgcolor": "#E5ECF6",
          "polar": {
           "angularaxis": {
            "gridcolor": "white",
            "linecolor": "white",
            "ticks": ""
           },
           "bgcolor": "#E5ECF6",
           "radialaxis": {
            "gridcolor": "white",
            "linecolor": "white",
            "ticks": ""
           }
          },
          "scene": {
           "xaxis": {
            "backgroundcolor": "#E5ECF6",
            "gridcolor": "white",
            "gridwidth": 2,
            "linecolor": "white",
            "showbackground": true,
            "ticks": "",
            "zerolinecolor": "white"
           },
           "yaxis": {
            "backgroundcolor": "#E5ECF6",
            "gridcolor": "white",
            "gridwidth": 2,
            "linecolor": "white",
            "showbackground": true,
            "ticks": "",
            "zerolinecolor": "white"
           },
           "zaxis": {
            "backgroundcolor": "#E5ECF6",
            "gridcolor": "white",
            "gridwidth": 2,
            "linecolor": "white",
            "showbackground": true,
            "ticks": "",
            "zerolinecolor": "white"
           }
          },
          "shapedefaults": {
           "line": {
            "color": "#2a3f5f"
           }
          },
          "ternary": {
           "aaxis": {
            "gridcolor": "white",
            "linecolor": "white",
            "ticks": ""
           },
           "baxis": {
            "gridcolor": "white",
            "linecolor": "white",
            "ticks": ""
           },
           "bgcolor": "#E5ECF6",
           "caxis": {
            "gridcolor": "white",
            "linecolor": "white",
            "ticks": ""
           }
          },
          "title": {
           "x": 0.05
          },
          "xaxis": {
           "automargin": true,
           "gridcolor": "white",
           "linecolor": "white",
           "ticks": "",
           "title": {
            "standoff": 15
           },
           "zerolinecolor": "white",
           "zerolinewidth": 2
          },
          "yaxis": {
           "automargin": true,
           "gridcolor": "white",
           "linecolor": "white",
           "ticks": "",
           "title": {
            "standoff": 15
           },
           "zerolinecolor": "white",
           "zerolinewidth": 2
          }
         }
        },
        "title": {
         "font": {
          "size": 20
         },
         "text": "Artistic Movements",
         "x": 0.5
        },
        "width": 800,
        "xaxis": {
         "range": [
          0,
          38
         ],
         "title": {
          "text": "Number of Artists"
         }
        },
        "yaxis": {
         "tickfont": {
          "size": 9
         },
         "tickmode": "linear",
         "title": {
          "text": "Movemenet"
         }
        }
       }
      },
      "text/html": [
       "<div>                            <div id=\"8ddea23f-5928-4e28-9080-c1898fcfc21e\" class=\"plotly-graph-div\" style=\"height:650px; width:800px;\"></div>            <script type=\"text/javascript\">                require([\"plotly\"], function(Plotly) {                    window.PLOTLYENV=window.PLOTLYENV || {};                                    if (document.getElementById(\"8ddea23f-5928-4e28-9080-c1898fcfc21e\")) {                    Plotly.newPlot(                        \"8ddea23f-5928-4e28-9080-c1898fcfc21e\",                        [{\"marker\":{\"color\":[\"#cceecd\",\"#cceecd\",\"#cceecd\",\"#cceecd\",\"#cceecd\",\"#cceecd\",\"#cceecd\",\"#cceecd\",\"#cceecd\",\"#cceecd\",\"#cceecd\",\"#cceecd\",\"#cceecd\",\"#cceecd\",\"#cceecd\",\"#cceecd\",\"#cceecd\",\"#cceecd\",\"#cceecd\",\"#cceecd\",\"#cceecd\",\"#cceecd\",\"#cceecd\",\"#cceecd\",\"#cceecd\",\"#cceecd\",\"#bee5c1\",\"#bee5c1\",\"#bee5c1\",\"#bee5c1\",\"#bee5c1\",\"#bee5c1\",\"#bee5c1\",\"#bee5c1\",\"#b1ddb4\",\"#b1ddb4\",\"#b1ddb4\",\"#b1ddb4\",\"#a3d4a8\",\"#a3d4a8\",\"#96cc9c\",\"#96cc9c\",\"#88c38f\",\"#88c38f\",\"#7bbb83\",\"#7bbb83\",\"#6eb276\",\"#60a96a\",\"#52a15e\",\"#459851\",\"#389045\",\"#2a8739\",\"#1c7f2c\",\"#0f7620\"],\"size\":6},\"mode\":\"markers\",\"x\":[1,1,1,1,1,1,1,1,1,1,1,1,1,1,1,1,1,1,1,1,1,1,1,1,1,1,2,2,2,2,2,2,2,2,3,3,3,3,4,5,5,6,6,7,7,9,10,11,15,18,19,19,23,33],\"y\":[\"Vienna Secession\",\"Utagawa School\",\"Synthetism\",\"Suprematism\",\"Rocky Mountain School\",\"Regionalism\",\"Purismo\",\"Primitivism\",\"Pointillism\",\"Norwich School\",\"Muralism\",\"Munich School\",\"Les Nabis\",\"Intimism\",\"Heidelberg School\",\"Futurism\",\"Fauvism\",\"Early Netherlandish\",\"Dusseldorf School\",\"Decadent Movement\",\"Bristol School\",\"Berlin Secession\",\"Bauhaus\",\"Avant-Garde\",\"Ashcan School\",\"Abstract\",\"Newlyn School\",\"Neo-Impressionism\",\"Modernism\",\"Gothic\",\"Divisionism\",\"Barbizon School\",\"Animalier\",\"Aestheticism\",\"Venetian School\",\"Tonalism\",\"Surrealism\",\"Luminism\",\"Dutch Golden Age\",\"Mannerism\",\"Art Nouveau\",\"Hudson River School\",\"Expressionism\",\"Pre-Raphaelite Brotherhood\",\"Neoclassicism\",\"Academism\",\"Symbolism\",\"Post-Impressionism\",\"Orientalism\",\"Romanticism\",\"Realism\",\"Impressionism\",\"Renaissance\",\"Baroque\"],\"type\":\"scatter\"}],                        {\"template\":{\"data\":{\"histogram2dcontour\":[{\"type\":\"histogram2dcontour\",\"colorbar\":{\"outlinewidth\":0,\"ticks\":\"\"},\"colorscale\":[[0.0,\"#0d0887\"],[0.1111111111111111,\"#46039f\"],[0.2222222222222222,\"#7201a8\"],[0.3333333333333333,\"#9c179e\"],[0.4444444444444444,\"#bd3786\"],[0.5555555555555556,\"#d8576b\"],[0.6666666666666666,\"#ed7953\"],[0.7777777777777778,\"#fb9f3a\"],[0.8888888888888888,\"#fdca26\"],[1.0,\"#f0f921\"]]}],\"choropleth\":[{\"type\":\"choropleth\",\"colorbar\":{\"outlinewidth\":0,\"ticks\":\"\"}}],\"histogram2d\":[{\"type\":\"histogram2d\",\"colorbar\":{\"outlinewidth\":0,\"ticks\":\"\"},\"colorscale\":[[0.0,\"#0d0887\"],[0.1111111111111111,\"#46039f\"],[0.2222222222222222,\"#7201a8\"],[0.3333333333333333,\"#9c179e\"],[0.4444444444444444,\"#bd3786\"],[0.5555555555555556,\"#d8576b\"],[0.6666666666666666,\"#ed7953\"],[0.7777777777777778,\"#fb9f3a\"],[0.8888888888888888,\"#fdca26\"],[1.0,\"#f0f921\"]]}],\"heatmap\":[{\"type\":\"heatmap\",\"colorbar\":{\"outlinewidth\":0,\"ticks\":\"\"},\"colorscale\":[[0.0,\"#0d0887\"],[0.1111111111111111,\"#46039f\"],[0.2222222222222222,\"#7201a8\"],[0.3333333333333333,\"#9c179e\"],[0.4444444444444444,\"#bd3786\"],[0.5555555555555556,\"#d8576b\"],[0.6666666666666666,\"#ed7953\"],[0.7777777777777778,\"#fb9f3a\"],[0.8888888888888888,\"#fdca26\"],[1.0,\"#f0f921\"]]}],\"heatmapgl\":[{\"type\":\"heatmapgl\",\"colorbar\":{\"outlinewidth\":0,\"ticks\":\"\"},\"colorscale\":[[0.0,\"#0d0887\"],[0.1111111111111111,\"#46039f\"],[0.2222222222222222,\"#7201a8\"],[0.3333333333333333,\"#9c179e\"],[0.4444444444444444,\"#bd3786\"],[0.5555555555555556,\"#d8576b\"],[0.6666666666666666,\"#ed7953\"],[0.7777777777777778,\"#fb9f3a\"],[0.8888888888888888,\"#fdca26\"],[1.0,\"#f0f921\"]]}],\"contourcarpet\":[{\"type\":\"contourcarpet\",\"colorbar\":{\"outlinewidth\":0,\"ticks\":\"\"}}],\"contour\":[{\"type\":\"contour\",\"colorbar\":{\"outlinewidth\":0,\"ticks\":\"\"},\"colorscale\":[[0.0,\"#0d0887\"],[0.1111111111111111,\"#46039f\"],[0.2222222222222222,\"#7201a8\"],[0.3333333333333333,\"#9c179e\"],[0.4444444444444444,\"#bd3786\"],[0.5555555555555556,\"#d8576b\"],[0.6666666666666666,\"#ed7953\"],[0.7777777777777778,\"#fb9f3a\"],[0.8888888888888888,\"#fdca26\"],[1.0,\"#f0f921\"]]}],\"surface\":[{\"type\":\"surface\",\"colorbar\":{\"outlinewidth\":0,\"ticks\":\"\"},\"colorscale\":[[0.0,\"#0d0887\"],[0.1111111111111111,\"#46039f\"],[0.2222222222222222,\"#7201a8\"],[0.3333333333333333,\"#9c179e\"],[0.4444444444444444,\"#bd3786\"],[0.5555555555555556,\"#d8576b\"],[0.6666666666666666,\"#ed7953\"],[0.7777777777777778,\"#fb9f3a\"],[0.8888888888888888,\"#fdca26\"],[1.0,\"#f0f921\"]]}],\"mesh3d\":[{\"type\":\"mesh3d\",\"colorbar\":{\"outlinewidth\":0,\"ticks\":\"\"}}],\"scatter\":[{\"fillpattern\":{\"fillmode\":\"overlay\",\"size\":10,\"solidity\":0.2},\"type\":\"scatter\"}],\"parcoords\":[{\"type\":\"parcoords\",\"line\":{\"colorbar\":{\"outlinewidth\":0,\"ticks\":\"\"}}}],\"scatterpolargl\":[{\"type\":\"scatterpolargl\",\"marker\":{\"colorbar\":{\"outlinewidth\":0,\"ticks\":\"\"}}}],\"bar\":[{\"error_x\":{\"color\":\"#2a3f5f\"},\"error_y\":{\"color\":\"#2a3f5f\"},\"marker\":{\"line\":{\"color\":\"#E5ECF6\",\"width\":0.5},\"pattern\":{\"fillmode\":\"overlay\",\"size\":10,\"solidity\":0.2}},\"type\":\"bar\"}],\"scattergeo\":[{\"type\":\"scattergeo\",\"marker\":{\"colorbar\":{\"outlinewidth\":0,\"ticks\":\"\"}}}],\"scatterpolar\":[{\"type\":\"scatterpolar\",\"marker\":{\"colorbar\":{\"outlinewidth\":0,\"ticks\":\"\"}}}],\"histogram\":[{\"marker\":{\"pattern\":{\"fillmode\":\"overlay\",\"size\":10,\"solidity\":0.2}},\"type\":\"histogram\"}],\"scattergl\":[{\"type\":\"scattergl\",\"marker\":{\"colorbar\":{\"outlinewidth\":0,\"ticks\":\"\"}}}],\"scatter3d\":[{\"type\":\"scatter3d\",\"line\":{\"colorbar\":{\"outlinewidth\":0,\"ticks\":\"\"}},\"marker\":{\"colorbar\":{\"outlinewidth\":0,\"ticks\":\"\"}}}],\"scattermapbox\":[{\"type\":\"scattermapbox\",\"marker\":{\"colorbar\":{\"outlinewidth\":0,\"ticks\":\"\"}}}],\"scatterternary\":[{\"type\":\"scatterternary\",\"marker\":{\"colorbar\":{\"outlinewidth\":0,\"ticks\":\"\"}}}],\"scattercarpet\":[{\"type\":\"scattercarpet\",\"marker\":{\"colorbar\":{\"outlinewidth\":0,\"ticks\":\"\"}}}],\"carpet\":[{\"aaxis\":{\"endlinecolor\":\"#2a3f5f\",\"gridcolor\":\"white\",\"linecolor\":\"white\",\"minorgridcolor\":\"white\",\"startlinecolor\":\"#2a3f5f\"},\"baxis\":{\"endlinecolor\":\"#2a3f5f\",\"gridcolor\":\"white\",\"linecolor\":\"white\",\"minorgridcolor\":\"white\",\"startlinecolor\":\"#2a3f5f\"},\"type\":\"carpet\"}],\"table\":[{\"cells\":{\"fill\":{\"color\":\"#EBF0F8\"},\"line\":{\"color\":\"white\"}},\"header\":{\"fill\":{\"color\":\"#C8D4E3\"},\"line\":{\"color\":\"white\"}},\"type\":\"table\"}],\"barpolar\":[{\"marker\":{\"line\":{\"color\":\"#E5ECF6\",\"width\":0.5},\"pattern\":{\"fillmode\":\"overlay\",\"size\":10,\"solidity\":0.2}},\"type\":\"barpolar\"}],\"pie\":[{\"automargin\":true,\"type\":\"pie\"}]},\"layout\":{\"autotypenumbers\":\"strict\",\"colorway\":[\"#636efa\",\"#EF553B\",\"#00cc96\",\"#ab63fa\",\"#FFA15A\",\"#19d3f3\",\"#FF6692\",\"#B6E880\",\"#FF97FF\",\"#FECB52\"],\"font\":{\"color\":\"#2a3f5f\"},\"hovermode\":\"closest\",\"hoverlabel\":{\"align\":\"left\"},\"paper_bgcolor\":\"white\",\"plot_bgcolor\":\"#E5ECF6\",\"polar\":{\"bgcolor\":\"#E5ECF6\",\"angularaxis\":{\"gridcolor\":\"white\",\"linecolor\":\"white\",\"ticks\":\"\"},\"radialaxis\":{\"gridcolor\":\"white\",\"linecolor\":\"white\",\"ticks\":\"\"}},\"ternary\":{\"bgcolor\":\"#E5ECF6\",\"aaxis\":{\"gridcolor\":\"white\",\"linecolor\":\"white\",\"ticks\":\"\"},\"baxis\":{\"gridcolor\":\"white\",\"linecolor\":\"white\",\"ticks\":\"\"},\"caxis\":{\"gridcolor\":\"white\",\"linecolor\":\"white\",\"ticks\":\"\"}},\"coloraxis\":{\"colorbar\":{\"outlinewidth\":0,\"ticks\":\"\"}},\"colorscale\":{\"sequential\":[[0.0,\"#0d0887\"],[0.1111111111111111,\"#46039f\"],[0.2222222222222222,\"#7201a8\"],[0.3333333333333333,\"#9c179e\"],[0.4444444444444444,\"#bd3786\"],[0.5555555555555556,\"#d8576b\"],[0.6666666666666666,\"#ed7953\"],[0.7777777777777778,\"#fb9f3a\"],[0.8888888888888888,\"#fdca26\"],[1.0,\"#f0f921\"]],\"sequentialminus\":[[0.0,\"#0d0887\"],[0.1111111111111111,\"#46039f\"],[0.2222222222222222,\"#7201a8\"],[0.3333333333333333,\"#9c179e\"],[0.4444444444444444,\"#bd3786\"],[0.5555555555555556,\"#d8576b\"],[0.6666666666666666,\"#ed7953\"],[0.7777777777777778,\"#fb9f3a\"],[0.8888888888888888,\"#fdca26\"],[1.0,\"#f0f921\"]],\"diverging\":[[0,\"#8e0152\"],[0.1,\"#c51b7d\"],[0.2,\"#de77ae\"],[0.3,\"#f1b6da\"],[0.4,\"#fde0ef\"],[0.5,\"#f7f7f7\"],[0.6,\"#e6f5d0\"],[0.7,\"#b8e186\"],[0.8,\"#7fbc41\"],[0.9,\"#4d9221\"],[1,\"#276419\"]]},\"xaxis\":{\"gridcolor\":\"white\",\"linecolor\":\"white\",\"ticks\":\"\",\"title\":{\"standoff\":15},\"zerolinecolor\":\"white\",\"automargin\":true,\"zerolinewidth\":2},\"yaxis\":{\"gridcolor\":\"white\",\"linecolor\":\"white\",\"ticks\":\"\",\"title\":{\"standoff\":15},\"zerolinecolor\":\"white\",\"automargin\":true,\"zerolinewidth\":2},\"scene\":{\"xaxis\":{\"backgroundcolor\":\"#E5ECF6\",\"gridcolor\":\"white\",\"linecolor\":\"white\",\"showbackground\":true,\"ticks\":\"\",\"zerolinecolor\":\"white\",\"gridwidth\":2},\"yaxis\":{\"backgroundcolor\":\"#E5ECF6\",\"gridcolor\":\"white\",\"linecolor\":\"white\",\"showbackground\":true,\"ticks\":\"\",\"zerolinecolor\":\"white\",\"gridwidth\":2},\"zaxis\":{\"backgroundcolor\":\"#E5ECF6\",\"gridcolor\":\"white\",\"linecolor\":\"white\",\"showbackground\":true,\"ticks\":\"\",\"zerolinecolor\":\"white\",\"gridwidth\":2}},\"shapedefaults\":{\"line\":{\"color\":\"#2a3f5f\"}},\"annotationdefaults\":{\"arrowcolor\":\"#2a3f5f\",\"arrowhead\":0,\"arrowwidth\":1},\"geo\":{\"bgcolor\":\"white\",\"landcolor\":\"#E5ECF6\",\"subunitcolor\":\"white\",\"showland\":true,\"showlakes\":true,\"lakecolor\":\"white\"},\"title\":{\"x\":0.05},\"mapbox\":{\"style\":\"light\"}}},\"shapes\":[{\"line\":{\"color\":\"#cceecd\"},\"type\":\"line\",\"x0\":0,\"x1\":1,\"y0\":0,\"y1\":0},{\"line\":{\"color\":\"#cceecd\"},\"type\":\"line\",\"x0\":0,\"x1\":1,\"y0\":1,\"y1\":1},{\"line\":{\"color\":\"#cceecd\"},\"type\":\"line\",\"x0\":0,\"x1\":1,\"y0\":2,\"y1\":2},{\"line\":{\"color\":\"#cceecd\"},\"type\":\"line\",\"x0\":0,\"x1\":1,\"y0\":3,\"y1\":3},{\"line\":{\"color\":\"#cceecd\"},\"type\":\"line\",\"x0\":0,\"x1\":1,\"y0\":4,\"y1\":4},{\"line\":{\"color\":\"#cceecd\"},\"type\":\"line\",\"x0\":0,\"x1\":1,\"y0\":5,\"y1\":5},{\"line\":{\"color\":\"#cceecd\"},\"type\":\"line\",\"x0\":0,\"x1\":1,\"y0\":6,\"y1\":6},{\"line\":{\"color\":\"#cceecd\"},\"type\":\"line\",\"x0\":0,\"x1\":1,\"y0\":7,\"y1\":7},{\"line\":{\"color\":\"#cceecd\"},\"type\":\"line\",\"x0\":0,\"x1\":1,\"y0\":8,\"y1\":8},{\"line\":{\"color\":\"#cceecd\"},\"type\":\"line\",\"x0\":0,\"x1\":1,\"y0\":9,\"y1\":9},{\"line\":{\"color\":\"#cceecd\"},\"type\":\"line\",\"x0\":0,\"x1\":1,\"y0\":10,\"y1\":10},{\"line\":{\"color\":\"#cceecd\"},\"type\":\"line\",\"x0\":0,\"x1\":1,\"y0\":11,\"y1\":11},{\"line\":{\"color\":\"#cceecd\"},\"type\":\"line\",\"x0\":0,\"x1\":1,\"y0\":12,\"y1\":12},{\"line\":{\"color\":\"#cceecd\"},\"type\":\"line\",\"x0\":0,\"x1\":1,\"y0\":13,\"y1\":13},{\"line\":{\"color\":\"#cceecd\"},\"type\":\"line\",\"x0\":0,\"x1\":1,\"y0\":14,\"y1\":14},{\"line\":{\"color\":\"#cceecd\"},\"type\":\"line\",\"x0\":0,\"x1\":1,\"y0\":15,\"y1\":15},{\"line\":{\"color\":\"#cceecd\"},\"type\":\"line\",\"x0\":0,\"x1\":1,\"y0\":16,\"y1\":16},{\"line\":{\"color\":\"#cceecd\"},\"type\":\"line\",\"x0\":0,\"x1\":1,\"y0\":17,\"y1\":17},{\"line\":{\"color\":\"#cceecd\"},\"type\":\"line\",\"x0\":0,\"x1\":1,\"y0\":18,\"y1\":18},{\"line\":{\"color\":\"#cceecd\"},\"type\":\"line\",\"x0\":0,\"x1\":1,\"y0\":19,\"y1\":19},{\"line\":{\"color\":\"#cceecd\"},\"type\":\"line\",\"x0\":0,\"x1\":1,\"y0\":20,\"y1\":20},{\"line\":{\"color\":\"#cceecd\"},\"type\":\"line\",\"x0\":0,\"x1\":1,\"y0\":21,\"y1\":21},{\"line\":{\"color\":\"#cceecd\"},\"type\":\"line\",\"x0\":0,\"x1\":1,\"y0\":22,\"y1\":22},{\"line\":{\"color\":\"#cceecd\"},\"type\":\"line\",\"x0\":0,\"x1\":1,\"y0\":23,\"y1\":23},{\"line\":{\"color\":\"#cceecd\"},\"type\":\"line\",\"x0\":0,\"x1\":1,\"y0\":24,\"y1\":24},{\"line\":{\"color\":\"#cceecd\"},\"type\":\"line\",\"x0\":0,\"x1\":1,\"y0\":25,\"y1\":25},{\"line\":{\"color\":\"#bee5c1\"},\"type\":\"line\",\"x0\":0,\"x1\":2,\"y0\":26,\"y1\":26},{\"line\":{\"color\":\"#bee5c1\"},\"type\":\"line\",\"x0\":0,\"x1\":2,\"y0\":27,\"y1\":27},{\"line\":{\"color\":\"#bee5c1\"},\"type\":\"line\",\"x0\":0,\"x1\":2,\"y0\":28,\"y1\":28},{\"line\":{\"color\":\"#bee5c1\"},\"type\":\"line\",\"x0\":0,\"x1\":2,\"y0\":29,\"y1\":29},{\"line\":{\"color\":\"#bee5c1\"},\"type\":\"line\",\"x0\":0,\"x1\":2,\"y0\":30,\"y1\":30},{\"line\":{\"color\":\"#bee5c1\"},\"type\":\"line\",\"x0\":0,\"x1\":2,\"y0\":31,\"y1\":31},{\"line\":{\"color\":\"#bee5c1\"},\"type\":\"line\",\"x0\":0,\"x1\":2,\"y0\":32,\"y1\":32},{\"line\":{\"color\":\"#bee5c1\"},\"type\":\"line\",\"x0\":0,\"x1\":2,\"y0\":33,\"y1\":33},{\"line\":{\"color\":\"#b1ddb4\"},\"type\":\"line\",\"x0\":0,\"x1\":3,\"y0\":34,\"y1\":34},{\"line\":{\"color\":\"#b1ddb4\"},\"type\":\"line\",\"x0\":0,\"x1\":3,\"y0\":35,\"y1\":35},{\"line\":{\"color\":\"#b1ddb4\"},\"type\":\"line\",\"x0\":0,\"x1\":3,\"y0\":36,\"y1\":36},{\"line\":{\"color\":\"#b1ddb4\"},\"type\":\"line\",\"x0\":0,\"x1\":3,\"y0\":37,\"y1\":37},{\"line\":{\"color\":\"#a3d4a8\"},\"type\":\"line\",\"x0\":0,\"x1\":4,\"y0\":38,\"y1\":38},{\"line\":{\"color\":\"#a3d4a8\"},\"type\":\"line\",\"x0\":0,\"x1\":5,\"y0\":39,\"y1\":39},{\"line\":{\"color\":\"#96cc9c\"},\"type\":\"line\",\"x0\":0,\"x1\":5,\"y0\":40,\"y1\":40},{\"line\":{\"color\":\"#96cc9c\"},\"type\":\"line\",\"x0\":0,\"x1\":6,\"y0\":41,\"y1\":41},{\"line\":{\"color\":\"#88c38f\"},\"type\":\"line\",\"x0\":0,\"x1\":6,\"y0\":42,\"y1\":42},{\"line\":{\"color\":\"#88c38f\"},\"type\":\"line\",\"x0\":0,\"x1\":7,\"y0\":43,\"y1\":43},{\"line\":{\"color\":\"#7bbb83\"},\"type\":\"line\",\"x0\":0,\"x1\":7,\"y0\":44,\"y1\":44},{\"line\":{\"color\":\"#7bbb83\"},\"type\":\"line\",\"x0\":0,\"x1\":9,\"y0\":45,\"y1\":45},{\"line\":{\"color\":\"#6eb276\"},\"type\":\"line\",\"x0\":0,\"x1\":10,\"y0\":46,\"y1\":46},{\"line\":{\"color\":\"#60a96a\"},\"type\":\"line\",\"x0\":0,\"x1\":11,\"y0\":47,\"y1\":47},{\"line\":{\"color\":\"#52a15e\"},\"type\":\"line\",\"x0\":0,\"x1\":15,\"y0\":48,\"y1\":48},{\"line\":{\"color\":\"#459851\"},\"type\":\"line\",\"x0\":0,\"x1\":18,\"y0\":49,\"y1\":49},{\"line\":{\"color\":\"#389045\"},\"type\":\"line\",\"x0\":0,\"x1\":19,\"y0\":50,\"y1\":50},{\"line\":{\"color\":\"#2a8739\"},\"type\":\"line\",\"x0\":0,\"x1\":19,\"y0\":51,\"y1\":51},{\"line\":{\"color\":\"#1c7f2c\"},\"type\":\"line\",\"x0\":0,\"x1\":23,\"y0\":52,\"y1\":52},{\"line\":{\"color\":\"#0f7620\"},\"type\":\"line\",\"x0\":0,\"x1\":33,\"y0\":53,\"y1\":53}],\"title\":{\"font\":{\"size\":20},\"text\":\"Artistic Movements\",\"x\":0.5},\"margin\":{\"l\":25,\"r\":25,\"t\":45,\"b\":25},\"plot_bgcolor\":\"rgb(242,242,242)\",\"autosize\":false,\"width\":800,\"height\":650,\"xaxis\":{\"title\":{\"text\":\"Number of Artists\"},\"range\":[0,38]},\"yaxis\":{\"tickfont\":{\"size\":9},\"title\":{\"text\":\"Movemenet\"},\"tickmode\":\"linear\"}},                        {\"responsive\": true}                    ).then(function(){\n",
       "                            \n",
       "var gd = document.getElementById('8ddea23f-5928-4e28-9080-c1898fcfc21e');\n",
       "var x = new MutationObserver(function (mutations, observer) {{\n",
       "        var display = window.getComputedStyle(gd).display;\n",
       "        if (!display || display === 'none') {{\n",
       "            console.log([gd, 'removed!']);\n",
       "            Plotly.purge(gd);\n",
       "            observer.disconnect();\n",
       "        }}\n",
       "}});\n",
       "\n",
       "// Listen for the removal of the full notebook cells\n",
       "var notebookContainer = gd.closest('#notebook-container');\n",
       "if (notebookContainer) {{\n",
       "    x.observe(notebookContainer, {childList: true});\n",
       "}}\n",
       "\n",
       "// Listen for the clearing of the current output cell\n",
       "var outputEl = gd.closest('.output');\n",
       "if (outputEl) {{\n",
       "    x.observe(outputEl, {childList: true});\n",
       "}}\n",
       "\n",
       "                        })                };                });            </script>        </div>"
      ]
     },
     "metadata": {},
     "output_type": "display_data"
    }
   ],
   "source": [
    "fig1 = go.Figure()\n",
    "# Draw points\n",
    "fig1.add_trace(go.Scatter(x = movement_sum[\"Count\"], \n",
    "                          y = movement_sum[\"Movement\"],\n",
    "                          mode = 'markers',\n",
    "                          marker = dict(color=my_color),\n",
    "                          marker_size  = 6))\n",
    "                          #text = movement_sum['new'], hoverinfo = 'y + x + text'))\n",
    "# Draw lines\n",
    "for i in range(0, len(movement_sum)):\n",
    "               fig1.add_shape(type='line',\n",
    "                              x0 = 0, y0 = i,\n",
    "                              x1 = movement_sum[\"Count\"][i],\n",
    "                              y1 = i,\n",
    "                              line=dict(color=my_color[i]))\n",
    "# Set title\n",
    "fig1.update_layout(title_text = \"Artistic Movements\",\n",
    "                   title_font_size = 20,\n",
    "                   title_x=0.5,\n",
    "                   plot_bgcolor = 'rgb(242,242,242)',\n",
    "                   autosize=False,\n",
    "                   width=800,\n",
    "                   height=650,\n",
    "                   margin=dict(l=25, r=25, t=45, b=25))\n",
    "# Set x-axes range\n",
    "fig1.update_xaxes(title = 'Number of Artists', \n",
    "                  range=[0, max(movement_sum['Count']) + 5])\n",
    "fig1.update_yaxes(title = 'Movemenet',\n",
    "                  tickmode='linear',\n",
    "                  tickfont_size=9)\n",
    "fig1.update_layout(\n",
    "    )\n",
    "fig1.show()"
   ]
  },
  {
   "attachments": {},
   "cell_type": "markdown",
   "metadata": {},
   "source": [
    "## Artists and specialization"
   ]
  },
  {
   "cell_type": "code",
   "execution_count": 3,
   "metadata": {},
   "outputs": [
    {
     "data": {
      "text/html": [
       "<div>\n",
       "<style scoped>\n",
       "    .dataframe tbody tr th:only-of-type {\n",
       "        vertical-align: middle;\n",
       "    }\n",
       "\n",
       "    .dataframe tbody tr th {\n",
       "        vertical-align: top;\n",
       "    }\n",
       "\n",
       "    .dataframe thead th {\n",
       "        text-align: right;\n",
       "    }\n",
       "</style>\n",
       "<table border=\"1\" class=\"dataframe\">\n",
       "  <thead>\n",
       "    <tr style=\"text-align: right;\">\n",
       "      <th></th>\n",
       "      <th>artist</th>\n",
       "      <th>spec</th>\n",
       "      <th>desc</th>\n",
       "    </tr>\n",
       "  </thead>\n",
       "  <tbody>\n",
       "    <tr>\n",
       "      <th>0</th>\n",
       "      <td>(Giovanni Antonio Canal) Canaletto</td>\n",
       "      <td>Landscapes</td>\n",
       "      <td>Landscape painting, also known as landscape ar...</td>\n",
       "    </tr>\n",
       "    <tr>\n",
       "      <th>1</th>\n",
       "      <td>(Giovanni Antonio Canal) Canaletto</td>\n",
       "      <td>Etching</td>\n",
       "      <td>Etching is traditionally the process of using ...</td>\n",
       "    </tr>\n",
       "    <tr>\n",
       "      <th>2</th>\n",
       "      <td>(after) (Giovanni Antonio Canal) Canaletto</td>\n",
       "      <td>Landscapes</td>\n",
       "      <td>Landscape painting, also known as landscape ar...</td>\n",
       "    </tr>\n",
       "    <tr>\n",
       "      <th>3</th>\n",
       "      <td>(after) (Giovanni Antonio Canal) Canaletto</td>\n",
       "      <td>Etching</td>\n",
       "      <td>Etching is traditionally the process of using ...</td>\n",
       "    </tr>\n",
       "    <tr>\n",
       "      <th>4</th>\n",
       "      <td>(after) Alexis-Simon Belle</td>\n",
       "      <td>Painting</td>\n",
       "      <td>Painting is the practice of applying paint, pi...</td>\n",
       "    </tr>\n",
       "  </tbody>\n",
       "</table>\n",
       "</div>"
      ],
      "text/plain": [
       "                                       artist        spec  \\\n",
       "0          (Giovanni Antonio Canal) Canaletto  Landscapes   \n",
       "1          (Giovanni Antonio Canal) Canaletto     Etching   \n",
       "2  (after) (Giovanni Antonio Canal) Canaletto  Landscapes   \n",
       "3  (after) (Giovanni Antonio Canal) Canaletto     Etching   \n",
       "4                  (after) Alexis-Simon Belle    Painting   \n",
       "\n",
       "                                                desc  \n",
       "0  Landscape painting, also known as landscape ar...  \n",
       "1  Etching is traditionally the process of using ...  \n",
       "2  Landscape painting, also known as landscape ar...  \n",
       "3  Etching is traditionally the process of using ...  \n",
       "4  Painting is the practice of applying paint, pi...  "
      ]
     },
     "execution_count": 3,
     "metadata": {},
     "output_type": "execute_result"
    }
   ],
   "source": [
    "df_spec = pl.from_dicts(graph.run(\"\"\"\n",
    "    match (s: Specialization) -- (a: Artist)\n",
    "    return a.name as artist, s.name as spec, s.description as desc\n",
    "    order by artist\n",
    "\"\"\").data(), schema={\"artist\": str, \"spec\": str, \"desc\": str}).to_pandas()\n",
    "\n",
    "df_spec.head()"
   ]
  },
  {
   "cell_type": "code",
   "execution_count": null,
   "metadata": {},
   "outputs": [],
   "source": [
    "df_spec['artist'] = df_spec['artist'].str.replace('\\(after\\) ', '')\n",
    "df_spec.sort_values(by=['artist', 'spec'], inplace=True)\n",
    "df_spec = df_spec.reset_index(drop=True)\n",
    "df_spec = df_spec.drop_duplicates()\n",
    "# drop row with \"and ...\"\n",
    "df_spec = df_spec[:-4]"
   ]
  },
  {
   "cell_type": "code",
   "execution_count": null,
   "metadata": {},
   "outputs": [],
   "source": [
    "spec_desc = df_spec[['spec', 'desc']]\n",
    "spec_desc.sort_values(by=['spec', 'desc'], inplace=True)\n",
    "spec_desc = spec_desc.drop_duplicates().reset_index(drop=True)"
   ]
  },
  {
   "cell_type": "code",
   "execution_count": 6,
   "metadata": {},
   "outputs": [
    {
     "data": {
      "text/html": [
       "<div>\n",
       "<style scoped>\n",
       "    .dataframe tbody tr th:only-of-type {\n",
       "        vertical-align: middle;\n",
       "    }\n",
       "\n",
       "    .dataframe tbody tr th {\n",
       "        vertical-align: top;\n",
       "    }\n",
       "\n",
       "    .dataframe thead th {\n",
       "        text-align: right;\n",
       "    }\n",
       "</style>\n",
       "<table border=\"1\" class=\"dataframe\">\n",
       "  <thead>\n",
       "    <tr style=\"text-align: right;\">\n",
       "      <th></th>\n",
       "      <th>spec</th>\n",
       "      <th>desc</th>\n",
       "      <th>short</th>\n",
       "    </tr>\n",
       "  </thead>\n",
       "  <tbody>\n",
       "    <tr>\n",
       "      <th>0</th>\n",
       "      <td>Animal Painting</td>\n",
       "      <td>An animal painter is an artist who specialises...</td>\n",
       "      <td>An animal painter is an artist who specialises...</td>\n",
       "    </tr>\n",
       "    <tr>\n",
       "      <th>1</th>\n",
       "      <td>Architecture</td>\n",
       "      <td>Architecture is the art and technique of desig...</td>\n",
       "      <td>Architecture is the art and technique of desig...</td>\n",
       "    </tr>\n",
       "    <tr>\n",
       "      <th>2</th>\n",
       "      <td>Cartography</td>\n",
       "      <td>Cartography (/kɑːrˈtɒɡrəfi/; from Ancient Gree...</td>\n",
       "      <td>Cartography (/kɑːrˈtɒɡrəfi/; from Ancient Gree...</td>\n",
       "    </tr>\n",
       "    <tr>\n",
       "      <th>3</th>\n",
       "      <td>Cartoons</td>\n",
       "      <td>A cartoon is a type of visual art that is typi...</td>\n",
       "      <td>A cartoon is a type of visual art that is typi...</td>\n",
       "    </tr>\n",
       "    <tr>\n",
       "      <th>4</th>\n",
       "      <td>Ceramics</td>\n",
       "      <td>A ceramic is any of the various hard, brittle,...</td>\n",
       "      <td>A ceramic is any of the various hard, brittle,...</td>\n",
       "    </tr>\n",
       "  </tbody>\n",
       "</table>\n",
       "</div>"
      ],
      "text/plain": [
       "              spec                                               desc  \\\n",
       "0  Animal Painting  An animal painter is an artist who specialises...   \n",
       "1     Architecture  Architecture is the art and technique of desig...   \n",
       "2      Cartography  Cartography (/kɑːrˈtɒɡrəfi/; from Ancient Gree...   \n",
       "3         Cartoons  A cartoon is a type of visual art that is typi...   \n",
       "4         Ceramics  A ceramic is any of the various hard, brittle,...   \n",
       "\n",
       "                                               short  \n",
       "0  An animal painter is an artist who specialises...  \n",
       "1  Architecture is the art and technique of desig...  \n",
       "2  Cartography (/kɑːrˈtɒɡrəfi/; from Ancient Gree...  \n",
       "3  A cartoon is a type of visual art that is typi...  \n",
       "4  A ceramic is any of the various hard, brittle,...  "
      ]
     },
     "execution_count": 6,
     "metadata": {},
     "output_type": "execute_result"
    }
   ],
   "source": [
    "result = [x for x in spec_desc['desc']]\n",
    "i = 0\n",
    "for res in result:\n",
    "    sentence = sent_tokenize(res)[0]\n",
    "    sentence = sentence.replace(\"investigation\\')[1]\", \"investigation\\')\").replace(\"process,[1]\", \"process,\").replace(\"write\\')[1]\", \"write')\").replace(\"-⁠TAH-;[1]\", \"-⁠TAH-;\").replace(\"[maŋga])[a]\", \"[maŋga])\").replace(\"\\\"matrix\\\"[citation needed]\", \"\\\"matrix\\\"\").replace(\"verse,[note 1]\", \"verse,\").replace(\"rhythmic[1][2][3]\", \"rhythmic\")   \n",
    "    result[i] = sentence\n",
    "    i = i + 1\n",
    "\n",
    "spec_desc['short'] = result\n",
    "spec_desc.head()\n",
    "\n"
   ]
  },
  {
   "cell_type": "code",
   "execution_count": 17,
   "metadata": {},
   "outputs": [],
   "source": [
    "merged = df_spec.merge(spec_desc, on=['spec', 'desc'])\n",
    "merged.sort_values(by=['artist', 'spec'], inplace=True)\n",
    "merged = merged.reset_index(drop=True)\n",
    "merged = merged.drop_duplicates()"
   ]
  },
  {
   "cell_type": "code",
   "execution_count": 18,
   "metadata": {},
   "outputs": [
    {
     "data": {
      "text/html": [
       "<div>\n",
       "<style scoped>\n",
       "    .dataframe tbody tr th:only-of-type {\n",
       "        vertical-align: middle;\n",
       "    }\n",
       "\n",
       "    .dataframe tbody tr th {\n",
       "        vertical-align: top;\n",
       "    }\n",
       "\n",
       "    .dataframe thead th {\n",
       "        text-align: right;\n",
       "    }\n",
       "</style>\n",
       "<table border=\"1\" class=\"dataframe\">\n",
       "  <thead>\n",
       "    <tr style=\"text-align: right;\">\n",
       "      <th></th>\n",
       "      <th>artist</th>\n",
       "      <th>spec</th>\n",
       "      <th>desc</th>\n",
       "      <th>short</th>\n",
       "    </tr>\n",
       "  </thead>\n",
       "  <tbody>\n",
       "    <tr>\n",
       "      <th>0</th>\n",
       "      <td>(Giovanni Antonio Canal) Canaletto</td>\n",
       "      <td>Etching</td>\n",
       "      <td>Etching is traditionally the process of using ...</td>\n",
       "      <td>Etching is traditionally the process of using ...</td>\n",
       "    </tr>\n",
       "    <tr>\n",
       "      <th>1</th>\n",
       "      <td>(Giovanni Antonio Canal) Canaletto</td>\n",
       "      <td>Landscapes</td>\n",
       "      <td>Landscape painting, also known as landscape ar...</td>\n",
       "      <td>Landscape painting, also known as landscape ar...</td>\n",
       "    </tr>\n",
       "    <tr>\n",
       "      <th>2</th>\n",
       "      <td>Albert Bierstadt</td>\n",
       "      <td>Painting</td>\n",
       "      <td>Painting is the practice of applying paint, pi...</td>\n",
       "      <td>Painting is the practice of applying paint, pi...</td>\n",
       "    </tr>\n",
       "    <tr>\n",
       "      <th>3</th>\n",
       "      <td>Albert Edelfelt</td>\n",
       "      <td>Painting</td>\n",
       "      <td>Painting is the practice of applying paint, pi...</td>\n",
       "      <td>Painting is the practice of applying paint, pi...</td>\n",
       "    </tr>\n",
       "    <tr>\n",
       "      <th>4</th>\n",
       "      <td>Alexandre Evariste Fragonard</td>\n",
       "      <td>Painting</td>\n",
       "      <td>Painting is the practice of applying paint, pi...</td>\n",
       "      <td>Painting is the practice of applying paint, pi...</td>\n",
       "    </tr>\n",
       "    <tr>\n",
       "      <th>5</th>\n",
       "      <td>Alexandre Evariste Fragonard</td>\n",
       "      <td>Sculptures</td>\n",
       "      <td>Sculpture is the branch of the visual arts tha...</td>\n",
       "      <td>Sculpture is the branch of the visual arts tha...</td>\n",
       "    </tr>\n",
       "    <tr>\n",
       "      <th>6</th>\n",
       "      <td>Alexis-Simon Belle</td>\n",
       "      <td>Painting</td>\n",
       "      <td>Painting is the practice of applying paint, pi...</td>\n",
       "      <td>Painting is the practice of applying paint, pi...</td>\n",
       "    </tr>\n",
       "    <tr>\n",
       "      <th>7</th>\n",
       "      <td>Alfred Sisley</td>\n",
       "      <td>Painting</td>\n",
       "      <td>Painting is the practice of applying paint, pi...</td>\n",
       "      <td>Painting is the practice of applying paint, pi...</td>\n",
       "    </tr>\n",
       "    <tr>\n",
       "      <th>8</th>\n",
       "      <td>Alphonse Maria Mucha</td>\n",
       "      <td>Decorations</td>\n",
       "      <td>The decorative arts are arts or crafts whose o...</td>\n",
       "      <td>The decorative arts are arts or crafts whose o...</td>\n",
       "    </tr>\n",
       "    <tr>\n",
       "      <th>9</th>\n",
       "      <td>Alphonse Maria Mucha</td>\n",
       "      <td>Illustrations</td>\n",
       "      <td>An illustration is a decoration, interpretatio...</td>\n",
       "      <td>An illustration is a decoration, interpretatio...</td>\n",
       "    </tr>\n",
       "    <tr>\n",
       "      <th>10</th>\n",
       "      <td>Alphonse Maria Mucha</td>\n",
       "      <td>Painting</td>\n",
       "      <td>Painting is the practice of applying paint, pi...</td>\n",
       "      <td>Painting is the practice of applying paint, pi...</td>\n",
       "    </tr>\n",
       "    <tr>\n",
       "      <th>11</th>\n",
       "      <td>Anders Zorn</td>\n",
       "      <td>Painting</td>\n",
       "      <td>Painting is the practice of applying paint, pi...</td>\n",
       "      <td>Painting is the practice of applying paint, pi...</td>\n",
       "    </tr>\n",
       "    <tr>\n",
       "      <th>12</th>\n",
       "      <td>Anders Zorn</td>\n",
       "      <td>Prints</td>\n",
       "      <td>Printmaking is the process of creating artwork...</td>\n",
       "      <td>Printmaking is the process of creating artwork...</td>\n",
       "    </tr>\n",
       "    <tr>\n",
       "      <th>13</th>\n",
       "      <td>Anders Zorn</td>\n",
       "      <td>Sculptures</td>\n",
       "      <td>Sculpture is the branch of the visual arts tha...</td>\n",
       "      <td>Sculpture is the branch of the visual arts tha...</td>\n",
       "    </tr>\n",
       "    <tr>\n",
       "      <th>14</th>\n",
       "      <td>Andrea Del Sarto</td>\n",
       "      <td>Painting</td>\n",
       "      <td>Painting is the practice of applying paint, pi...</td>\n",
       "      <td>Painting is the practice of applying paint, pi...</td>\n",
       "    </tr>\n",
       "    <tr>\n",
       "      <th>15</th>\n",
       "      <td>Andrea Solario</td>\n",
       "      <td>Painting</td>\n",
       "      <td>Painting is the practice of applying paint, pi...</td>\n",
       "      <td>Painting is the practice of applying paint, pi...</td>\n",
       "    </tr>\n",
       "    <tr>\n",
       "      <th>16</th>\n",
       "      <td>Annibale Carracci</td>\n",
       "      <td>Painting</td>\n",
       "      <td>Painting is the practice of applying paint, pi...</td>\n",
       "      <td>Painting is the practice of applying paint, pi...</td>\n",
       "    </tr>\n",
       "    <tr>\n",
       "      <th>17</th>\n",
       "      <td>Anthonis Mor Van Dashorst</td>\n",
       "      <td>Painting</td>\n",
       "      <td>Painting is the practice of applying paint, pi...</td>\n",
       "      <td>Painting is the practice of applying paint, pi...</td>\n",
       "    </tr>\n",
       "    <tr>\n",
       "      <th>18</th>\n",
       "      <td>Antoine Vollon</td>\n",
       "      <td>Painting</td>\n",
       "      <td>Painting is the practice of applying paint, pi...</td>\n",
       "      <td>Painting is the practice of applying paint, pi...</td>\n",
       "    </tr>\n",
       "    <tr>\n",
       "      <th>19</th>\n",
       "      <td>Armand Guillaumin</td>\n",
       "      <td>Painting</td>\n",
       "      <td>Painting is the practice of applying paint, pi...</td>\n",
       "      <td>Painting is the practice of applying paint, pi...</td>\n",
       "    </tr>\n",
       "  </tbody>\n",
       "</table>\n",
       "</div>"
      ],
      "text/plain": [
       "                                artist           spec  \\\n",
       "0   (Giovanni Antonio Canal) Canaletto        Etching   \n",
       "1   (Giovanni Antonio Canal) Canaletto     Landscapes   \n",
       "2                     Albert Bierstadt       Painting   \n",
       "3                      Albert Edelfelt       Painting   \n",
       "4         Alexandre Evariste Fragonard       Painting   \n",
       "5         Alexandre Evariste Fragonard     Sculptures   \n",
       "6                   Alexis-Simon Belle       Painting   \n",
       "7                        Alfred Sisley       Painting   \n",
       "8                 Alphonse Maria Mucha    Decorations   \n",
       "9                 Alphonse Maria Mucha  Illustrations   \n",
       "10                Alphonse Maria Mucha       Painting   \n",
       "11                         Anders Zorn       Painting   \n",
       "12                         Anders Zorn         Prints   \n",
       "13                         Anders Zorn     Sculptures   \n",
       "14                    Andrea Del Sarto       Painting   \n",
       "15                      Andrea Solario       Painting   \n",
       "16                   Annibale Carracci       Painting   \n",
       "17           Anthonis Mor Van Dashorst       Painting   \n",
       "18                      Antoine Vollon       Painting   \n",
       "19                   Armand Guillaumin       Painting   \n",
       "\n",
       "                                                 desc  \\\n",
       "0   Etching is traditionally the process of using ...   \n",
       "1   Landscape painting, also known as landscape ar...   \n",
       "2   Painting is the practice of applying paint, pi...   \n",
       "3   Painting is the practice of applying paint, pi...   \n",
       "4   Painting is the practice of applying paint, pi...   \n",
       "5   Sculpture is the branch of the visual arts tha...   \n",
       "6   Painting is the practice of applying paint, pi...   \n",
       "7   Painting is the practice of applying paint, pi...   \n",
       "8   The decorative arts are arts or crafts whose o...   \n",
       "9   An illustration is a decoration, interpretatio...   \n",
       "10  Painting is the practice of applying paint, pi...   \n",
       "11  Painting is the practice of applying paint, pi...   \n",
       "12  Printmaking is the process of creating artwork...   \n",
       "13  Sculpture is the branch of the visual arts tha...   \n",
       "14  Painting is the practice of applying paint, pi...   \n",
       "15  Painting is the practice of applying paint, pi...   \n",
       "16  Painting is the practice of applying paint, pi...   \n",
       "17  Painting is the practice of applying paint, pi...   \n",
       "18  Painting is the practice of applying paint, pi...   \n",
       "19  Painting is the practice of applying paint, pi...   \n",
       "\n",
       "                                                short  \n",
       "0   Etching is traditionally the process of using ...  \n",
       "1   Landscape painting, also known as landscape ar...  \n",
       "2   Painting is the practice of applying paint, pi...  \n",
       "3   Painting is the practice of applying paint, pi...  \n",
       "4   Painting is the practice of applying paint, pi...  \n",
       "5   Sculpture is the branch of the visual arts tha...  \n",
       "6   Painting is the practice of applying paint, pi...  \n",
       "7   Painting is the practice of applying paint, pi...  \n",
       "8   The decorative arts are arts or crafts whose o...  \n",
       "9   An illustration is a decoration, interpretatio...  \n",
       "10  Painting is the practice of applying paint, pi...  \n",
       "11  Painting is the practice of applying paint, pi...  \n",
       "12  Printmaking is the process of creating artwork...  \n",
       "13  Sculpture is the branch of the visual arts tha...  \n",
       "14  Painting is the practice of applying paint, pi...  \n",
       "15  Painting is the practice of applying paint, pi...  \n",
       "16  Painting is the practice of applying paint, pi...  \n",
       "17  Painting is the practice of applying paint, pi...  \n",
       "18  Painting is the practice of applying paint, pi...  \n",
       "19  Painting is the practice of applying paint, pi...  "
      ]
     },
     "execution_count": 18,
     "metadata": {},
     "output_type": "execute_result"
    }
   ],
   "source": [
    "merged.head(20)"
   ]
  },
  {
   "cell_type": "code",
   "execution_count": 50,
   "metadata": {},
   "outputs": [],
   "source": [
    "selected = merged.loc[merged['artist'] == 'Anders Zorn'].reset_index()\n",
    "selected['value'] = 100/len(selected)\n",
    "color_selected = [color_1]\n",
    "if len(selected) > 1:\n",
    "    color_selected = get_color_gradient(color_1, color_2, len(selected))"
   ]
  },
  {
   "cell_type": "code",
   "execution_count": 56,
   "metadata": {},
   "outputs": [
    {
     "data": {
      "application/vnd.plotly.v1+json": {
       "config": {
        "plotlyServerURL": "https://plot.ly"
       },
       "data": [
        {
         "hole": 0.4,
         "hoverinfo": "text",
         "labels": [
          "Painting",
          "Prints",
          "Sculptures"
         ],
         "marker": {
          "colors": [
           "#cceecd",
           "#6eb276",
           "#0f7620"
          ]
         },
         "text": [
          "Painting is the practice of<br>applying paint, pigment, color<br>or other medium to a solid<br>surface (called the \"matrix\"<br>or \"support\").",
          "Printmaking is the process of<br>creating artworks by printing,<br>normally on paper, but also on<br>fabric, wood, metal, and other<br>surfaces.",
          "Sculpture is the branch of the<br>visual arts that operates in<br>three dimensions."
         ],
         "textinfo": "label",
         "type": "pie",
         "values": [
          33.333333333333336,
          33.333333333333336,
          33.333333333333336
         ]
        }
       ],
       "layout": {
        "showlegend": false,
        "template": {
         "data": {
          "bar": [
           {
            "error_x": {
             "color": "#2a3f5f"
            },
            "error_y": {
             "color": "#2a3f5f"
            },
            "marker": {
             "line": {
              "color": "#E5ECF6",
              "width": 0.5
             },
             "pattern": {
              "fillmode": "overlay",
              "size": 10,
              "solidity": 0.2
             }
            },
            "type": "bar"
           }
          ],
          "barpolar": [
           {
            "marker": {
             "line": {
              "color": "#E5ECF6",
              "width": 0.5
             },
             "pattern": {
              "fillmode": "overlay",
              "size": 10,
              "solidity": 0.2
             }
            },
            "type": "barpolar"
           }
          ],
          "carpet": [
           {
            "aaxis": {
             "endlinecolor": "#2a3f5f",
             "gridcolor": "white",
             "linecolor": "white",
             "minorgridcolor": "white",
             "startlinecolor": "#2a3f5f"
            },
            "baxis": {
             "endlinecolor": "#2a3f5f",
             "gridcolor": "white",
             "linecolor": "white",
             "minorgridcolor": "white",
             "startlinecolor": "#2a3f5f"
            },
            "type": "carpet"
           }
          ],
          "choropleth": [
           {
            "colorbar": {
             "outlinewidth": 0,
             "ticks": ""
            },
            "type": "choropleth"
           }
          ],
          "contour": [
           {
            "colorbar": {
             "outlinewidth": 0,
             "ticks": ""
            },
            "colorscale": [
             [
              0,
              "#0d0887"
             ],
             [
              0.1111111111111111,
              "#46039f"
             ],
             [
              0.2222222222222222,
              "#7201a8"
             ],
             [
              0.3333333333333333,
              "#9c179e"
             ],
             [
              0.4444444444444444,
              "#bd3786"
             ],
             [
              0.5555555555555556,
              "#d8576b"
             ],
             [
              0.6666666666666666,
              "#ed7953"
             ],
             [
              0.7777777777777778,
              "#fb9f3a"
             ],
             [
              0.8888888888888888,
              "#fdca26"
             ],
             [
              1,
              "#f0f921"
             ]
            ],
            "type": "contour"
           }
          ],
          "contourcarpet": [
           {
            "colorbar": {
             "outlinewidth": 0,
             "ticks": ""
            },
            "type": "contourcarpet"
           }
          ],
          "heatmap": [
           {
            "colorbar": {
             "outlinewidth": 0,
             "ticks": ""
            },
            "colorscale": [
             [
              0,
              "#0d0887"
             ],
             [
              0.1111111111111111,
              "#46039f"
             ],
             [
              0.2222222222222222,
              "#7201a8"
             ],
             [
              0.3333333333333333,
              "#9c179e"
             ],
             [
              0.4444444444444444,
              "#bd3786"
             ],
             [
              0.5555555555555556,
              "#d8576b"
             ],
             [
              0.6666666666666666,
              "#ed7953"
             ],
             [
              0.7777777777777778,
              "#fb9f3a"
             ],
             [
              0.8888888888888888,
              "#fdca26"
             ],
             [
              1,
              "#f0f921"
             ]
            ],
            "type": "heatmap"
           }
          ],
          "heatmapgl": [
           {
            "colorbar": {
             "outlinewidth": 0,
             "ticks": ""
            },
            "colorscale": [
             [
              0,
              "#0d0887"
             ],
             [
              0.1111111111111111,
              "#46039f"
             ],
             [
              0.2222222222222222,
              "#7201a8"
             ],
             [
              0.3333333333333333,
              "#9c179e"
             ],
             [
              0.4444444444444444,
              "#bd3786"
             ],
             [
              0.5555555555555556,
              "#d8576b"
             ],
             [
              0.6666666666666666,
              "#ed7953"
             ],
             [
              0.7777777777777778,
              "#fb9f3a"
             ],
             [
              0.8888888888888888,
              "#fdca26"
             ],
             [
              1,
              "#f0f921"
             ]
            ],
            "type": "heatmapgl"
           }
          ],
          "histogram": [
           {
            "marker": {
             "pattern": {
              "fillmode": "overlay",
              "size": 10,
              "solidity": 0.2
             }
            },
            "type": "histogram"
           }
          ],
          "histogram2d": [
           {
            "colorbar": {
             "outlinewidth": 0,
             "ticks": ""
            },
            "colorscale": [
             [
              0,
              "#0d0887"
             ],
             [
              0.1111111111111111,
              "#46039f"
             ],
             [
              0.2222222222222222,
              "#7201a8"
             ],
             [
              0.3333333333333333,
              "#9c179e"
             ],
             [
              0.4444444444444444,
              "#bd3786"
             ],
             [
              0.5555555555555556,
              "#d8576b"
             ],
             [
              0.6666666666666666,
              "#ed7953"
             ],
             [
              0.7777777777777778,
              "#fb9f3a"
             ],
             [
              0.8888888888888888,
              "#fdca26"
             ],
             [
              1,
              "#f0f921"
             ]
            ],
            "type": "histogram2d"
           }
          ],
          "histogram2dcontour": [
           {
            "colorbar": {
             "outlinewidth": 0,
             "ticks": ""
            },
            "colorscale": [
             [
              0,
              "#0d0887"
             ],
             [
              0.1111111111111111,
              "#46039f"
             ],
             [
              0.2222222222222222,
              "#7201a8"
             ],
             [
              0.3333333333333333,
              "#9c179e"
             ],
             [
              0.4444444444444444,
              "#bd3786"
             ],
             [
              0.5555555555555556,
              "#d8576b"
             ],
             [
              0.6666666666666666,
              "#ed7953"
             ],
             [
              0.7777777777777778,
              "#fb9f3a"
             ],
             [
              0.8888888888888888,
              "#fdca26"
             ],
             [
              1,
              "#f0f921"
             ]
            ],
            "type": "histogram2dcontour"
           }
          ],
          "mesh3d": [
           {
            "colorbar": {
             "outlinewidth": 0,
             "ticks": ""
            },
            "type": "mesh3d"
           }
          ],
          "parcoords": [
           {
            "line": {
             "colorbar": {
              "outlinewidth": 0,
              "ticks": ""
             }
            },
            "type": "parcoords"
           }
          ],
          "pie": [
           {
            "automargin": true,
            "type": "pie"
           }
          ],
          "scatter": [
           {
            "fillpattern": {
             "fillmode": "overlay",
             "size": 10,
             "solidity": 0.2
            },
            "type": "scatter"
           }
          ],
          "scatter3d": [
           {
            "line": {
             "colorbar": {
              "outlinewidth": 0,
              "ticks": ""
             }
            },
            "marker": {
             "colorbar": {
              "outlinewidth": 0,
              "ticks": ""
             }
            },
            "type": "scatter3d"
           }
          ],
          "scattercarpet": [
           {
            "marker": {
             "colorbar": {
              "outlinewidth": 0,
              "ticks": ""
             }
            },
            "type": "scattercarpet"
           }
          ],
          "scattergeo": [
           {
            "marker": {
             "colorbar": {
              "outlinewidth": 0,
              "ticks": ""
             }
            },
            "type": "scattergeo"
           }
          ],
          "scattergl": [
           {
            "marker": {
             "colorbar": {
              "outlinewidth": 0,
              "ticks": ""
             }
            },
            "type": "scattergl"
           }
          ],
          "scattermapbox": [
           {
            "marker": {
             "colorbar": {
              "outlinewidth": 0,
              "ticks": ""
             }
            },
            "type": "scattermapbox"
           }
          ],
          "scatterpolar": [
           {
            "marker": {
             "colorbar": {
              "outlinewidth": 0,
              "ticks": ""
             }
            },
            "type": "scatterpolar"
           }
          ],
          "scatterpolargl": [
           {
            "marker": {
             "colorbar": {
              "outlinewidth": 0,
              "ticks": ""
             }
            },
            "type": "scatterpolargl"
           }
          ],
          "scatterternary": [
           {
            "marker": {
             "colorbar": {
              "outlinewidth": 0,
              "ticks": ""
             }
            },
            "type": "scatterternary"
           }
          ],
          "surface": [
           {
            "colorbar": {
             "outlinewidth": 0,
             "ticks": ""
            },
            "colorscale": [
             [
              0,
              "#0d0887"
             ],
             [
              0.1111111111111111,
              "#46039f"
             ],
             [
              0.2222222222222222,
              "#7201a8"
             ],
             [
              0.3333333333333333,
              "#9c179e"
             ],
             [
              0.4444444444444444,
              "#bd3786"
             ],
             [
              0.5555555555555556,
              "#d8576b"
             ],
             [
              0.6666666666666666,
              "#ed7953"
             ],
             [
              0.7777777777777778,
              "#fb9f3a"
             ],
             [
              0.8888888888888888,
              "#fdca26"
             ],
             [
              1,
              "#f0f921"
             ]
            ],
            "type": "surface"
           }
          ],
          "table": [
           {
            "cells": {
             "fill": {
              "color": "#EBF0F8"
             },
             "line": {
              "color": "white"
             }
            },
            "header": {
             "fill": {
              "color": "#C8D4E3"
             },
             "line": {
              "color": "white"
             }
            },
            "type": "table"
           }
          ]
         },
         "layout": {
          "annotationdefaults": {
           "arrowcolor": "#2a3f5f",
           "arrowhead": 0,
           "arrowwidth": 1
          },
          "autotypenumbers": "strict",
          "coloraxis": {
           "colorbar": {
            "outlinewidth": 0,
            "ticks": ""
           }
          },
          "colorscale": {
           "diverging": [
            [
             0,
             "#8e0152"
            ],
            [
             0.1,
             "#c51b7d"
            ],
            [
             0.2,
             "#de77ae"
            ],
            [
             0.3,
             "#f1b6da"
            ],
            [
             0.4,
             "#fde0ef"
            ],
            [
             0.5,
             "#f7f7f7"
            ],
            [
             0.6,
             "#e6f5d0"
            ],
            [
             0.7,
             "#b8e186"
            ],
            [
             0.8,
             "#7fbc41"
            ],
            [
             0.9,
             "#4d9221"
            ],
            [
             1,
             "#276419"
            ]
           ],
           "sequential": [
            [
             0,
             "#0d0887"
            ],
            [
             0.1111111111111111,
             "#46039f"
            ],
            [
             0.2222222222222222,
             "#7201a8"
            ],
            [
             0.3333333333333333,
             "#9c179e"
            ],
            [
             0.4444444444444444,
             "#bd3786"
            ],
            [
             0.5555555555555556,
             "#d8576b"
            ],
            [
             0.6666666666666666,
             "#ed7953"
            ],
            [
             0.7777777777777778,
             "#fb9f3a"
            ],
            [
             0.8888888888888888,
             "#fdca26"
            ],
            [
             1,
             "#f0f921"
            ]
           ],
           "sequentialminus": [
            [
             0,
             "#0d0887"
            ],
            [
             0.1111111111111111,
             "#46039f"
            ],
            [
             0.2222222222222222,
             "#7201a8"
            ],
            [
             0.3333333333333333,
             "#9c179e"
            ],
            [
             0.4444444444444444,
             "#bd3786"
            ],
            [
             0.5555555555555556,
             "#d8576b"
            ],
            [
             0.6666666666666666,
             "#ed7953"
            ],
            [
             0.7777777777777778,
             "#fb9f3a"
            ],
            [
             0.8888888888888888,
             "#fdca26"
            ],
            [
             1,
             "#f0f921"
            ]
           ]
          },
          "colorway": [
           "#636efa",
           "#EF553B",
           "#00cc96",
           "#ab63fa",
           "#FFA15A",
           "#19d3f3",
           "#FF6692",
           "#B6E880",
           "#FF97FF",
           "#FECB52"
          ],
          "font": {
           "color": "#2a3f5f"
          },
          "geo": {
           "bgcolor": "white",
           "lakecolor": "white",
           "landcolor": "#E5ECF6",
           "showlakes": true,
           "showland": true,
           "subunitcolor": "white"
          },
          "hoverlabel": {
           "align": "left"
          },
          "hovermode": "closest",
          "mapbox": {
           "style": "light"
          },
          "paper_bgcolor": "white",
          "plot_bgcolor": "#E5ECF6",
          "polar": {
           "angularaxis": {
            "gridcolor": "white",
            "linecolor": "white",
            "ticks": ""
           },
           "bgcolor": "#E5ECF6",
           "radialaxis": {
            "gridcolor": "white",
            "linecolor": "white",
            "ticks": ""
           }
          },
          "scene": {
           "xaxis": {
            "backgroundcolor": "#E5ECF6",
            "gridcolor": "white",
            "gridwidth": 2,
            "linecolor": "white",
            "showbackground": true,
            "ticks": "",
            "zerolinecolor": "white"
           },
           "yaxis": {
            "backgroundcolor": "#E5ECF6",
            "gridcolor": "white",
            "gridwidth": 2,
            "linecolor": "white",
            "showbackground": true,
            "ticks": "",
            "zerolinecolor": "white"
           },
           "zaxis": {
            "backgroundcolor": "#E5ECF6",
            "gridcolor": "white",
            "gridwidth": 2,
            "linecolor": "white",
            "showbackground": true,
            "ticks": "",
            "zerolinecolor": "white"
           }
          },
          "shapedefaults": {
           "line": {
            "color": "#2a3f5f"
           }
          },
          "ternary": {
           "aaxis": {
            "gridcolor": "white",
            "linecolor": "white",
            "ticks": ""
           },
           "baxis": {
            "gridcolor": "white",
            "linecolor": "white",
            "ticks": ""
           },
           "bgcolor": "#E5ECF6",
           "caxis": {
            "gridcolor": "white",
            "linecolor": "white",
            "ticks": ""
           }
          },
          "title": {
           "x": 0.05
          },
          "xaxis": {
           "automargin": true,
           "gridcolor": "white",
           "linecolor": "white",
           "ticks": "",
           "title": {
            "standoff": 15
           },
           "zerolinecolor": "white",
           "zerolinewidth": 2
          },
          "yaxis": {
           "automargin": true,
           "gridcolor": "white",
           "linecolor": "white",
           "ticks": "",
           "title": {
            "standoff": 15
           },
           "zerolinecolor": "white",
           "zerolinewidth": 2
          }
         }
        },
        "title": {
         "font": {
          "size": 20
         },
         "text": "Anders Zorn",
         "x": 0.5
        }
       }
      },
      "text/html": [
       "<div>                            <div id=\"4865e6be-afa5-41e8-bb61-7e7a44f5e9e6\" class=\"plotly-graph-div\" style=\"height:525px; width:100%;\"></div>            <script type=\"text/javascript\">                require([\"plotly\"], function(Plotly) {                    window.PLOTLYENV=window.PLOTLYENV || {};                                    if (document.getElementById(\"4865e6be-afa5-41e8-bb61-7e7a44f5e9e6\")) {                    Plotly.newPlot(                        \"4865e6be-afa5-41e8-bb61-7e7a44f5e9e6\",                        [{\"hole\":0.4,\"hoverinfo\":\"text\",\"labels\":[\"Painting\",\"Prints\",\"Sculptures\"],\"marker\":{\"colors\":[\"#cceecd\",\"#6eb276\",\"#0f7620\"]},\"text\":[\"Painting is the practice of<br>applying paint, pigment, color<br>or other medium to a solid<br>surface (called the \\\"matrix\\\"<br>or \\\"support\\\").\",\"Printmaking is the process of<br>creating artworks by printing,<br>normally on paper, but also on<br>fabric, wood, metal, and other<br>surfaces.\",\"Sculpture is the branch of the<br>visual arts that operates in<br>three dimensions.\"],\"textinfo\":\"label\",\"values\":[33.333333333333336,33.333333333333336,33.333333333333336],\"type\":\"pie\"}],                        {\"template\":{\"data\":{\"histogram2dcontour\":[{\"type\":\"histogram2dcontour\",\"colorbar\":{\"outlinewidth\":0,\"ticks\":\"\"},\"colorscale\":[[0.0,\"#0d0887\"],[0.1111111111111111,\"#46039f\"],[0.2222222222222222,\"#7201a8\"],[0.3333333333333333,\"#9c179e\"],[0.4444444444444444,\"#bd3786\"],[0.5555555555555556,\"#d8576b\"],[0.6666666666666666,\"#ed7953\"],[0.7777777777777778,\"#fb9f3a\"],[0.8888888888888888,\"#fdca26\"],[1.0,\"#f0f921\"]]}],\"choropleth\":[{\"type\":\"choropleth\",\"colorbar\":{\"outlinewidth\":0,\"ticks\":\"\"}}],\"histogram2d\":[{\"type\":\"histogram2d\",\"colorbar\":{\"outlinewidth\":0,\"ticks\":\"\"},\"colorscale\":[[0.0,\"#0d0887\"],[0.1111111111111111,\"#46039f\"],[0.2222222222222222,\"#7201a8\"],[0.3333333333333333,\"#9c179e\"],[0.4444444444444444,\"#bd3786\"],[0.5555555555555556,\"#d8576b\"],[0.6666666666666666,\"#ed7953\"],[0.7777777777777778,\"#fb9f3a\"],[0.8888888888888888,\"#fdca26\"],[1.0,\"#f0f921\"]]}],\"heatmap\":[{\"type\":\"heatmap\",\"colorbar\":{\"outlinewidth\":0,\"ticks\":\"\"},\"colorscale\":[[0.0,\"#0d0887\"],[0.1111111111111111,\"#46039f\"],[0.2222222222222222,\"#7201a8\"],[0.3333333333333333,\"#9c179e\"],[0.4444444444444444,\"#bd3786\"],[0.5555555555555556,\"#d8576b\"],[0.6666666666666666,\"#ed7953\"],[0.7777777777777778,\"#fb9f3a\"],[0.8888888888888888,\"#fdca26\"],[1.0,\"#f0f921\"]]}],\"heatmapgl\":[{\"type\":\"heatmapgl\",\"colorbar\":{\"outlinewidth\":0,\"ticks\":\"\"},\"colorscale\":[[0.0,\"#0d0887\"],[0.1111111111111111,\"#46039f\"],[0.2222222222222222,\"#7201a8\"],[0.3333333333333333,\"#9c179e\"],[0.4444444444444444,\"#bd3786\"],[0.5555555555555556,\"#d8576b\"],[0.6666666666666666,\"#ed7953\"],[0.7777777777777778,\"#fb9f3a\"],[0.8888888888888888,\"#fdca26\"],[1.0,\"#f0f921\"]]}],\"contourcarpet\":[{\"type\":\"contourcarpet\",\"colorbar\":{\"outlinewidth\":0,\"ticks\":\"\"}}],\"contour\":[{\"type\":\"contour\",\"colorbar\":{\"outlinewidth\":0,\"ticks\":\"\"},\"colorscale\":[[0.0,\"#0d0887\"],[0.1111111111111111,\"#46039f\"],[0.2222222222222222,\"#7201a8\"],[0.3333333333333333,\"#9c179e\"],[0.4444444444444444,\"#bd3786\"],[0.5555555555555556,\"#d8576b\"],[0.6666666666666666,\"#ed7953\"],[0.7777777777777778,\"#fb9f3a\"],[0.8888888888888888,\"#fdca26\"],[1.0,\"#f0f921\"]]}],\"surface\":[{\"type\":\"surface\",\"colorbar\":{\"outlinewidth\":0,\"ticks\":\"\"},\"colorscale\":[[0.0,\"#0d0887\"],[0.1111111111111111,\"#46039f\"],[0.2222222222222222,\"#7201a8\"],[0.3333333333333333,\"#9c179e\"],[0.4444444444444444,\"#bd3786\"],[0.5555555555555556,\"#d8576b\"],[0.6666666666666666,\"#ed7953\"],[0.7777777777777778,\"#fb9f3a\"],[0.8888888888888888,\"#fdca26\"],[1.0,\"#f0f921\"]]}],\"mesh3d\":[{\"type\":\"mesh3d\",\"colorbar\":{\"outlinewidth\":0,\"ticks\":\"\"}}],\"scatter\":[{\"fillpattern\":{\"fillmode\":\"overlay\",\"size\":10,\"solidity\":0.2},\"type\":\"scatter\"}],\"parcoords\":[{\"type\":\"parcoords\",\"line\":{\"colorbar\":{\"outlinewidth\":0,\"ticks\":\"\"}}}],\"scatterpolargl\":[{\"type\":\"scatterpolargl\",\"marker\":{\"colorbar\":{\"outlinewidth\":0,\"ticks\":\"\"}}}],\"bar\":[{\"error_x\":{\"color\":\"#2a3f5f\"},\"error_y\":{\"color\":\"#2a3f5f\"},\"marker\":{\"line\":{\"color\":\"#E5ECF6\",\"width\":0.5},\"pattern\":{\"fillmode\":\"overlay\",\"size\":10,\"solidity\":0.2}},\"type\":\"bar\"}],\"scattergeo\":[{\"type\":\"scattergeo\",\"marker\":{\"colorbar\":{\"outlinewidth\":0,\"ticks\":\"\"}}}],\"scatterpolar\":[{\"type\":\"scatterpolar\",\"marker\":{\"colorbar\":{\"outlinewidth\":0,\"ticks\":\"\"}}}],\"histogram\":[{\"marker\":{\"pattern\":{\"fillmode\":\"overlay\",\"size\":10,\"solidity\":0.2}},\"type\":\"histogram\"}],\"scattergl\":[{\"type\":\"scattergl\",\"marker\":{\"colorbar\":{\"outlinewidth\":0,\"ticks\":\"\"}}}],\"scatter3d\":[{\"type\":\"scatter3d\",\"line\":{\"colorbar\":{\"outlinewidth\":0,\"ticks\":\"\"}},\"marker\":{\"colorbar\":{\"outlinewidth\":0,\"ticks\":\"\"}}}],\"scattermapbox\":[{\"type\":\"scattermapbox\",\"marker\":{\"colorbar\":{\"outlinewidth\":0,\"ticks\":\"\"}}}],\"scatterternary\":[{\"type\":\"scatterternary\",\"marker\":{\"colorbar\":{\"outlinewidth\":0,\"ticks\":\"\"}}}],\"scattercarpet\":[{\"type\":\"scattercarpet\",\"marker\":{\"colorbar\":{\"outlinewidth\":0,\"ticks\":\"\"}}}],\"carpet\":[{\"aaxis\":{\"endlinecolor\":\"#2a3f5f\",\"gridcolor\":\"white\",\"linecolor\":\"white\",\"minorgridcolor\":\"white\",\"startlinecolor\":\"#2a3f5f\"},\"baxis\":{\"endlinecolor\":\"#2a3f5f\",\"gridcolor\":\"white\",\"linecolor\":\"white\",\"minorgridcolor\":\"white\",\"startlinecolor\":\"#2a3f5f\"},\"type\":\"carpet\"}],\"table\":[{\"cells\":{\"fill\":{\"color\":\"#EBF0F8\"},\"line\":{\"color\":\"white\"}},\"header\":{\"fill\":{\"color\":\"#C8D4E3\"},\"line\":{\"color\":\"white\"}},\"type\":\"table\"}],\"barpolar\":[{\"marker\":{\"line\":{\"color\":\"#E5ECF6\",\"width\":0.5},\"pattern\":{\"fillmode\":\"overlay\",\"size\":10,\"solidity\":0.2}},\"type\":\"barpolar\"}],\"pie\":[{\"automargin\":true,\"type\":\"pie\"}]},\"layout\":{\"autotypenumbers\":\"strict\",\"colorway\":[\"#636efa\",\"#EF553B\",\"#00cc96\",\"#ab63fa\",\"#FFA15A\",\"#19d3f3\",\"#FF6692\",\"#B6E880\",\"#FF97FF\",\"#FECB52\"],\"font\":{\"color\":\"#2a3f5f\"},\"hovermode\":\"closest\",\"hoverlabel\":{\"align\":\"left\"},\"paper_bgcolor\":\"white\",\"plot_bgcolor\":\"#E5ECF6\",\"polar\":{\"bgcolor\":\"#E5ECF6\",\"angularaxis\":{\"gridcolor\":\"white\",\"linecolor\":\"white\",\"ticks\":\"\"},\"radialaxis\":{\"gridcolor\":\"white\",\"linecolor\":\"white\",\"ticks\":\"\"}},\"ternary\":{\"bgcolor\":\"#E5ECF6\",\"aaxis\":{\"gridcolor\":\"white\",\"linecolor\":\"white\",\"ticks\":\"\"},\"baxis\":{\"gridcolor\":\"white\",\"linecolor\":\"white\",\"ticks\":\"\"},\"caxis\":{\"gridcolor\":\"white\",\"linecolor\":\"white\",\"ticks\":\"\"}},\"coloraxis\":{\"colorbar\":{\"outlinewidth\":0,\"ticks\":\"\"}},\"colorscale\":{\"sequential\":[[0.0,\"#0d0887\"],[0.1111111111111111,\"#46039f\"],[0.2222222222222222,\"#7201a8\"],[0.3333333333333333,\"#9c179e\"],[0.4444444444444444,\"#bd3786\"],[0.5555555555555556,\"#d8576b\"],[0.6666666666666666,\"#ed7953\"],[0.7777777777777778,\"#fb9f3a\"],[0.8888888888888888,\"#fdca26\"],[1.0,\"#f0f921\"]],\"sequentialminus\":[[0.0,\"#0d0887\"],[0.1111111111111111,\"#46039f\"],[0.2222222222222222,\"#7201a8\"],[0.3333333333333333,\"#9c179e\"],[0.4444444444444444,\"#bd3786\"],[0.5555555555555556,\"#d8576b\"],[0.6666666666666666,\"#ed7953\"],[0.7777777777777778,\"#fb9f3a\"],[0.8888888888888888,\"#fdca26\"],[1.0,\"#f0f921\"]],\"diverging\":[[0,\"#8e0152\"],[0.1,\"#c51b7d\"],[0.2,\"#de77ae\"],[0.3,\"#f1b6da\"],[0.4,\"#fde0ef\"],[0.5,\"#f7f7f7\"],[0.6,\"#e6f5d0\"],[0.7,\"#b8e186\"],[0.8,\"#7fbc41\"],[0.9,\"#4d9221\"],[1,\"#276419\"]]},\"xaxis\":{\"gridcolor\":\"white\",\"linecolor\":\"white\",\"ticks\":\"\",\"title\":{\"standoff\":15},\"zerolinecolor\":\"white\",\"automargin\":true,\"zerolinewidth\":2},\"yaxis\":{\"gridcolor\":\"white\",\"linecolor\":\"white\",\"ticks\":\"\",\"title\":{\"standoff\":15},\"zerolinecolor\":\"white\",\"automargin\":true,\"zerolinewidth\":2},\"scene\":{\"xaxis\":{\"backgroundcolor\":\"#E5ECF6\",\"gridcolor\":\"white\",\"linecolor\":\"white\",\"showbackground\":true,\"ticks\":\"\",\"zerolinecolor\":\"white\",\"gridwidth\":2},\"yaxis\":{\"backgroundcolor\":\"#E5ECF6\",\"gridcolor\":\"white\",\"linecolor\":\"white\",\"showbackground\":true,\"ticks\":\"\",\"zerolinecolor\":\"white\",\"gridwidth\":2},\"zaxis\":{\"backgroundcolor\":\"#E5ECF6\",\"gridcolor\":\"white\",\"linecolor\":\"white\",\"showbackground\":true,\"ticks\":\"\",\"zerolinecolor\":\"white\",\"gridwidth\":2}},\"shapedefaults\":{\"line\":{\"color\":\"#2a3f5f\"}},\"annotationdefaults\":{\"arrowcolor\":\"#2a3f5f\",\"arrowhead\":0,\"arrowwidth\":1},\"geo\":{\"bgcolor\":\"white\",\"landcolor\":\"#E5ECF6\",\"subunitcolor\":\"white\",\"showland\":true,\"showlakes\":true,\"lakecolor\":\"white\"},\"title\":{\"x\":0.05},\"mapbox\":{\"style\":\"light\"}}},\"title\":{\"text\":\"Anders Zorn\",\"font\":{\"size\":20},\"x\":0.5},\"showlegend\":false},                        {\"responsive\": true}                    ).then(function(){\n",
       "                            \n",
       "var gd = document.getElementById('4865e6be-afa5-41e8-bb61-7e7a44f5e9e6');\n",
       "var x = new MutationObserver(function (mutations, observer) {{\n",
       "        var display = window.getComputedStyle(gd).display;\n",
       "        if (!display || display === 'none') {{\n",
       "            console.log([gd, 'removed!']);\n",
       "            Plotly.purge(gd);\n",
       "            observer.disconnect();\n",
       "        }}\n",
       "}});\n",
       "\n",
       "// Listen for the removal of the full notebook cells\n",
       "var notebookContainer = gd.closest('#notebook-container');\n",
       "if (notebookContainer) {{\n",
       "    x.observe(notebookContainer, {childList: true});\n",
       "}}\n",
       "\n",
       "// Listen for the clearing of the current output cell\n",
       "var outputEl = gd.closest('.output');\n",
       "if (outputEl) {{\n",
       "    x.observe(outputEl, {childList: true});\n",
       "}}\n",
       "\n",
       "                        })                };                });            </script>        </div>"
      ]
     },
     "metadata": {},
     "output_type": "display_data"
    }
   ],
   "source": [
    "fig = go.Figure(data=[go.Pie(labels=selected['spec'],\n",
    "                            values=selected['value'],\n",
    "                            hole=.4, \n",
    "                            text = selected['short'].str.wrap(30).apply(lambda x: x.replace('\\n', '<br>')),\n",
    "                            textinfo = 'label',\n",
    "                            hoverinfo = 'text',\n",
    "                            marker = dict(colors=color_selected))])\n",
    "fig.update_layout(title=selected['artist'][0], title_font_size = 20, title_x=0.5, showlegend=False)\n",
    "fig.show()"
   ]
  },
  {
   "attachments": {},
   "cell_type": "markdown",
   "metadata": {},
   "source": [
    "## Artworks and artists on network"
   ]
  },
  {
   "cell_type": "code",
   "execution_count": 59,
   "metadata": {},
   "outputs": [
    {
     "name": "stdout",
     "output_type": "stream",
     "text": [
      "(10517, 3)\n"
     ]
    },
    {
     "name": "stderr",
     "output_type": "stream",
     "text": [
      "/tmp/ipykernel_4696/2924107418.py:7: FutureWarning:\n",
      "\n",
      "The default value of regex will change from True to False in a future version.\n",
      "\n"
     ]
    },
    {
     "data": {
      "text/html": [
       "<div>\n",
       "<style scoped>\n",
       "    .dataframe tbody tr th:only-of-type {\n",
       "        vertical-align: middle;\n",
       "    }\n",
       "\n",
       "    .dataframe tbody tr th {\n",
       "        vertical-align: top;\n",
       "    }\n",
       "\n",
       "    .dataframe thead th {\n",
       "        text-align: right;\n",
       "    }\n",
       "</style>\n",
       "<table border=\"1\" class=\"dataframe\">\n",
       "  <thead>\n",
       "    <tr style=\"text-align: right;\">\n",
       "      <th></th>\n",
       "      <th>artist</th>\n",
       "      <th>artwork</th>\n",
       "      <th>url</th>\n",
       "    </tr>\n",
       "  </thead>\n",
       "  <tbody>\n",
       "    <tr>\n",
       "      <th>0</th>\n",
       "      <td>(Giovanni Antonio Canal) Canaletto</td>\n",
       "      <td>The Riva degli Schiavoni, Venice, looking East</td>\n",
       "      <td>https://kuleuven-datathon-2023.s3.eu-central-1...</td>\n",
       "    </tr>\n",
       "    <tr>\n",
       "      <th>1</th>\n",
       "      <td>(Giovanni Antonio Canal) Canaletto</td>\n",
       "      <td>The Grand Canal</td>\n",
       "      <td>https://kuleuven-datathon-2023.s3.eu-central-1...</td>\n",
       "    </tr>\n",
       "    <tr>\n",
       "      <th>2</th>\n",
       "      <td>(Giovanni Antonio Canal) Canaletto</td>\n",
       "      <td>The Quay of the Dogana and the Giudecca Canal,...</td>\n",
       "      <td>https://kuleuven-datathon-2023.s3.eu-central-1...</td>\n",
       "    </tr>\n",
       "    <tr>\n",
       "      <th>3</th>\n",
       "      <td>(Giovanni Antonio Canal) Canaletto</td>\n",
       "      <td>Venice, The Courtyard Of The Palazzo Ducale</td>\n",
       "      <td>https://kuleuven-datathon-2023.s3.eu-central-1...</td>\n",
       "    </tr>\n",
       "    <tr>\n",
       "      <th>4</th>\n",
       "      <td>(Giovanni Antonio Canal) Canaletto</td>\n",
       "      <td>Venice, A View Of The Molo From The Bacino Di ...</td>\n",
       "      <td>https://kuleuven-datathon-2023.s3.eu-central-1...</td>\n",
       "    </tr>\n",
       "  </tbody>\n",
       "</table>\n",
       "</div>"
      ],
      "text/plain": [
       "                               artist  \\\n",
       "0  (Giovanni Antonio Canal) Canaletto   \n",
       "1  (Giovanni Antonio Canal) Canaletto   \n",
       "2  (Giovanni Antonio Canal) Canaletto   \n",
       "3  (Giovanni Antonio Canal) Canaletto   \n",
       "4  (Giovanni Antonio Canal) Canaletto   \n",
       "\n",
       "                                             artwork  \\\n",
       "0     The Riva degli Schiavoni, Venice, looking East   \n",
       "1                                    The Grand Canal   \n",
       "2  The Quay of the Dogana and the Giudecca Canal,...   \n",
       "3        Venice, The Courtyard Of The Palazzo Ducale   \n",
       "4  Venice, A View Of The Molo From The Bacino Di ...   \n",
       "\n",
       "                                                 url  \n",
       "0  https://kuleuven-datathon-2023.s3.eu-central-1...  \n",
       "1  https://kuleuven-datathon-2023.s3.eu-central-1...  \n",
       "2  https://kuleuven-datathon-2023.s3.eu-central-1...  \n",
       "3  https://kuleuven-datathon-2023.s3.eu-central-1...  \n",
       "4  https://kuleuven-datathon-2023.s3.eu-central-1...  "
      ]
     },
     "execution_count": 59,
     "metadata": {},
     "output_type": "execute_result"
    }
   ],
   "source": [
    "df = pl.from_dicts(graph.run(\"\"\"\n",
    "    match (artwork: Artwork) -- (artist: Artist)\n",
    "    return artist.name as artist, artwork.name as artwork, artwork.image_url as url\n",
    "    order by artist;\n",
    "\"\"\").data(), schema={\"artist\": str, \"artwork\": str, \"url\": str}).to_pandas()\n",
    "\n",
    "df['artist'] = df['artist'].str.replace('\\(after\\) ', '')\n",
    "print(df.shape)\n",
    "df.head()"
   ]
  },
  {
   "cell_type": "code",
   "execution_count": 82,
   "metadata": {},
   "outputs": [],
   "source": [
    "temp = df['artist'].unique()\n",
    "temp_count = df.artist.value_counts(sort = False).reset_index()\n",
    "temp_count.columns = ['artist', 'Count']\n",
    "temp_count = temp_count.reset_index(drop=True)"
   ]
  },
  {
   "cell_type": "code",
   "execution_count": 85,
   "metadata": {},
   "outputs": [],
   "source": [
    "lst= []\n",
    "for i in list(temp_count['Count']):\n",
    "    for j in range(0, i):\n",
    "        lst.append(j + 1)\n",
    "df['Number'] = lst"
   ]
  },
  {
   "cell_type": "code",
   "execution_count": null,
   "metadata": {},
   "outputs": [],
   "source": [
    "nodes = []\n",
    "edges = []\n",
    "\n",
    "for art, work, url in df[['artist', 'Number', 'url']].itertuples(index=False):\n",
    "    if not any(d['id'] == art for d in nodes):\n",
    "        nodes.append({'id': art, 'label': art, 'shape': 'dot', 'size': 5})\n",
    "    if not any(d['id'] == work for d in nodes):\n",
    "        nodes.append({'id': work, 'label': work, 'shape': 'image', 'image': url,'size': 8})\n",
    "    if not any(d['id'] == art + ' - ' + work for d in edges):\n",
    "        edges.append({'id': art + ' - ' + work,\n",
    "        'from': art,\n",
    "        'to': work,\n",
    "        'width': 1})"
   ]
  },
  {
   "cell_type": "code",
   "execution_count": null,
   "metadata": {},
   "outputs": [],
   "source": [
    "print(df.loc[df['artist'] =='Auguste Forbin'].reset_index())"
   ]
  },
  {
   "cell_type": "code",
   "execution_count": null,
   "metadata": {},
   "outputs": [],
   "source": [
    "print(df.loc[df['artist'] == 'Auguste Forbin'].reset_index().drop(['index', 'url'], axis = 1).to_dict('records'))\n"
   ]
  },
  {
   "cell_type": "code",
   "execution_count": null,
   "metadata": {},
   "outputs": [],
   "source": [
    "df_artists = pl.from_dicts(graph.run(\"\"\"\n",
    "        match (a: Artist)\n",
    "        return a.name as artist\n",
    "        order by artist;\n",
    "\"\"\").data(), schema={\"artist\": str}).to_pandas()\n",
    "\n",
    "df_artists['artist'] = df_artists['artist'].str.replace('\\(after\\) ', '')\n",
    "# drop row with \"and ...\"\n",
    "df_artists = df_artists['artist'].unique()[:-1]\n"
   ]
  },
  {
   "attachments": {},
   "cell_type": "markdown",
   "metadata": {},
   "source": [
    "## Most popular medium"
   ]
  },
  {
   "cell_type": "code",
   "execution_count": 169,
   "metadata": {},
   "outputs": [
    {
     "data": {
      "text/html": [
       "<div>\n",
       "<style scoped>\n",
       "    .dataframe tbody tr th:only-of-type {\n",
       "        vertical-align: middle;\n",
       "    }\n",
       "\n",
       "    .dataframe tbody tr th {\n",
       "        vertical-align: top;\n",
       "    }\n",
       "\n",
       "    .dataframe thead th {\n",
       "        text-align: right;\n",
       "    }\n",
       "</style>\n",
       "<table border=\"1\" class=\"dataframe\">\n",
       "  <thead>\n",
       "    <tr style=\"text-align: right;\">\n",
       "      <th></th>\n",
       "      <th>artwork</th>\n",
       "      <th>medium</th>\n",
       "    </tr>\n",
       "  </thead>\n",
       "  <tbody>\n",
       "    <tr>\n",
       "      <th>0</th>\n",
       "      <td>A Cart On The Snow Covered Road With Saint Sim...</td>\n",
       "      <td>Oil on canvas</td>\n",
       "    </tr>\n",
       "    <tr>\n",
       "      <th>1</th>\n",
       "      <td>A Girl Reading</td>\n",
       "      <td>Oil on canvas</td>\n",
       "    </tr>\n",
       "    <tr>\n",
       "      <th>2</th>\n",
       "      <td>A Ground Swell</td>\n",
       "      <td>Oil on canvas</td>\n",
       "    </tr>\n",
       "    <tr>\n",
       "      <th>3</th>\n",
       "      <td>A Gypsy Girl</td>\n",
       "      <td>Oil on wood</td>\n",
       "    </tr>\n",
       "    <tr>\n",
       "      <th>4</th>\n",
       "      <td>A Landscape With The Parable Of The Good Samar...</td>\n",
       "      <td>Oil on wood</td>\n",
       "    </tr>\n",
       "    <tr>\n",
       "      <th>...</th>\n",
       "      <td>...</td>\n",
       "      <td>...</td>\n",
       "    </tr>\n",
       "    <tr>\n",
       "      <th>521</th>\n",
       "      <td>Young Mother Sewing</td>\n",
       "      <td>Oil on canvas</td>\n",
       "    </tr>\n",
       "    <tr>\n",
       "      <th>522</th>\n",
       "      <td>Young Woman Before a Mirror</td>\n",
       "      <td>Oil on canvas</td>\n",
       "    </tr>\n",
       "    <tr>\n",
       "      <th>523</th>\n",
       "      <td>Young Woman in the Garden</td>\n",
       "      <td>Oil on canvas</td>\n",
       "    </tr>\n",
       "    <tr>\n",
       "      <th>524</th>\n",
       "      <td>Young shepherd and maid in a landscape</td>\n",
       "      <td>Oil on canvas</td>\n",
       "    </tr>\n",
       "    <tr>\n",
       "      <th>525</th>\n",
       "      <td>Zephyr And Flora</td>\n",
       "      <td>Oil on canvas</td>\n",
       "    </tr>\n",
       "  </tbody>\n",
       "</table>\n",
       "<p>526 rows × 2 columns</p>\n",
       "</div>"
      ],
      "text/plain": [
       "                                               artwork         medium\n",
       "0    A Cart On The Snow Covered Road With Saint Sim...  Oil on canvas\n",
       "1                                       A Girl Reading  Oil on canvas\n",
       "2                                       A Ground Swell  Oil on canvas\n",
       "3                                         A Gypsy Girl    Oil on wood\n",
       "4    A Landscape With The Parable Of The Good Samar...    Oil on wood\n",
       "..                                                 ...            ...\n",
       "521                                Young Mother Sewing  Oil on canvas\n",
       "522                        Young Woman Before a Mirror  Oil on canvas\n",
       "523                          Young Woman in the Garden  Oil on canvas\n",
       "524             Young shepherd and maid in a landscape  Oil on canvas\n",
       "525                                   Zephyr And Flora  Oil on canvas\n",
       "\n",
       "[526 rows x 2 columns]"
      ]
     },
     "execution_count": 169,
     "metadata": {},
     "output_type": "execute_result"
    }
   ],
   "source": [
    "df_medium = pl.from_dicts(graph.run(\"\"\"\n",
    "        match (a: Artwork) -- (m: Medium)\n",
    "        return a.name as artwork, m.name as medium\n",
    "        order by artwork;\n",
    "\"\"\").data(), schema={\"artwork\": str, \"medium\": str}).to_pandas()\n",
    "\n",
    "df_medium\n"
   ]
  },
  {
   "cell_type": "code",
   "execution_count": 181,
   "metadata": {},
   "outputs": [
    {
     "data": {
      "text/html": [
       "<div>\n",
       "<style scoped>\n",
       "    .dataframe tbody tr th:only-of-type {\n",
       "        vertical-align: middle;\n",
       "    }\n",
       "\n",
       "    .dataframe tbody tr th {\n",
       "        vertical-align: top;\n",
       "    }\n",
       "\n",
       "    .dataframe thead th {\n",
       "        text-align: right;\n",
       "    }\n",
       "</style>\n",
       "<table border=\"1\" class=\"dataframe\">\n",
       "  <thead>\n",
       "    <tr style=\"text-align: right;\">\n",
       "      <th></th>\n",
       "      <th>Medium</th>\n",
       "      <th>Count</th>\n",
       "    </tr>\n",
       "  </thead>\n",
       "  <tbody>\n",
       "    <tr>\n",
       "      <th>0</th>\n",
       "      <td>Oil on canvas</td>\n",
       "      <td>415</td>\n",
       "    </tr>\n",
       "    <tr>\n",
       "      <th>1</th>\n",
       "      <td>Oil on panel</td>\n",
       "      <td>38</td>\n",
       "    </tr>\n",
       "    <tr>\n",
       "      <th>2</th>\n",
       "      <td>Tempera on panel</td>\n",
       "      <td>21</td>\n",
       "    </tr>\n",
       "    <tr>\n",
       "      <th>3</th>\n",
       "      <td>Oil on wood</td>\n",
       "      <td>19</td>\n",
       "    </tr>\n",
       "    <tr>\n",
       "      <th>4</th>\n",
       "      <td>Marble</td>\n",
       "      <td>8</td>\n",
       "    </tr>\n",
       "    <tr>\n",
       "      <th>5</th>\n",
       "      <td>Mixed media</td>\n",
       "      <td>7</td>\n",
       "    </tr>\n",
       "    <tr>\n",
       "      <th>6</th>\n",
       "      <td>Bronze</td>\n",
       "      <td>4</td>\n",
       "    </tr>\n",
       "    <tr>\n",
       "      <th>7</th>\n",
       "      <td>Tempera on canvas</td>\n",
       "      <td>3</td>\n",
       "    </tr>\n",
       "    <tr>\n",
       "      <th>8</th>\n",
       "      <td>Oil on paper</td>\n",
       "      <td>3</td>\n",
       "    </tr>\n",
       "    <tr>\n",
       "      <th>9</th>\n",
       "      <td>Fresco</td>\n",
       "      <td>3</td>\n",
       "    </tr>\n",
       "    <tr>\n",
       "      <th>10</th>\n",
       "      <td>Oil on masonite</td>\n",
       "      <td>2</td>\n",
       "    </tr>\n",
       "    <tr>\n",
       "      <th>11</th>\n",
       "      <td>Oil on copper</td>\n",
       "      <td>2</td>\n",
       "    </tr>\n",
       "    <tr>\n",
       "      <th>12</th>\n",
       "      <td>Paper</td>\n",
       "      <td>1</td>\n",
       "    </tr>\n",
       "  </tbody>\n",
       "</table>\n",
       "</div>"
      ],
      "text/plain": [
       "               Medium  Count\n",
       "0       Oil on canvas    415\n",
       "1        Oil on panel     38\n",
       "2    Tempera on panel     21\n",
       "3         Oil on wood     19\n",
       "4              Marble      8\n",
       "5         Mixed media      7\n",
       "6              Bronze      4\n",
       "7   Tempera on canvas      3\n",
       "8        Oil on paper      3\n",
       "9              Fresco      3\n",
       "10    Oil on masonite      2\n",
       "11      Oil on copper      2\n",
       "12              Paper      1"
      ]
     },
     "execution_count": 181,
     "metadata": {},
     "output_type": "execute_result"
    }
   ],
   "source": [
    "medium_sum = df_medium.medium.value_counts().reset_index()\n",
    "medium_sum.columns = ['Medium', 'Count']\n",
    "medium_sum.sort_values(by=['Count', 'Medium'], inplace=True, ascending = [False, False])\n",
    "medium_sum = medium_sum.reset_index(drop=True)\n",
    "medium_sum"
   ]
  },
  {
   "cell_type": "code",
   "execution_count": 214,
   "metadata": {},
   "outputs": [
    {
     "data": {
      "image/png": "[encoded data removed]",
      "text/plain": [
       "<Figure size 1400x1400 with 1 Axes>"
      ]
     },
     "metadata": {},
     "output_type": "display_data"
    }
   ],
   "source": [
    "import circlify\n",
    "# compute circle positions:\n",
    "circles = circlify.circlify(medium_sum['Count'].tolist(), \n",
    "                            show_enclosure=False, \n",
    "                            target_enclosure=circlify.Circle(x=0, y=0)\n",
    "                           )\n",
    "circles.reverse()\n",
    "\n",
    "fig, ax = plt.subplots(figsize=(14, 14), facecolor='white')\n",
    "ax.axis('off')\n",
    "lim = max(max(abs(circle.x)+circle.r, abs(circle.y)+circle.r,) for circle in circles)\n",
    "plt.xlim(-lim, lim)\n",
    "plt.ylim(-lim, lim)\n",
    "\n",
    "colors = get_color_gradient(color_2, color_1, len(medium_sum))\n",
    "# print circles\n",
    "i = 0\n",
    "for circle, label, emi, color in zip(circles, medium_sum['Medium'], medium_sum['Count'], colors):\n",
    "    x, y, r = circle\n",
    "    ax.add_patch(plt.Circle((x, y), r, alpha=0.9, color = color))\n",
    "    if label == 'Tempera on canvas':\n",
    "        plt.annotate(\"Tempera on\" + '\\n' + 'canvas' +'\\n'+ format(emi, \",\"), (x,y), size=6, va='center', ha='center', color='White')\n",
    "    elif label == 'Oil on masonite':\n",
    "        plt.annotate(\"Oil on\" + '\\n' + 'masonite' +'\\n'+ format(emi, \",\"), (x,y), size=6, va='center', ha='center', color='White')\n",
    "    else:\n",
    "        if i < 7:\n",
    "            plt.annotate(label +'\\n'+ format(emi, \",\"), (x,y), size=10, va='center', ha='center', color='White')\n",
    "        else:\n",
    "            plt.annotate(label +'\\n'+ format(emi, \",\"), (x,y), size=6, va='center', ha='center', color='White')\n",
    "    i = i + 1\n",
    "plt.xticks([])\n",
    "plt.yticks([])\n",
    "plt.savefig('medium.png')"
   ]
  },
  {
   "cell_type": "code",
   "execution_count": null,
   "metadata": {},
   "outputs": [],
   "source": []
  }
 ],
 "metadata": {
  "kernelspec": {
   "display_name": "Python 3",
   "language": "python",
   "name": "python3"
  },
  "language_info": {
   "codemirror_mode": {
    "name": "ipython",
    "version": 3
   },
   "file_extension": ".py",
   "mimetype": "text/x-python",
   "name": "python",
   "nbconvert_exporter": "python",
   "pygments_lexer": "ipython3",
   "version": "3.10.10"
  },
  "orig_nbformat": 4,
  "vscode": {
   "interpreter": {
    "hash": "b186eadf143e578b4ed43c4c565c66329a06edac305528c666b0290ee6259176"
   }
  }
 },
 "nbformat": 4,
 "nbformat_minor": 2
}
