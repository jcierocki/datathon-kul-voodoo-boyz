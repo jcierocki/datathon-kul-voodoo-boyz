{
 "cells": [
  {
   "cell_type": "code",
   "execution_count": 1,
   "metadata": {},
   "outputs": [],
   "source": [
    "import numpy as np\n",
    "import polars as pl\n",
    "import sys\n",
    "\n",
    "sys.path.append(\"../\")\n",
    "\n",
    "from multiprocessing import cpu_count\n",
    "\n",
    "from src.img_db import ImageDatabase"
   ]
  },
  {
   "cell_type": "code",
   "execution_count": 3,
   "metadata": {},
   "outputs": [
    {
     "name": "stderr",
     "output_type": "stream",
     "text": [
      "Corrupt JPEG data: bad Huffman code\n",
      "Corrupt JPEG data: bad Huffman code\n",
      "Corrupt JPEG data: bad Huffman code\n"
     ]
    }
   ],
   "source": [
    "# img_db = ImageDatabase(\"../data/images/original\", \"../data/images/generated\")\n",
    "# img_db.load_files()"
   ]
  },
  {
   "cell_type": "code",
   "execution_count": 4,
   "metadata": {},
   "outputs": [],
   "source": [
    "# img_db.denoise()"
   ]
  },
  {
   "cell_type": "code",
   "execution_count": 5,
   "metadata": {},
   "outputs": [],
   "source": [
    "# img_db.crop(crop_size=64)\n",
    "\n",
    "# X_raw, y = img_db.export(log_abs=False)"
   ]
  },
  {
   "cell_type": "code",
   "execution_count": 2,
   "metadata": {},
   "outputs": [],
   "source": [
    "import joblib"
   ]
  },
  {
   "cell_type": "code",
   "execution_count": 227,
   "metadata": {},
   "outputs": [
    {
     "data": {
      "text/plain": [
       "['../data/all_artworks_denoised_crop64_list.lzma']"
      ]
     },
     "execution_count": 227,
     "metadata": {},
     "output_type": "execute_result"
    }
   ],
   "source": [
    "joblib.dump(img_db.get_data()[0], \"../data/all_artworks_denoised_crop64_list.lzma\", compress=8, protocol=5)"
   ]
  },
  {
   "cell_type": "code",
   "execution_count": 7,
   "metadata": {},
   "outputs": [],
   "source": [
    "# pl.from_numpy(\n",
    "#     X_raw, \n",
    "#     schema=[f\"c{i}\" for i in range(X_raw.shape[1])], \n",
    "#     orient=\"row\"\n",
    "# ).write_parquet(\"../data/all_artworks_denoised_zstd.parquet\", compression=\"zstd\", compression_level=19)"
   ]
  },
  {
   "cell_type": "code",
   "execution_count": 2,
   "metadata": {},
   "outputs": [
    {
     "ename": "FileNotFoundError",
     "evalue": "No such file or directory: ../data/intermediate_data/all_artworks_denoised.parquet",
     "output_type": "error",
     "traceback": [
      "\u001b[0;31m---------------------------------------------------------------------------\u001b[0m",
      "\u001b[0;31mFileNotFoundError\u001b[0m                         Traceback (most recent call last)",
      "Cell \u001b[0;32mIn[2], line 1\u001b[0m\n\u001b[0;32m----> 1\u001b[0m X_raw2 \u001b[39m=\u001b[39m pl\u001b[39m.\u001b[39;49mread_parquet(\u001b[39m\"\u001b[39;49m\u001b[39m../data/intermediate_data/all_artworks_denoised.parquet\u001b[39;49m\u001b[39m\"\u001b[39;49m)\u001b[39m.\u001b[39mto_numpy()\n\u001b[1;32m      3\u001b[0m img_db2 \u001b[39m=\u001b[39m ImageDatabase(\u001b[39m\"\u001b[39m\u001b[39m../data/images/original\u001b[39m\u001b[39m\"\u001b[39m, \u001b[39m\"\u001b[39m\u001b[39m../data/images/generated\u001b[39m\u001b[39m\"\u001b[39m)\n\u001b[1;32m      4\u001b[0m img_db2\u001b[39m.\u001b[39mload_files()\n",
      "File \u001b[0;32m~/Dokumenty/PythonProjects/datathon-kul-voodoo-boyz/.env/lib/python3.10/site-packages/polars/io.py:959\u001b[0m, in \u001b[0;36mread_parquet\u001b[0;34m(source, columns, n_rows, use_pyarrow, memory_map, storage_options, parallel, row_count_name, row_count_offset, low_memory, pyarrow_options)\u001b[0m\n\u001b[1;32m    945\u001b[0m     \u001b[39mimport\u001b[39;00m \u001b[39mpyarrow\u001b[39;00m\u001b[39m.\u001b[39;00m\u001b[39mparquet\u001b[39;00m\n\u001b[1;32m    947\u001b[0m     \u001b[39mreturn\u001b[39;00m cast(\n\u001b[1;32m    948\u001b[0m         DataFrame,\n\u001b[1;32m    949\u001b[0m         from_arrow(\n\u001b[0;32m   (...)\u001b[0m\n\u001b[1;32m    956\u001b[0m         ),\n\u001b[1;32m    957\u001b[0m     )\n\u001b[0;32m--> 959\u001b[0m \u001b[39mreturn\u001b[39;00m DataFrame\u001b[39m.\u001b[39;49m_read_parquet(\n\u001b[1;32m    960\u001b[0m     source_prep,\n\u001b[1;32m    961\u001b[0m     columns\u001b[39m=\u001b[39;49mcolumns,\n\u001b[1;32m    962\u001b[0m     n_rows\u001b[39m=\u001b[39;49mn_rows,\n\u001b[1;32m    963\u001b[0m     parallel\u001b[39m=\u001b[39;49mparallel,\n\u001b[1;32m    964\u001b[0m     row_count_name\u001b[39m=\u001b[39;49mrow_count_name,\n\u001b[1;32m    965\u001b[0m     row_count_offset\u001b[39m=\u001b[39;49mrow_count_offset,\n\u001b[1;32m    966\u001b[0m     low_memory\u001b[39m=\u001b[39;49mlow_memory,\n\u001b[1;32m    967\u001b[0m )\n",
      "File \u001b[0;32m~/Dokumenty/PythonProjects/datathon-kul-voodoo-boyz/.env/lib/python3.10/site-packages/polars/internals/dataframe/frame.py:843\u001b[0m, in \u001b[0;36mDataFrame._read_parquet\u001b[0;34m(cls, file, columns, n_rows, parallel, row_count_name, row_count_offset, low_memory)\u001b[0m\n\u001b[1;32m    841\u001b[0m projection, columns \u001b[39m=\u001b[39m handle_projection_columns(columns)\n\u001b[1;32m    842\u001b[0m \u001b[39mself\u001b[39m \u001b[39m=\u001b[39m \u001b[39mcls\u001b[39m\u001b[39m.\u001b[39m\u001b[39m__new__\u001b[39m(\u001b[39mcls\u001b[39m)\n\u001b[0;32m--> 843\u001b[0m \u001b[39mself\u001b[39m\u001b[39m.\u001b[39m_df \u001b[39m=\u001b[39m PyDataFrame\u001b[39m.\u001b[39;49mread_parquet(\n\u001b[1;32m    844\u001b[0m     file,\n\u001b[1;32m    845\u001b[0m     columns,\n\u001b[1;32m    846\u001b[0m     projection,\n\u001b[1;32m    847\u001b[0m     n_rows,\n\u001b[1;32m    848\u001b[0m     parallel,\n\u001b[1;32m    849\u001b[0m     _prepare_row_count_args(row_count_name, row_count_offset),\n\u001b[1;32m    850\u001b[0m     low_memory\u001b[39m=\u001b[39;49mlow_memory,\n\u001b[1;32m    851\u001b[0m )\n\u001b[1;32m    852\u001b[0m \u001b[39mreturn\u001b[39;00m \u001b[39mself\u001b[39m\n",
      "\u001b[0;31mFileNotFoundError\u001b[0m: No such file or directory: ../data/intermediate_data/all_artworks_denoised.parquet"
     ]
    }
   ],
   "source": [
    "X_raw2 = pl.read_parquet(\"../data/intermediate_data/all_artworks_denoised.parquet\").to_numpy()\n",
    "\n",
    "img_db2 = ImageDatabase(\"../data/images/original\", \"../data/images/generated\")\n",
    "img_db2.load_files()\n",
    "_, y = img_db2.get_data()"
   ]
  },
  {
   "cell_type": "code",
   "execution_count": 3,
   "metadata": {},
   "outputs": [],
   "source": [
    "from sklearn.model_selection import train_test_split, GridSearchCV, StratifiedKFold, cross_val_score\n",
    "from sklearn.linear_model import LogisticRegressionCV, LogisticRegression\n",
    "from sklearn.svm import SVC\n",
    "from sklearn.metrics import roc_auc_score, roc_curve, balanced_accuracy_score, f1_score, make_scorer\n",
    "from sklearn.preprocessing import StandardScaler"
   ]
  },
  {
   "cell_type": "code",
   "execution_count": 5,
   "metadata": {},
   "outputs": [
    {
     "data": {
      "text/plain": [
       "(13963, 4096)"
      ]
     },
     "execution_count": 5,
     "metadata": {},
     "output_type": "execute_result"
    }
   ],
   "source": [
    "X_raw2.shape"
   ]
  },
  {
   "cell_type": "code",
   "execution_count": 11,
   "metadata": {},
   "outputs": [],
   "source": [
    "y = y.astype(np.int_)\n",
    "# X = X_raw2\n",
    "X = np.log(np.abs(X_raw2 + 1))[:, np.r_[:400, -1000:-1]]\n",
    "X_train, X_test, y_train, y_test = train_test_split(X, y, test_size=0.2, random_state=1234, stratify=y)"
   ]
  },
  {
   "cell_type": "code",
   "execution_count": 7,
   "metadata": {},
   "outputs": [
    {
     "data": {
      "text/plain": [
       "(2793, 1299)"
      ]
     },
     "execution_count": 7,
     "metadata": {},
     "output_type": "execute_result"
    }
   ],
   "source": [
    "# X_train = X_train[:, np.r_[:512, -512:-0]]\n",
    "# X_test = X_test[:, np.r_[:512, -512:-0]]\n",
    "# X_train = X_train[:, :1024]\n",
    "# X_test = X_test[:, :1024]\n",
    "\n",
    "X_test.shape"
   ]
  },
  {
   "cell_type": "code",
   "execution_count": 194,
   "metadata": {},
   "outputs": [
    {
     "name": "stderr",
     "output_type": "stream",
     "text": [
      "/home/jcierocki/.local/share/virtualenvs/datathon-kul-voodoo-boyz/lib/python3.10/site-packages/sklearn/linear_model/_sag.py:350: ConvergenceWarning: The max_iter was reached which means the coef_ did not converge\n",
      "  warnings.warn(\n",
      "/home/jcierocki/.local/share/virtualenvs/datathon-kul-voodoo-boyz/lib/python3.10/site-packages/sklearn/linear_model/_sag.py:350: ConvergenceWarning: The max_iter was reached which means the coef_ did not converge\n",
      "  warnings.warn(\n",
      "/home/jcierocki/.local/share/virtualenvs/datathon-kul-voodoo-boyz/lib/python3.10/site-packages/sklearn/linear_model/_sag.py:350: ConvergenceWarning: The max_iter was reached which means the coef_ did not converge\n",
      "  warnings.warn(\n",
      "/home/jcierocki/.local/share/virtualenvs/datathon-kul-voodoo-boyz/lib/python3.10/site-packages/sklearn/linear_model/_sag.py:350: ConvergenceWarning: The max_iter was reached which means the coef_ did not converge\n",
      "  warnings.warn(\n",
      "/home/jcierocki/.local/share/virtualenvs/datathon-kul-voodoo-boyz/lib/python3.10/site-packages/sklearn/linear_model/_sag.py:350: ConvergenceWarning: The max_iter was reached which means the coef_ did not converge\n",
      "  warnings.warn(\n",
      "/home/jcierocki/.local/share/virtualenvs/datathon-kul-voodoo-boyz/lib/python3.10/site-packages/sklearn/linear_model/_sag.py:350: ConvergenceWarning: The max_iter was reached which means the coef_ did not converge\n",
      "  warnings.warn(\n",
      "/home/jcierocki/.local/share/virtualenvs/datathon-kul-voodoo-boyz/lib/python3.10/site-packages/sklearn/linear_model/_sag.py:350: ConvergenceWarning: The max_iter was reached which means the coef_ did not converge\n",
      "  warnings.warn(\n",
      "/home/jcierocki/.local/share/virtualenvs/datathon-kul-voodoo-boyz/lib/python3.10/site-packages/sklearn/linear_model/_sag.py:350: ConvergenceWarning: The max_iter was reached which means the coef_ did not converge\n",
      "  warnings.warn(\n",
      "/home/jcierocki/.local/share/virtualenvs/datathon-kul-voodoo-boyz/lib/python3.10/site-packages/sklearn/linear_model/_sag.py:350: ConvergenceWarning: The max_iter was reached which means the coef_ did not converge\n",
      "  warnings.warn(\n",
      "/home/jcierocki/.local/share/virtualenvs/datathon-kul-voodoo-boyz/lib/python3.10/site-packages/sklearn/linear_model/_sag.py:350: ConvergenceWarning: The max_iter was reached which means the coef_ did not converge\n",
      "  warnings.warn(\n",
      "/home/jcierocki/.local/share/virtualenvs/datathon-kul-voodoo-boyz/lib/python3.10/site-packages/sklearn/linear_model/_sag.py:350: ConvergenceWarning: The max_iter was reached which means the coef_ did not converge\n",
      "  warnings.warn(\n"
     ]
    }
   ],
   "source": [
    "# m1 = LogisticRegression(\n",
    "#     class_weight=\"balanced\",\n",
    "#     random_state=1234,\n",
    "#     n_jobs=cpu_count() - 2,\n",
    "#     solver=\"saga\",\n",
    "#     max_iter=800\n",
    "# ).fit(X_train, y_train)\n",
    "m1 = LogisticRegressionCV(\n",
    "    penalty=\"l2\",\n",
    "    cv=StratifiedKFold(n_splits=5, random_state=1234, shuffle=True),\n",
    "    class_weight=\"balanced\",\n",
    "    random_state=1234,\n",
    "    n_jobs=cpu_count() - 2,\n",
    "    solver=\"saga\",\n",
    "    max_iter=500\n",
    ").fit(X_train, y_train)"
   ]
  },
  {
   "cell_type": "code",
   "execution_count": 195,
   "metadata": {},
   "outputs": [],
   "source": [
    "pred_proba1 = m1.predict_proba(X_test)[:, 1]\n",
    "pred1 = (pred_proba1 > 0.5).astype(np.int_)"
   ]
  },
  {
   "cell_type": "code",
   "execution_count": 196,
   "metadata": {},
   "outputs": [
    {
     "data": {
      "text/plain": [
       "0.6627637867190561"
      ]
     },
     "execution_count": 196,
     "metadata": {},
     "output_type": "execute_result"
    }
   ],
   "source": [
    "balanced_accuracy_score(y_test, pred1)"
   ]
  },
  {
   "cell_type": "code",
   "execution_count": 197,
   "metadata": {},
   "outputs": [
    {
     "data": {
      "text/plain": [
       "0.7241097198231856"
      ]
     },
     "execution_count": 197,
     "metadata": {},
     "output_type": "execute_result"
    }
   ],
   "source": [
    "roc_auc_score(y_test, pred_proba1)"
   ]
  },
  {
   "cell_type": "code",
   "execution_count": 6,
   "metadata": {},
   "outputs": [],
   "source": [
    "import optuna"
   ]
  },
  {
   "cell_type": "code",
   "execution_count": 12,
   "metadata": {},
   "outputs": [],
   "source": [
    "m2 = SVC(\n",
    "    class_weight=\"balanced\"\n",
    ").fit(X_train, y_train)"
   ]
  },
  {
   "cell_type": "code",
   "execution_count": 14,
   "metadata": {},
   "outputs": [
    {
     "data": {
      "text/plain": [
       "['../output/svm_trained.xz']"
      ]
     },
     "execution_count": 14,
     "metadata": {},
     "output_type": "execute_result"
    }
   ],
   "source": [
    "import joblib\n",
    "\n",
    "joblib.dump(m2, \"../output/svm_trained.xz\", compress=9, protocol=5)"
   ]
  },
  {
   "cell_type": "code",
   "execution_count": 13,
   "metadata": {},
   "outputs": [
    {
     "name": "stdout",
     "output_type": "stream",
     "text": [
      "0.7256004183061361\n",
      "0.8329177057356608\n"
     ]
    }
   ],
   "source": [
    "# m2 = SVC(\n",
    "#     class_weight=\"balanced\",\n",
    "#     **{'kernel': 'poly', 'C': 1.5546279362233293, 'gamma': 'scale'}\n",
    "# ).fit(X_train, y_train)\n",
    "\n",
    "pred2 = m2.predict(X_test)\n",
    "\n",
    "print(balanced_accuracy_score(y_test, pred2))\n",
    "print(f1_score(y_test, pred2))"
   ]
  },
  {
   "cell_type": "code",
   "execution_count": 13,
   "metadata": {},
   "outputs": [],
   "source": [
    "kfold = StratifiedKFold(n_splits=6, shuffle=True, random_state=1234)\n",
    "\n",
    "def obj(trial: optuna.Trial):\n",
    "    mod = SVC(\n",
    "        kernel = trial.suggest_categorical(\"kernel\", [\"poly\", \"rbf\", \"sigmoid\"]),\n",
    "        C = trial.suggest_float('C', 0.1, 3, log=True),\n",
    "        gamma=trial.suggest_categorical('gamma', ['auto','scale']),\n",
    "        class_weight=\"balanced\",\n",
    "        max_iter=1500\n",
    "    )\n",
    "\n",
    "    return cross_val_score(mod, X_train, y_train, cv=kfold, n_jobs=cpu_count() - 2, scoring=make_scorer(balanced_accuracy_score)).mean()"
   ]
  },
  {
   "cell_type": "code",
   "execution_count": 14,
   "metadata": {},
   "outputs": [
    {
     "name": "stderr",
     "output_type": "stream",
     "text": [
      "\u001b[32m[I 2023-02-23 08:23:50,279]\u001b[0m A new study created in RDB with name: no-name-eaae91a0-216f-49d7-be8a-2bc482dc5196\u001b[0m\n",
      "/home/jcierocki/.local/share/virtualenvs/datathon-kul-voodoo-boyz/lib/python3.10/site-packages/optuna/progress_bar.py:56: ExperimentalWarning: Progress bar is experimental (supported from v1.2.0). The interface can change in the future.\n",
      "  self._init_valid()\n"
     ]
    },
    {
     "data": {
      "application/vnd.jupyter.widget-view+json": {
       "model_id": "2bb344f430e240e7a6c107889c9e7608",
       "version_major": 2,
       "version_minor": 0
      },
      "text/plain": [
       "  0%|          | 0/40 [00:00<?, ?it/s]"
      ]
     },
     "metadata": {},
     "output_type": "display_data"
    },
    {
     "name": "stderr",
     "output_type": "stream",
     "text": [
      "/home/jcierocki/.local/share/virtualenvs/datathon-kul-voodoo-boyz/lib/python3.10/site-packages/sklearn/svm/_base.py:299: ConvergenceWarning: Solver terminated early (max_iter=1500).  Consider pre-processing your data with StandardScaler or MinMaxScaler.\n",
      "  warnings.warn(\n",
      "/home/jcierocki/.local/share/virtualenvs/datathon-kul-voodoo-boyz/lib/python3.10/site-packages/sklearn/svm/_base.py:299: ConvergenceWarning: Solver terminated early (max_iter=1500).  Consider pre-processing your data with StandardScaler or MinMaxScaler.\n",
      "  warnings.warn(\n",
      "/home/jcierocki/.local/share/virtualenvs/datathon-kul-voodoo-boyz/lib/python3.10/site-packages/sklearn/svm/_base.py:299: ConvergenceWarning: Solver terminated early (max_iter=1500).  Consider pre-processing your data with StandardScaler or MinMaxScaler.\n",
      "  warnings.warn(\n",
      "/home/jcierocki/.local/share/virtualenvs/datathon-kul-voodoo-boyz/lib/python3.10/site-packages/sklearn/svm/_base.py:299: ConvergenceWarning: Solver terminated early (max_iter=1500).  Consider pre-processing your data with StandardScaler or MinMaxScaler.\n",
      "  warnings.warn(\n",
      "/home/jcierocki/.local/share/virtualenvs/datathon-kul-voodoo-boyz/lib/python3.10/site-packages/sklearn/svm/_base.py:299: ConvergenceWarning: Solver terminated early (max_iter=1500).  Consider pre-processing your data with StandardScaler or MinMaxScaler.\n",
      "  warnings.warn(\n",
      "/home/jcierocki/.local/share/virtualenvs/datathon-kul-voodoo-boyz/lib/python3.10/site-packages/sklearn/svm/_base.py:299: ConvergenceWarning: Solver terminated early (max_iter=1500).  Consider pre-processing your data with StandardScaler or MinMaxScaler.\n",
      "  warnings.warn(\n"
     ]
    },
    {
     "name": "stdout",
     "output_type": "stream",
     "text": [
      "\u001b[32m[I 2023-02-23 08:24:47,973]\u001b[0m Trial 0 finished with value: 0.5 and parameters: {'kernel': 'rbf', 'C': 0.5756086951124922, 'gamma': 'auto'}. Best is trial 0 with value: 0.5.\u001b[0m\n"
     ]
    },
    {
     "name": "stderr",
     "output_type": "stream",
     "text": [
      "/home/jcierocki/.local/share/virtualenvs/datathon-kul-voodoo-boyz/lib/python3.10/site-packages/sklearn/svm/_base.py:299: ConvergenceWarning: Solver terminated early (max_iter=1500).  Consider pre-processing your data with StandardScaler or MinMaxScaler.\n",
      "  warnings.warn(\n",
      "/home/jcierocki/.local/share/virtualenvs/datathon-kul-voodoo-boyz/lib/python3.10/site-packages/sklearn/svm/_base.py:299: ConvergenceWarning: Solver terminated early (max_iter=1500).  Consider pre-processing your data with StandardScaler or MinMaxScaler.\n",
      "  warnings.warn(\n",
      "/home/jcierocki/.local/share/virtualenvs/datathon-kul-voodoo-boyz/lib/python3.10/site-packages/sklearn/svm/_base.py:299: ConvergenceWarning: Solver terminated early (max_iter=1500).  Consider pre-processing your data with StandardScaler or MinMaxScaler.\n",
      "  warnings.warn(\n",
      "/home/jcierocki/.local/share/virtualenvs/datathon-kul-voodoo-boyz/lib/python3.10/site-packages/sklearn/svm/_base.py:299: ConvergenceWarning: Solver terminated early (max_iter=1500).  Consider pre-processing your data with StandardScaler or MinMaxScaler.\n",
      "  warnings.warn(\n",
      "/home/jcierocki/.local/share/virtualenvs/datathon-kul-voodoo-boyz/lib/python3.10/site-packages/sklearn/svm/_base.py:299: ConvergenceWarning: Solver terminated early (max_iter=1500).  Consider pre-processing your data with StandardScaler or MinMaxScaler.\n",
      "  warnings.warn(\n",
      "/home/jcierocki/.local/share/virtualenvs/datathon-kul-voodoo-boyz/lib/python3.10/site-packages/sklearn/svm/_base.py:299: ConvergenceWarning: Solver terminated early (max_iter=1500).  Consider pre-processing your data with StandardScaler or MinMaxScaler.\n",
      "  warnings.warn(\n"
     ]
    },
    {
     "name": "stdout",
     "output_type": "stream",
     "text": [
      "\u001b[32m[I 2023-02-23 08:25:34,895]\u001b[0m Trial 1 finished with value: 0.5 and parameters: {'kernel': 'rbf', 'C': 0.11640850966863985, 'gamma': 'scale'}. Best is trial 0 with value: 0.5.\u001b[0m\n"
     ]
    },
    {
     "name": "stderr",
     "output_type": "stream",
     "text": [
      "/home/jcierocki/.local/share/virtualenvs/datathon-kul-voodoo-boyz/lib/python3.10/site-packages/sklearn/svm/_base.py:299: ConvergenceWarning: Solver terminated early (max_iter=1500).  Consider pre-processing your data with StandardScaler or MinMaxScaler.\n",
      "  warnings.warn(\n",
      "/home/jcierocki/.local/share/virtualenvs/datathon-kul-voodoo-boyz/lib/python3.10/site-packages/sklearn/svm/_base.py:299: ConvergenceWarning: Solver terminated early (max_iter=1500).  Consider pre-processing your data with StandardScaler or MinMaxScaler.\n",
      "  warnings.warn(\n",
      "/home/jcierocki/.local/share/virtualenvs/datathon-kul-voodoo-boyz/lib/python3.10/site-packages/sklearn/svm/_base.py:299: ConvergenceWarning: Solver terminated early (max_iter=1500).  Consider pre-processing your data with StandardScaler or MinMaxScaler.\n",
      "  warnings.warn(\n",
      "/home/jcierocki/.local/share/virtualenvs/datathon-kul-voodoo-boyz/lib/python3.10/site-packages/sklearn/svm/_base.py:299: ConvergenceWarning: Solver terminated early (max_iter=1500).  Consider pre-processing your data with StandardScaler or MinMaxScaler.\n",
      "  warnings.warn(\n",
      "/home/jcierocki/.local/share/virtualenvs/datathon-kul-voodoo-boyz/lib/python3.10/site-packages/sklearn/svm/_base.py:299: ConvergenceWarning: Solver terminated early (max_iter=1500).  Consider pre-processing your data with StandardScaler or MinMaxScaler.\n",
      "  warnings.warn(\n",
      "/home/jcierocki/.local/share/virtualenvs/datathon-kul-voodoo-boyz/lib/python3.10/site-packages/sklearn/svm/_base.py:299: ConvergenceWarning: Solver terminated early (max_iter=1500).  Consider pre-processing your data with StandardScaler or MinMaxScaler.\n",
      "  warnings.warn(\n"
     ]
    },
    {
     "name": "stdout",
     "output_type": "stream",
     "text": [
      "\u001b[32m[I 2023-02-23 08:26:16,348]\u001b[0m Trial 2 finished with value: 0.559548908601185 and parameters: {'kernel': 'poly', 'C': 0.6531073413351237, 'gamma': 'scale'}. Best is trial 2 with value: 0.559548908601185.\u001b[0m\n"
     ]
    },
    {
     "name": "stderr",
     "output_type": "stream",
     "text": [
      "/home/jcierocki/.local/share/virtualenvs/datathon-kul-voodoo-boyz/lib/python3.10/site-packages/sklearn/svm/_base.py:299: ConvergenceWarning: Solver terminated early (max_iter=1500).  Consider pre-processing your data with StandardScaler or MinMaxScaler.\n",
      "  warnings.warn(\n",
      "/home/jcierocki/.local/share/virtualenvs/datathon-kul-voodoo-boyz/lib/python3.10/site-packages/sklearn/svm/_base.py:299: ConvergenceWarning: Solver terminated early (max_iter=1500).  Consider pre-processing your data with StandardScaler or MinMaxScaler.\n",
      "  warnings.warn(\n",
      "/home/jcierocki/.local/share/virtualenvs/datathon-kul-voodoo-boyz/lib/python3.10/site-packages/sklearn/svm/_base.py:299: ConvergenceWarning: Solver terminated early (max_iter=1500).  Consider pre-processing your data with StandardScaler or MinMaxScaler.\n",
      "  warnings.warn(\n",
      "/home/jcierocki/.local/share/virtualenvs/datathon-kul-voodoo-boyz/lib/python3.10/site-packages/sklearn/svm/_base.py:299: ConvergenceWarning: Solver terminated early (max_iter=1500).  Consider pre-processing your data with StandardScaler or MinMaxScaler.\n",
      "  warnings.warn(\n",
      "/home/jcierocki/.local/share/virtualenvs/datathon-kul-voodoo-boyz/lib/python3.10/site-packages/sklearn/svm/_base.py:299: ConvergenceWarning: Solver terminated early (max_iter=1500).  Consider pre-processing your data with StandardScaler or MinMaxScaler.\n",
      "  warnings.warn(\n",
      "/home/jcierocki/.local/share/virtualenvs/datathon-kul-voodoo-boyz/lib/python3.10/site-packages/sklearn/svm/_base.py:299: ConvergenceWarning: Solver terminated early (max_iter=1500).  Consider pre-processing your data with StandardScaler or MinMaxScaler.\n",
      "  warnings.warn(\n"
     ]
    },
    {
     "name": "stdout",
     "output_type": "stream",
     "text": [
      "\u001b[32m[I 2023-02-23 08:27:04,697]\u001b[0m Trial 3 finished with value: 0.5 and parameters: {'kernel': 'rbf', 'C': 0.23463868682786032, 'gamma': 'scale'}. Best is trial 2 with value: 0.559548908601185.\u001b[0m\n"
     ]
    },
    {
     "name": "stderr",
     "output_type": "stream",
     "text": [
      "/home/jcierocki/.local/share/virtualenvs/datathon-kul-voodoo-boyz/lib/python3.10/site-packages/sklearn/svm/_base.py:299: ConvergenceWarning: Solver terminated early (max_iter=1500).  Consider pre-processing your data with StandardScaler or MinMaxScaler.\n",
      "  warnings.warn(\n",
      "/home/jcierocki/.local/share/virtualenvs/datathon-kul-voodoo-boyz/lib/python3.10/site-packages/sklearn/svm/_base.py:299: ConvergenceWarning: Solver terminated early (max_iter=1500).  Consider pre-processing your data with StandardScaler or MinMaxScaler.\n",
      "  warnings.warn(\n",
      "/home/jcierocki/.local/share/virtualenvs/datathon-kul-voodoo-boyz/lib/python3.10/site-packages/sklearn/svm/_base.py:299: ConvergenceWarning: Solver terminated early (max_iter=1500).  Consider pre-processing your data with StandardScaler or MinMaxScaler.\n",
      "  warnings.warn(\n",
      "/home/jcierocki/.local/share/virtualenvs/datathon-kul-voodoo-boyz/lib/python3.10/site-packages/sklearn/svm/_base.py:299: ConvergenceWarning: Solver terminated early (max_iter=1500).  Consider pre-processing your data with StandardScaler or MinMaxScaler.\n",
      "  warnings.warn(\n",
      "/home/jcierocki/.local/share/virtualenvs/datathon-kul-voodoo-boyz/lib/python3.10/site-packages/sklearn/svm/_base.py:299: ConvergenceWarning: Solver terminated early (max_iter=1500).  Consider pre-processing your data with StandardScaler or MinMaxScaler.\n",
      "  warnings.warn(\n",
      "/home/jcierocki/.local/share/virtualenvs/datathon-kul-voodoo-boyz/lib/python3.10/site-packages/sklearn/svm/_base.py:299: ConvergenceWarning: Solver terminated early (max_iter=1500).  Consider pre-processing your data with StandardScaler or MinMaxScaler.\n",
      "  warnings.warn(\n"
     ]
    },
    {
     "name": "stdout",
     "output_type": "stream",
     "text": [
      "\u001b[32m[I 2023-02-23 08:27:45,071]\u001b[0m Trial 4 finished with value: 0.5643979813228651 and parameters: {'kernel': 'poly', 'C': 0.9604005819273218, 'gamma': 'auto'}. Best is trial 4 with value: 0.5643979813228651.\u001b[0m\n"
     ]
    },
    {
     "name": "stderr",
     "output_type": "stream",
     "text": [
      "/home/jcierocki/.local/share/virtualenvs/datathon-kul-voodoo-boyz/lib/python3.10/site-packages/sklearn/svm/_base.py:299: ConvergenceWarning: Solver terminated early (max_iter=1500).  Consider pre-processing your data with StandardScaler or MinMaxScaler.\n",
      "  warnings.warn(\n",
      "/home/jcierocki/.local/share/virtualenvs/datathon-kul-voodoo-boyz/lib/python3.10/site-packages/sklearn/svm/_base.py:299: ConvergenceWarning: Solver terminated early (max_iter=1500).  Consider pre-processing your data with StandardScaler or MinMaxScaler.\n",
      "  warnings.warn(\n",
      "/home/jcierocki/.local/share/virtualenvs/datathon-kul-voodoo-boyz/lib/python3.10/site-packages/sklearn/svm/_base.py:299: ConvergenceWarning: Solver terminated early (max_iter=1500).  Consider pre-processing your data with StandardScaler or MinMaxScaler.\n",
      "  warnings.warn(\n",
      "/home/jcierocki/.local/share/virtualenvs/datathon-kul-voodoo-boyz/lib/python3.10/site-packages/sklearn/svm/_base.py:299: ConvergenceWarning: Solver terminated early (max_iter=1500).  Consider pre-processing your data with StandardScaler or MinMaxScaler.\n",
      "  warnings.warn(\n",
      "/home/jcierocki/.local/share/virtualenvs/datathon-kul-voodoo-boyz/lib/python3.10/site-packages/sklearn/svm/_base.py:299: ConvergenceWarning: Solver terminated early (max_iter=1500).  Consider pre-processing your data with StandardScaler or MinMaxScaler.\n",
      "  warnings.warn(\n",
      "/home/jcierocki/.local/share/virtualenvs/datathon-kul-voodoo-boyz/lib/python3.10/site-packages/sklearn/svm/_base.py:299: ConvergenceWarning: Solver terminated early (max_iter=1500).  Consider pre-processing your data with StandardScaler or MinMaxScaler.\n",
      "  warnings.warn(\n"
     ]
    },
    {
     "name": "stdout",
     "output_type": "stream",
     "text": [
      "\u001b[32m[I 2023-02-23 08:28:25,330]\u001b[0m Trial 5 finished with value: 0.5772981384798264 and parameters: {'kernel': 'poly', 'C': 1.4919881837085627, 'gamma': 'auto'}. Best is trial 5 with value: 0.5772981384798264.\u001b[0m\n"
     ]
    },
    {
     "name": "stderr",
     "output_type": "stream",
     "text": [
      "/home/jcierocki/.local/share/virtualenvs/datathon-kul-voodoo-boyz/lib/python3.10/site-packages/sklearn/svm/_base.py:299: ConvergenceWarning: Solver terminated early (max_iter=1500).  Consider pre-processing your data with StandardScaler or MinMaxScaler.\n",
      "  warnings.warn(\n",
      "/home/jcierocki/.local/share/virtualenvs/datathon-kul-voodoo-boyz/lib/python3.10/site-packages/sklearn/svm/_base.py:299: ConvergenceWarning: Solver terminated early (max_iter=1500).  Consider pre-processing your data with StandardScaler or MinMaxScaler.\n",
      "  warnings.warn(\n",
      "/home/jcierocki/.local/share/virtualenvs/datathon-kul-voodoo-boyz/lib/python3.10/site-packages/sklearn/svm/_base.py:299: ConvergenceWarning: Solver terminated early (max_iter=1500).  Consider pre-processing your data with StandardScaler or MinMaxScaler.\n",
      "  warnings.warn(\n",
      "/home/jcierocki/.local/share/virtualenvs/datathon-kul-voodoo-boyz/lib/python3.10/site-packages/sklearn/svm/_base.py:299: ConvergenceWarning: Solver terminated early (max_iter=1500).  Consider pre-processing your data with StandardScaler or MinMaxScaler.\n",
      "  warnings.warn(\n",
      "/home/jcierocki/.local/share/virtualenvs/datathon-kul-voodoo-boyz/lib/python3.10/site-packages/sklearn/svm/_base.py:299: ConvergenceWarning: Solver terminated early (max_iter=1500).  Consider pre-processing your data with StandardScaler or MinMaxScaler.\n",
      "  warnings.warn(\n",
      "/home/jcierocki/.local/share/virtualenvs/datathon-kul-voodoo-boyz/lib/python3.10/site-packages/sklearn/svm/_base.py:299: ConvergenceWarning: Solver terminated early (max_iter=1500).  Consider pre-processing your data with StandardScaler or MinMaxScaler.\n",
      "  warnings.warn(\n"
     ]
    },
    {
     "name": "stdout",
     "output_type": "stream",
     "text": [
      "\u001b[32m[I 2023-02-23 08:29:20,771]\u001b[0m Trial 6 finished with value: 0.5 and parameters: {'kernel': 'rbf', 'C': 0.10416329625698315, 'gamma': 'auto'}. Best is trial 5 with value: 0.5772981384798264.\u001b[0m\n"
     ]
    },
    {
     "name": "stderr",
     "output_type": "stream",
     "text": [
      "/home/jcierocki/.local/share/virtualenvs/datathon-kul-voodoo-boyz/lib/python3.10/site-packages/sklearn/svm/_base.py:299: ConvergenceWarning: Solver terminated early (max_iter=1500).  Consider pre-processing your data with StandardScaler or MinMaxScaler.\n",
      "  warnings.warn(\n",
      "/home/jcierocki/.local/share/virtualenvs/datathon-kul-voodoo-boyz/lib/python3.10/site-packages/sklearn/svm/_base.py:299: ConvergenceWarning: Solver terminated early (max_iter=1500).  Consider pre-processing your data with StandardScaler or MinMaxScaler.\n",
      "  warnings.warn(\n",
      "/home/jcierocki/.local/share/virtualenvs/datathon-kul-voodoo-boyz/lib/python3.10/site-packages/sklearn/svm/_base.py:299: ConvergenceWarning: Solver terminated early (max_iter=1500).  Consider pre-processing your data with StandardScaler or MinMaxScaler.\n",
      "  warnings.warn(\n",
      "/home/jcierocki/.local/share/virtualenvs/datathon-kul-voodoo-boyz/lib/python3.10/site-packages/sklearn/svm/_base.py:299: ConvergenceWarning: Solver terminated early (max_iter=1500).  Consider pre-processing your data with StandardScaler or MinMaxScaler.\n",
      "  warnings.warn(\n",
      "/home/jcierocki/.local/share/virtualenvs/datathon-kul-voodoo-boyz/lib/python3.10/site-packages/sklearn/svm/_base.py:299: ConvergenceWarning: Solver terminated early (max_iter=1500).  Consider pre-processing your data with StandardScaler or MinMaxScaler.\n",
      "  warnings.warn(\n",
      "/home/jcierocki/.local/share/virtualenvs/datathon-kul-voodoo-boyz/lib/python3.10/site-packages/sklearn/svm/_base.py:299: ConvergenceWarning: Solver terminated early (max_iter=1500).  Consider pre-processing your data with StandardScaler or MinMaxScaler.\n",
      "  warnings.warn(\n"
     ]
    },
    {
     "name": "stdout",
     "output_type": "stream",
     "text": [
      "\u001b[32m[I 2023-02-23 08:29:47,870]\u001b[0m Trial 7 finished with value: 0.511433088411522 and parameters: {'kernel': 'sigmoid', 'C': 2.6547034640847618, 'gamma': 'scale'}. Best is trial 5 with value: 0.5772981384798264.\u001b[0m\n"
     ]
    },
    {
     "name": "stderr",
     "output_type": "stream",
     "text": [
      "/home/jcierocki/.local/share/virtualenvs/datathon-kul-voodoo-boyz/lib/python3.10/site-packages/sklearn/svm/_base.py:299: ConvergenceWarning: Solver terminated early (max_iter=1500).  Consider pre-processing your data with StandardScaler or MinMaxScaler.\n",
      "  warnings.warn(\n",
      "/home/jcierocki/.local/share/virtualenvs/datathon-kul-voodoo-boyz/lib/python3.10/site-packages/sklearn/svm/_base.py:299: ConvergenceWarning: Solver terminated early (max_iter=1500).  Consider pre-processing your data with StandardScaler or MinMaxScaler.\n",
      "  warnings.warn(\n",
      "/home/jcierocki/.local/share/virtualenvs/datathon-kul-voodoo-boyz/lib/python3.10/site-packages/sklearn/svm/_base.py:299: ConvergenceWarning: Solver terminated early (max_iter=1500).  Consider pre-processing your data with StandardScaler or MinMaxScaler.\n",
      "  warnings.warn(\n",
      "/home/jcierocki/.local/share/virtualenvs/datathon-kul-voodoo-boyz/lib/python3.10/site-packages/sklearn/svm/_base.py:299: ConvergenceWarning: Solver terminated early (max_iter=1500).  Consider pre-processing your data with StandardScaler or MinMaxScaler.\n",
      "  warnings.warn(\n",
      "/home/jcierocki/.local/share/virtualenvs/datathon-kul-voodoo-boyz/lib/python3.10/site-packages/sklearn/svm/_base.py:299: ConvergenceWarning: Solver terminated early (max_iter=1500).  Consider pre-processing your data with StandardScaler or MinMaxScaler.\n",
      "  warnings.warn(\n",
      "/home/jcierocki/.local/share/virtualenvs/datathon-kul-voodoo-boyz/lib/python3.10/site-packages/sklearn/svm/_base.py:299: ConvergenceWarning: Solver terminated early (max_iter=1500).  Consider pre-processing your data with StandardScaler or MinMaxScaler.\n",
      "  warnings.warn(\n"
     ]
    },
    {
     "name": "stdout",
     "output_type": "stream",
     "text": [
      "\u001b[32m[I 2023-02-23 08:30:27,795]\u001b[0m Trial 8 finished with value: 0.5609641038609733 and parameters: {'kernel': 'poly', 'C': 2.0143190177024293, 'gamma': 'auto'}. Best is trial 5 with value: 0.5772981384798264.\u001b[0m\n"
     ]
    },
    {
     "name": "stderr",
     "output_type": "stream",
     "text": [
      "/home/jcierocki/.local/share/virtualenvs/datathon-kul-voodoo-boyz/lib/python3.10/site-packages/sklearn/svm/_base.py:299: ConvergenceWarning: Solver terminated early (max_iter=1500).  Consider pre-processing your data with StandardScaler or MinMaxScaler.\n",
      "  warnings.warn(\n",
      "/home/jcierocki/.local/share/virtualenvs/datathon-kul-voodoo-boyz/lib/python3.10/site-packages/sklearn/svm/_base.py:299: ConvergenceWarning: Solver terminated early (max_iter=1500).  Consider pre-processing your data with StandardScaler or MinMaxScaler.\n",
      "  warnings.warn(\n",
      "/home/jcierocki/.local/share/virtualenvs/datathon-kul-voodoo-boyz/lib/python3.10/site-packages/sklearn/svm/_base.py:299: ConvergenceWarning: Solver terminated early (max_iter=1500).  Consider pre-processing your data with StandardScaler or MinMaxScaler.\n",
      "  warnings.warn(\n",
      "/home/jcierocki/.local/share/virtualenvs/datathon-kul-voodoo-boyz/lib/python3.10/site-packages/sklearn/svm/_base.py:299: ConvergenceWarning: Solver terminated early (max_iter=1500).  Consider pre-processing your data with StandardScaler or MinMaxScaler.\n",
      "  warnings.warn(\n",
      "/home/jcierocki/.local/share/virtualenvs/datathon-kul-voodoo-boyz/lib/python3.10/site-packages/sklearn/svm/_base.py:299: ConvergenceWarning: Solver terminated early (max_iter=1500).  Consider pre-processing your data with StandardScaler or MinMaxScaler.\n",
      "  warnings.warn(\n",
      "/home/jcierocki/.local/share/virtualenvs/datathon-kul-voodoo-boyz/lib/python3.10/site-packages/sklearn/svm/_base.py:299: ConvergenceWarning: Solver terminated early (max_iter=1500).  Consider pre-processing your data with StandardScaler or MinMaxScaler.\n",
      "  warnings.warn(\n"
     ]
    },
    {
     "name": "stdout",
     "output_type": "stream",
     "text": [
      "\u001b[32m[I 2023-02-23 08:30:54,998]\u001b[0m Trial 9 finished with value: 0.5 and parameters: {'kernel': 'sigmoid', 'C': 0.32741848494345815, 'gamma': 'scale'}. Best is trial 5 with value: 0.5772981384798264.\u001b[0m\n"
     ]
    },
    {
     "name": "stderr",
     "output_type": "stream",
     "text": [
      "/home/jcierocki/.local/share/virtualenvs/datathon-kul-voodoo-boyz/lib/python3.10/site-packages/sklearn/svm/_base.py:299: ConvergenceWarning: Solver terminated early (max_iter=1500).  Consider pre-processing your data with StandardScaler or MinMaxScaler.\n",
      "  warnings.warn(\n",
      "/home/jcierocki/.local/share/virtualenvs/datathon-kul-voodoo-boyz/lib/python3.10/site-packages/sklearn/svm/_base.py:299: ConvergenceWarning: Solver terminated early (max_iter=1500).  Consider pre-processing your data with StandardScaler or MinMaxScaler.\n",
      "  warnings.warn(\n",
      "/home/jcierocki/.local/share/virtualenvs/datathon-kul-voodoo-boyz/lib/python3.10/site-packages/sklearn/svm/_base.py:299: ConvergenceWarning: Solver terminated early (max_iter=1500).  Consider pre-processing your data with StandardScaler or MinMaxScaler.\n",
      "  warnings.warn(\n",
      "/home/jcierocki/.local/share/virtualenvs/datathon-kul-voodoo-boyz/lib/python3.10/site-packages/sklearn/svm/_base.py:299: ConvergenceWarning: Solver terminated early (max_iter=1500).  Consider pre-processing your data with StandardScaler or MinMaxScaler.\n",
      "  warnings.warn(\n",
      "/home/jcierocki/.local/share/virtualenvs/datathon-kul-voodoo-boyz/lib/python3.10/site-packages/sklearn/svm/_base.py:299: ConvergenceWarning: Solver terminated early (max_iter=1500).  Consider pre-processing your data with StandardScaler or MinMaxScaler.\n",
      "  warnings.warn(\n",
      "/home/jcierocki/.local/share/virtualenvs/datathon-kul-voodoo-boyz/lib/python3.10/site-packages/sklearn/svm/_base.py:299: ConvergenceWarning: Solver terminated early (max_iter=1500).  Consider pre-processing your data with StandardScaler or MinMaxScaler.\n",
      "  warnings.warn(\n"
     ]
    },
    {
     "name": "stdout",
     "output_type": "stream",
     "text": [
      "\u001b[32m[I 2023-02-23 08:31:35,284]\u001b[0m Trial 10 finished with value: 0.5702912181639593 and parameters: {'kernel': 'poly', 'C': 1.4563478828931637, 'gamma': 'auto'}. Best is trial 5 with value: 0.5772981384798264.\u001b[0m\n"
     ]
    },
    {
     "name": "stderr",
     "output_type": "stream",
     "text": [
      "/home/jcierocki/.local/share/virtualenvs/datathon-kul-voodoo-boyz/lib/python3.10/site-packages/sklearn/svm/_base.py:299: ConvergenceWarning: Solver terminated early (max_iter=1500).  Consider pre-processing your data with StandardScaler or MinMaxScaler.\n",
      "  warnings.warn(\n",
      "/home/jcierocki/.local/share/virtualenvs/datathon-kul-voodoo-boyz/lib/python3.10/site-packages/sklearn/svm/_base.py:299: ConvergenceWarning: Solver terminated early (max_iter=1500).  Consider pre-processing your data with StandardScaler or MinMaxScaler.\n",
      "  warnings.warn(\n",
      "/home/jcierocki/.local/share/virtualenvs/datathon-kul-voodoo-boyz/lib/python3.10/site-packages/sklearn/svm/_base.py:299: ConvergenceWarning: Solver terminated early (max_iter=1500).  Consider pre-processing your data with StandardScaler or MinMaxScaler.\n",
      "  warnings.warn(\n",
      "/home/jcierocki/.local/share/virtualenvs/datathon-kul-voodoo-boyz/lib/python3.10/site-packages/sklearn/svm/_base.py:299: ConvergenceWarning: Solver terminated early (max_iter=1500).  Consider pre-processing your data with StandardScaler or MinMaxScaler.\n",
      "  warnings.warn(\n",
      "/home/jcierocki/.local/share/virtualenvs/datathon-kul-voodoo-boyz/lib/python3.10/site-packages/sklearn/svm/_base.py:299: ConvergenceWarning: Solver terminated early (max_iter=1500).  Consider pre-processing your data with StandardScaler or MinMaxScaler.\n",
      "  warnings.warn(\n",
      "/home/jcierocki/.local/share/virtualenvs/datathon-kul-voodoo-boyz/lib/python3.10/site-packages/sklearn/svm/_base.py:299: ConvergenceWarning: Solver terminated early (max_iter=1500).  Consider pre-processing your data with StandardScaler or MinMaxScaler.\n",
      "  warnings.warn(\n"
     ]
    },
    {
     "name": "stdout",
     "output_type": "stream",
     "text": [
      "\u001b[32m[I 2023-02-23 08:32:15,547]\u001b[0m Trial 11 finished with value: 0.5669346822094906 and parameters: {'kernel': 'poly', 'C': 1.3639901507738892, 'gamma': 'auto'}. Best is trial 5 with value: 0.5772981384798264.\u001b[0m\n"
     ]
    },
    {
     "name": "stderr",
     "output_type": "stream",
     "text": [
      "/home/jcierocki/.local/share/virtualenvs/datathon-kul-voodoo-boyz/lib/python3.10/site-packages/sklearn/svm/_base.py:299: ConvergenceWarning: Solver terminated early (max_iter=1500).  Consider pre-processing your data with StandardScaler or MinMaxScaler.\n",
      "  warnings.warn(\n",
      "/home/jcierocki/.local/share/virtualenvs/datathon-kul-voodoo-boyz/lib/python3.10/site-packages/sklearn/svm/_base.py:299: ConvergenceWarning: Solver terminated early (max_iter=1500).  Consider pre-processing your data with StandardScaler or MinMaxScaler.\n",
      "  warnings.warn(\n",
      "/home/jcierocki/.local/share/virtualenvs/datathon-kul-voodoo-boyz/lib/python3.10/site-packages/sklearn/svm/_base.py:299: ConvergenceWarning: Solver terminated early (max_iter=1500).  Consider pre-processing your data with StandardScaler or MinMaxScaler.\n",
      "  warnings.warn(\n",
      "/home/jcierocki/.local/share/virtualenvs/datathon-kul-voodoo-boyz/lib/python3.10/site-packages/sklearn/svm/_base.py:299: ConvergenceWarning: Solver terminated early (max_iter=1500).  Consider pre-processing your data with StandardScaler or MinMaxScaler.\n",
      "  warnings.warn(\n",
      "/home/jcierocki/.local/share/virtualenvs/datathon-kul-voodoo-boyz/lib/python3.10/site-packages/sklearn/svm/_base.py:299: ConvergenceWarning: Solver terminated early (max_iter=1500).  Consider pre-processing your data with StandardScaler or MinMaxScaler.\n",
      "  warnings.warn(\n",
      "/home/jcierocki/.local/share/virtualenvs/datathon-kul-voodoo-boyz/lib/python3.10/site-packages/sklearn/svm/_base.py:299: ConvergenceWarning: Solver terminated early (max_iter=1500).  Consider pre-processing your data with StandardScaler or MinMaxScaler.\n",
      "  warnings.warn(\n"
     ]
    },
    {
     "name": "stdout",
     "output_type": "stream",
     "text": [
      "\u001b[32m[I 2023-02-23 08:32:55,749]\u001b[0m Trial 12 finished with value: 0.5702912181639593 and parameters: {'kernel': 'poly', 'C': 1.4516147304725968, 'gamma': 'auto'}. Best is trial 5 with value: 0.5772981384798264.\u001b[0m\n"
     ]
    },
    {
     "name": "stderr",
     "output_type": "stream",
     "text": [
      "/home/jcierocki/.local/share/virtualenvs/datathon-kul-voodoo-boyz/lib/python3.10/site-packages/sklearn/svm/_base.py:299: ConvergenceWarning: Solver terminated early (max_iter=1500).  Consider pre-processing your data with StandardScaler or MinMaxScaler.\n",
      "  warnings.warn(\n",
      "/home/jcierocki/.local/share/virtualenvs/datathon-kul-voodoo-boyz/lib/python3.10/site-packages/sklearn/svm/_base.py:299: ConvergenceWarning: Solver terminated early (max_iter=1500).  Consider pre-processing your data with StandardScaler or MinMaxScaler.\n",
      "  warnings.warn(\n",
      "/home/jcierocki/.local/share/virtualenvs/datathon-kul-voodoo-boyz/lib/python3.10/site-packages/sklearn/svm/_base.py:299: ConvergenceWarning: Solver terminated early (max_iter=1500).  Consider pre-processing your data with StandardScaler or MinMaxScaler.\n",
      "  warnings.warn(\n",
      "/home/jcierocki/.local/share/virtualenvs/datathon-kul-voodoo-boyz/lib/python3.10/site-packages/sklearn/svm/_base.py:299: ConvergenceWarning: Solver terminated early (max_iter=1500).  Consider pre-processing your data with StandardScaler or MinMaxScaler.\n",
      "  warnings.warn(\n",
      "/home/jcierocki/.local/share/virtualenvs/datathon-kul-voodoo-boyz/lib/python3.10/site-packages/sklearn/svm/_base.py:299: ConvergenceWarning: Solver terminated early (max_iter=1500).  Consider pre-processing your data with StandardScaler or MinMaxScaler.\n",
      "  warnings.warn(\n",
      "/home/jcierocki/.local/share/virtualenvs/datathon-kul-voodoo-boyz/lib/python3.10/site-packages/sklearn/svm/_base.py:299: ConvergenceWarning: Solver terminated early (max_iter=1500).  Consider pre-processing your data with StandardScaler or MinMaxScaler.\n",
      "  warnings.warn(\n"
     ]
    },
    {
     "name": "stdout",
     "output_type": "stream",
     "text": [
      "\u001b[32m[I 2023-02-23 08:33:35,762]\u001b[0m Trial 13 finished with value: 0.5430228790825576 and parameters: {'kernel': 'poly', 'C': 2.960015808477187, 'gamma': 'auto'}. Best is trial 5 with value: 0.5772981384798264.\u001b[0m\n"
     ]
    },
    {
     "name": "stderr",
     "output_type": "stream",
     "text": [
      "/home/jcierocki/.local/share/virtualenvs/datathon-kul-voodoo-boyz/lib/python3.10/site-packages/sklearn/svm/_base.py:299: ConvergenceWarning: Solver terminated early (max_iter=1500).  Consider pre-processing your data with StandardScaler or MinMaxScaler.\n",
      "  warnings.warn(\n",
      "/home/jcierocki/.local/share/virtualenvs/datathon-kul-voodoo-boyz/lib/python3.10/site-packages/sklearn/svm/_base.py:299: ConvergenceWarning: Solver terminated early (max_iter=1500).  Consider pre-processing your data with StandardScaler or MinMaxScaler.\n",
      "  warnings.warn(\n",
      "/home/jcierocki/.local/share/virtualenvs/datathon-kul-voodoo-boyz/lib/python3.10/site-packages/sklearn/svm/_base.py:299: ConvergenceWarning: Solver terminated early (max_iter=1500).  Consider pre-processing your data with StandardScaler or MinMaxScaler.\n",
      "  warnings.warn(\n",
      "/home/jcierocki/.local/share/virtualenvs/datathon-kul-voodoo-boyz/lib/python3.10/site-packages/sklearn/svm/_base.py:299: ConvergenceWarning: Solver terminated early (max_iter=1500).  Consider pre-processing your data with StandardScaler or MinMaxScaler.\n",
      "  warnings.warn(\n",
      "/home/jcierocki/.local/share/virtualenvs/datathon-kul-voodoo-boyz/lib/python3.10/site-packages/sklearn/svm/_base.py:299: ConvergenceWarning: Solver terminated early (max_iter=1500).  Consider pre-processing your data with StandardScaler or MinMaxScaler.\n",
      "  warnings.warn(\n",
      "/home/jcierocki/.local/share/virtualenvs/datathon-kul-voodoo-boyz/lib/python3.10/site-packages/sklearn/svm/_base.py:299: ConvergenceWarning: Solver terminated early (max_iter=1500).  Consider pre-processing your data with StandardScaler or MinMaxScaler.\n",
      "  warnings.warn(\n"
     ]
    },
    {
     "name": "stdout",
     "output_type": "stream",
     "text": [
      "\u001b[32m[I 2023-02-23 08:34:15,192]\u001b[0m Trial 14 finished with value: 0.559570405584412 and parameters: {'kernel': 'poly', 'C': 1.0379337553691483, 'gamma': 'auto'}. Best is trial 5 with value: 0.5772981384798264.\u001b[0m\n"
     ]
    },
    {
     "name": "stderr",
     "output_type": "stream",
     "text": [
      "/home/jcierocki/.local/share/virtualenvs/datathon-kul-voodoo-boyz/lib/python3.10/site-packages/sklearn/svm/_base.py:299: ConvergenceWarning: Solver terminated early (max_iter=1500).  Consider pre-processing your data with StandardScaler or MinMaxScaler.\n",
      "  warnings.warn(\n",
      "/home/jcierocki/.local/share/virtualenvs/datathon-kul-voodoo-boyz/lib/python3.10/site-packages/sklearn/svm/_base.py:299: ConvergenceWarning: Solver terminated early (max_iter=1500).  Consider pre-processing your data with StandardScaler or MinMaxScaler.\n",
      "  warnings.warn(\n",
      "/home/jcierocki/.local/share/virtualenvs/datathon-kul-voodoo-boyz/lib/python3.10/site-packages/sklearn/svm/_base.py:299: ConvergenceWarning: Solver terminated early (max_iter=1500).  Consider pre-processing your data with StandardScaler or MinMaxScaler.\n",
      "  warnings.warn(\n",
      "/home/jcierocki/.local/share/virtualenvs/datathon-kul-voodoo-boyz/lib/python3.10/site-packages/sklearn/svm/_base.py:299: ConvergenceWarning: Solver terminated early (max_iter=1500).  Consider pre-processing your data with StandardScaler or MinMaxScaler.\n",
      "  warnings.warn(\n",
      "/home/jcierocki/.local/share/virtualenvs/datathon-kul-voodoo-boyz/lib/python3.10/site-packages/sklearn/svm/_base.py:299: ConvergenceWarning: Solver terminated early (max_iter=1500).  Consider pre-processing your data with StandardScaler or MinMaxScaler.\n",
      "  warnings.warn(\n",
      "/home/jcierocki/.local/share/virtualenvs/datathon-kul-voodoo-boyz/lib/python3.10/site-packages/sklearn/svm/_base.py:299: ConvergenceWarning: Solver terminated early (max_iter=1500).  Consider pre-processing your data with StandardScaler or MinMaxScaler.\n",
      "  warnings.warn(\n"
     ]
    },
    {
     "name": "stdout",
     "output_type": "stream",
     "text": [
      "\u001b[32m[I 2023-02-23 08:34:53,711]\u001b[0m Trial 15 finished with value: 0.5557758212319409 and parameters: {'kernel': 'poly', 'C': 1.7215216221886778, 'gamma': 'auto'}. Best is trial 5 with value: 0.5772981384798264.\u001b[0m\n"
     ]
    },
    {
     "name": "stderr",
     "output_type": "stream",
     "text": [
      "/home/jcierocki/.local/share/virtualenvs/datathon-kul-voodoo-boyz/lib/python3.10/site-packages/sklearn/svm/_base.py:299: ConvergenceWarning: Solver terminated early (max_iter=1500).  Consider pre-processing your data with StandardScaler or MinMaxScaler.\n",
      "  warnings.warn(\n",
      "/home/jcierocki/.local/share/virtualenvs/datathon-kul-voodoo-boyz/lib/python3.10/site-packages/sklearn/svm/_base.py:299: ConvergenceWarning: Solver terminated early (max_iter=1500).  Consider pre-processing your data with StandardScaler or MinMaxScaler.\n",
      "  warnings.warn(\n",
      "/home/jcierocki/.local/share/virtualenvs/datathon-kul-voodoo-boyz/lib/python3.10/site-packages/sklearn/svm/_base.py:299: ConvergenceWarning: Solver terminated early (max_iter=1500).  Consider pre-processing your data with StandardScaler or MinMaxScaler.\n",
      "  warnings.warn(\n",
      "/home/jcierocki/.local/share/virtualenvs/datathon-kul-voodoo-boyz/lib/python3.10/site-packages/sklearn/svm/_base.py:299: ConvergenceWarning: Solver terminated early (max_iter=1500).  Consider pre-processing your data with StandardScaler or MinMaxScaler.\n",
      "  warnings.warn(\n",
      "/home/jcierocki/.local/share/virtualenvs/datathon-kul-voodoo-boyz/lib/python3.10/site-packages/sklearn/svm/_base.py:299: ConvergenceWarning: Solver terminated early (max_iter=1500).  Consider pre-processing your data with StandardScaler or MinMaxScaler.\n",
      "  warnings.warn(\n",
      "/home/jcierocki/.local/share/virtualenvs/datathon-kul-voodoo-boyz/lib/python3.10/site-packages/sklearn/svm/_base.py:299: ConvergenceWarning: Solver terminated early (max_iter=1500).  Consider pre-processing your data with StandardScaler or MinMaxScaler.\n",
      "  warnings.warn(\n"
     ]
    },
    {
     "name": "stdout",
     "output_type": "stream",
     "text": [
      "\u001b[32m[I 2023-02-23 08:35:19,474]\u001b[0m Trial 16 finished with value: 0.5 and parameters: {'kernel': 'sigmoid', 'C': 0.9342791871769209, 'gamma': 'auto'}. Best is trial 5 with value: 0.5772981384798264.\u001b[0m\n"
     ]
    },
    {
     "name": "stderr",
     "output_type": "stream",
     "text": [
      "/home/jcierocki/.local/share/virtualenvs/datathon-kul-voodoo-boyz/lib/python3.10/site-packages/sklearn/svm/_base.py:299: ConvergenceWarning: Solver terminated early (max_iter=1500).  Consider pre-processing your data with StandardScaler or MinMaxScaler.\n",
      "  warnings.warn(\n",
      "/home/jcierocki/.local/share/virtualenvs/datathon-kul-voodoo-boyz/lib/python3.10/site-packages/sklearn/svm/_base.py:299: ConvergenceWarning: Solver terminated early (max_iter=1500).  Consider pre-processing your data with StandardScaler or MinMaxScaler.\n",
      "  warnings.warn(\n",
      "/home/jcierocki/.local/share/virtualenvs/datathon-kul-voodoo-boyz/lib/python3.10/site-packages/sklearn/svm/_base.py:299: ConvergenceWarning: Solver terminated early (max_iter=1500).  Consider pre-processing your data with StandardScaler or MinMaxScaler.\n",
      "  warnings.warn(\n",
      "/home/jcierocki/.local/share/virtualenvs/datathon-kul-voodoo-boyz/lib/python3.10/site-packages/sklearn/svm/_base.py:299: ConvergenceWarning: Solver terminated early (max_iter=1500).  Consider pre-processing your data with StandardScaler or MinMaxScaler.\n",
      "  warnings.warn(\n",
      "/home/jcierocki/.local/share/virtualenvs/datathon-kul-voodoo-boyz/lib/python3.10/site-packages/sklearn/svm/_base.py:299: ConvergenceWarning: Solver terminated early (max_iter=1500).  Consider pre-processing your data with StandardScaler or MinMaxScaler.\n",
      "  warnings.warn(\n",
      "/home/jcierocki/.local/share/virtualenvs/datathon-kul-voodoo-boyz/lib/python3.10/site-packages/sklearn/svm/_base.py:299: ConvergenceWarning: Solver terminated early (max_iter=1500).  Consider pre-processing your data with StandardScaler or MinMaxScaler.\n",
      "  warnings.warn(\n"
     ]
    },
    {
     "name": "stdout",
     "output_type": "stream",
     "text": [
      "\u001b[32m[I 2023-02-23 08:35:57,931]\u001b[0m Trial 17 finished with value: 0.5511651718490719 and parameters: {'kernel': 'poly', 'C': 2.0799359085986784, 'gamma': 'auto'}. Best is trial 5 with value: 0.5772981384798264.\u001b[0m\n"
     ]
    },
    {
     "name": "stderr",
     "output_type": "stream",
     "text": [
      "/home/jcierocki/.local/share/virtualenvs/datathon-kul-voodoo-boyz/lib/python3.10/site-packages/sklearn/svm/_base.py:299: ConvergenceWarning: Solver terminated early (max_iter=1500).  Consider pre-processing your data with StandardScaler or MinMaxScaler.\n",
      "  warnings.warn(\n",
      "/home/jcierocki/.local/share/virtualenvs/datathon-kul-voodoo-boyz/lib/python3.10/site-packages/sklearn/svm/_base.py:299: ConvergenceWarning: Solver terminated early (max_iter=1500).  Consider pre-processing your data with StandardScaler or MinMaxScaler.\n",
      "  warnings.warn(\n",
      "/home/jcierocki/.local/share/virtualenvs/datathon-kul-voodoo-boyz/lib/python3.10/site-packages/sklearn/svm/_base.py:299: ConvergenceWarning: Solver terminated early (max_iter=1500).  Consider pre-processing your data with StandardScaler or MinMaxScaler.\n",
      "  warnings.warn(\n",
      "/home/jcierocki/.local/share/virtualenvs/datathon-kul-voodoo-boyz/lib/python3.10/site-packages/sklearn/svm/_base.py:299: ConvergenceWarning: Solver terminated early (max_iter=1500).  Consider pre-processing your data with StandardScaler or MinMaxScaler.\n",
      "  warnings.warn(\n",
      "/home/jcierocki/.local/share/virtualenvs/datathon-kul-voodoo-boyz/lib/python3.10/site-packages/sklearn/svm/_base.py:299: ConvergenceWarning: Solver terminated early (max_iter=1500).  Consider pre-processing your data with StandardScaler or MinMaxScaler.\n",
      "  warnings.warn(\n",
      "/home/jcierocki/.local/share/virtualenvs/datathon-kul-voodoo-boyz/lib/python3.10/site-packages/sklearn/svm/_base.py:299: ConvergenceWarning: Solver terminated early (max_iter=1500).  Consider pre-processing your data with StandardScaler or MinMaxScaler.\n",
      "  warnings.warn(\n"
     ]
    },
    {
     "name": "stdout",
     "output_type": "stream",
     "text": [
      "\u001b[32m[I 2023-02-23 08:36:36,527]\u001b[0m Trial 18 finished with value: 0.5651138318214673 and parameters: {'kernel': 'poly', 'C': 1.408342431527194, 'gamma': 'auto'}. Best is trial 5 with value: 0.5772981384798264.\u001b[0m\n"
     ]
    },
    {
     "name": "stderr",
     "output_type": "stream",
     "text": [
      "/home/jcierocki/.local/share/virtualenvs/datathon-kul-voodoo-boyz/lib/python3.10/site-packages/sklearn/svm/_base.py:299: ConvergenceWarning: Solver terminated early (max_iter=1500).  Consider pre-processing your data with StandardScaler or MinMaxScaler.\n",
      "  warnings.warn(\n",
      "/home/jcierocki/.local/share/virtualenvs/datathon-kul-voodoo-boyz/lib/python3.10/site-packages/sklearn/svm/_base.py:299: ConvergenceWarning: Solver terminated early (max_iter=1500).  Consider pre-processing your data with StandardScaler or MinMaxScaler.\n",
      "  warnings.warn(\n",
      "/home/jcierocki/.local/share/virtualenvs/datathon-kul-voodoo-boyz/lib/python3.10/site-packages/sklearn/svm/_base.py:299: ConvergenceWarning: Solver terminated early (max_iter=1500).  Consider pre-processing your data with StandardScaler or MinMaxScaler.\n",
      "  warnings.warn(\n",
      "/home/jcierocki/.local/share/virtualenvs/datathon-kul-voodoo-boyz/lib/python3.10/site-packages/sklearn/svm/_base.py:299: ConvergenceWarning: Solver terminated early (max_iter=1500).  Consider pre-processing your data with StandardScaler or MinMaxScaler.\n",
      "  warnings.warn(\n",
      "/home/jcierocki/.local/share/virtualenvs/datathon-kul-voodoo-boyz/lib/python3.10/site-packages/sklearn/svm/_base.py:299: ConvergenceWarning: Solver terminated early (max_iter=1500).  Consider pre-processing your data with StandardScaler or MinMaxScaler.\n",
      "  warnings.warn(\n",
      "/home/jcierocki/.local/share/virtualenvs/datathon-kul-voodoo-boyz/lib/python3.10/site-packages/sklearn/svm/_base.py:299: ConvergenceWarning: Solver terminated early (max_iter=1500).  Consider pre-processing your data with StandardScaler or MinMaxScaler.\n",
      "  warnings.warn(\n"
     ]
    },
    {
     "name": "stdout",
     "output_type": "stream",
     "text": [
      "\u001b[32m[I 2023-02-23 08:37:02,446]\u001b[0m Trial 19 finished with value: 0.5 and parameters: {'kernel': 'sigmoid', 'C': 0.7955073002126964, 'gamma': 'auto'}. Best is trial 5 with value: 0.5772981384798264.\u001b[0m\n"
     ]
    },
    {
     "name": "stderr",
     "output_type": "stream",
     "text": [
      "/home/jcierocki/.local/share/virtualenvs/datathon-kul-voodoo-boyz/lib/python3.10/site-packages/sklearn/svm/_base.py:299: ConvergenceWarning: Solver terminated early (max_iter=1500).  Consider pre-processing your data with StandardScaler or MinMaxScaler.\n",
      "  warnings.warn(\n",
      "/home/jcierocki/.local/share/virtualenvs/datathon-kul-voodoo-boyz/lib/python3.10/site-packages/sklearn/svm/_base.py:299: ConvergenceWarning: Solver terminated early (max_iter=1500).  Consider pre-processing your data with StandardScaler or MinMaxScaler.\n",
      "  warnings.warn(\n",
      "/home/jcierocki/.local/share/virtualenvs/datathon-kul-voodoo-boyz/lib/python3.10/site-packages/sklearn/svm/_base.py:299: ConvergenceWarning: Solver terminated early (max_iter=1500).  Consider pre-processing your data with StandardScaler or MinMaxScaler.\n",
      "  warnings.warn(\n",
      "/home/jcierocki/.local/share/virtualenvs/datathon-kul-voodoo-boyz/lib/python3.10/site-packages/sklearn/svm/_base.py:299: ConvergenceWarning: Solver terminated early (max_iter=1500).  Consider pre-processing your data with StandardScaler or MinMaxScaler.\n",
      "  warnings.warn(\n",
      "/home/jcierocki/.local/share/virtualenvs/datathon-kul-voodoo-boyz/lib/python3.10/site-packages/sklearn/svm/_base.py:299: ConvergenceWarning: Solver terminated early (max_iter=1500).  Consider pre-processing your data with StandardScaler or MinMaxScaler.\n",
      "  warnings.warn(\n",
      "/home/jcierocki/.local/share/virtualenvs/datathon-kul-voodoo-boyz/lib/python3.10/site-packages/sklearn/svm/_base.py:299: ConvergenceWarning: Solver terminated early (max_iter=1500).  Consider pre-processing your data with StandardScaler or MinMaxScaler.\n",
      "  warnings.warn(\n"
     ]
    },
    {
     "name": "stdout",
     "output_type": "stream",
     "text": [
      "\u001b[32m[I 2023-02-23 08:37:41,325]\u001b[0m Trial 20 finished with value: 0.5707560064646459 and parameters: {'kernel': 'poly', 'C': 0.4696586405732798, 'gamma': 'auto'}. Best is trial 5 with value: 0.5772981384798264.\u001b[0m\n"
     ]
    },
    {
     "name": "stderr",
     "output_type": "stream",
     "text": [
      "/home/jcierocki/.local/share/virtualenvs/datathon-kul-voodoo-boyz/lib/python3.10/site-packages/sklearn/svm/_base.py:299: ConvergenceWarning: Solver terminated early (max_iter=1500).  Consider pre-processing your data with StandardScaler or MinMaxScaler.\n",
      "  warnings.warn(\n",
      "/home/jcierocki/.local/share/virtualenvs/datathon-kul-voodoo-boyz/lib/python3.10/site-packages/sklearn/svm/_base.py:299: ConvergenceWarning: Solver terminated early (max_iter=1500).  Consider pre-processing your data with StandardScaler or MinMaxScaler.\n",
      "  warnings.warn(\n",
      "/home/jcierocki/.local/share/virtualenvs/datathon-kul-voodoo-boyz/lib/python3.10/site-packages/sklearn/svm/_base.py:299: ConvergenceWarning: Solver terminated early (max_iter=1500).  Consider pre-processing your data with StandardScaler or MinMaxScaler.\n",
      "  warnings.warn(\n",
      "/home/jcierocki/.local/share/virtualenvs/datathon-kul-voodoo-boyz/lib/python3.10/site-packages/sklearn/svm/_base.py:299: ConvergenceWarning: Solver terminated early (max_iter=1500).  Consider pre-processing your data with StandardScaler or MinMaxScaler.\n",
      "  warnings.warn(\n",
      "/home/jcierocki/.local/share/virtualenvs/datathon-kul-voodoo-boyz/lib/python3.10/site-packages/sklearn/svm/_base.py:299: ConvergenceWarning: Solver terminated early (max_iter=1500).  Consider pre-processing your data with StandardScaler or MinMaxScaler.\n",
      "  warnings.warn(\n",
      "/home/jcierocki/.local/share/virtualenvs/datathon-kul-voodoo-boyz/lib/python3.10/site-packages/sklearn/svm/_base.py:299: ConvergenceWarning: Solver terminated early (max_iter=1500).  Consider pre-processing your data with StandardScaler or MinMaxScaler.\n",
      "  warnings.warn(\n"
     ]
    },
    {
     "name": "stdout",
     "output_type": "stream",
     "text": [
      "\u001b[32m[I 2023-02-23 08:38:19,919]\u001b[0m Trial 21 finished with value: 0.5858078713922666 and parameters: {'kernel': 'poly', 'C': 0.38247176315704867, 'gamma': 'auto'}. Best is trial 21 with value: 0.5858078713922666.\u001b[0m\n"
     ]
    },
    {
     "name": "stderr",
     "output_type": "stream",
     "text": [
      "/home/jcierocki/.local/share/virtualenvs/datathon-kul-voodoo-boyz/lib/python3.10/site-packages/sklearn/svm/_base.py:299: ConvergenceWarning: Solver terminated early (max_iter=1500).  Consider pre-processing your data with StandardScaler or MinMaxScaler.\n",
      "  warnings.warn(\n",
      "/home/jcierocki/.local/share/virtualenvs/datathon-kul-voodoo-boyz/lib/python3.10/site-packages/sklearn/svm/_base.py:299: ConvergenceWarning: Solver terminated early (max_iter=1500).  Consider pre-processing your data with StandardScaler or MinMaxScaler.\n",
      "  warnings.warn(\n",
      "/home/jcierocki/.local/share/virtualenvs/datathon-kul-voodoo-boyz/lib/python3.10/site-packages/sklearn/svm/_base.py:299: ConvergenceWarning: Solver terminated early (max_iter=1500).  Consider pre-processing your data with StandardScaler or MinMaxScaler.\n",
      "  warnings.warn(\n",
      "/home/jcierocki/.local/share/virtualenvs/datathon-kul-voodoo-boyz/lib/python3.10/site-packages/sklearn/svm/_base.py:299: ConvergenceWarning: Solver terminated early (max_iter=1500).  Consider pre-processing your data with StandardScaler or MinMaxScaler.\n",
      "  warnings.warn(\n",
      "/home/jcierocki/.local/share/virtualenvs/datathon-kul-voodoo-boyz/lib/python3.10/site-packages/sklearn/svm/_base.py:299: ConvergenceWarning: Solver terminated early (max_iter=1500).  Consider pre-processing your data with StandardScaler or MinMaxScaler.\n",
      "  warnings.warn(\n",
      "/home/jcierocki/.local/share/virtualenvs/datathon-kul-voodoo-boyz/lib/python3.10/site-packages/sklearn/svm/_base.py:299: ConvergenceWarning: Solver terminated early (max_iter=1500).  Consider pre-processing your data with StandardScaler or MinMaxScaler.\n",
      "  warnings.warn(\n"
     ]
    },
    {
     "name": "stdout",
     "output_type": "stream",
     "text": [
      "\u001b[32m[I 2023-02-23 08:38:58,618]\u001b[0m Trial 22 finished with value: 0.5600001177855187 and parameters: {'kernel': 'poly', 'C': 0.43436539164976945, 'gamma': 'auto'}. Best is trial 21 with value: 0.5858078713922666.\u001b[0m\n"
     ]
    },
    {
     "name": "stderr",
     "output_type": "stream",
     "text": [
      "/home/jcierocki/.local/share/virtualenvs/datathon-kul-voodoo-boyz/lib/python3.10/site-packages/sklearn/svm/_base.py:299: ConvergenceWarning: Solver terminated early (max_iter=1500).  Consider pre-processing your data with StandardScaler or MinMaxScaler.\n",
      "  warnings.warn(\n",
      "/home/jcierocki/.local/share/virtualenvs/datathon-kul-voodoo-boyz/lib/python3.10/site-packages/sklearn/svm/_base.py:299: ConvergenceWarning: Solver terminated early (max_iter=1500).  Consider pre-processing your data with StandardScaler or MinMaxScaler.\n",
      "  warnings.warn(\n",
      "/home/jcierocki/.local/share/virtualenvs/datathon-kul-voodoo-boyz/lib/python3.10/site-packages/sklearn/svm/_base.py:299: ConvergenceWarning: Solver terminated early (max_iter=1500).  Consider pre-processing your data with StandardScaler or MinMaxScaler.\n",
      "  warnings.warn(\n",
      "/home/jcierocki/.local/share/virtualenvs/datathon-kul-voodoo-boyz/lib/python3.10/site-packages/sklearn/svm/_base.py:299: ConvergenceWarning: Solver terminated early (max_iter=1500).  Consider pre-processing your data with StandardScaler or MinMaxScaler.\n",
      "  warnings.warn(\n",
      "/home/jcierocki/.local/share/virtualenvs/datathon-kul-voodoo-boyz/lib/python3.10/site-packages/sklearn/svm/_base.py:299: ConvergenceWarning: Solver terminated early (max_iter=1500).  Consider pre-processing your data with StandardScaler or MinMaxScaler.\n",
      "  warnings.warn(\n",
      "/home/jcierocki/.local/share/virtualenvs/datathon-kul-voodoo-boyz/lib/python3.10/site-packages/sklearn/svm/_base.py:299: ConvergenceWarning: Solver terminated early (max_iter=1500).  Consider pre-processing your data with StandardScaler or MinMaxScaler.\n",
      "  warnings.warn(\n"
     ]
    },
    {
     "name": "stdout",
     "output_type": "stream",
     "text": [
      "\u001b[32m[I 2023-02-23 08:39:37,467]\u001b[0m Trial 23 finished with value: 0.5488647029951439 and parameters: {'kernel': 'poly', 'C': 0.4612767730140777, 'gamma': 'auto'}. Best is trial 21 with value: 0.5858078713922666.\u001b[0m\n"
     ]
    },
    {
     "name": "stderr",
     "output_type": "stream",
     "text": [
      "/home/jcierocki/.local/share/virtualenvs/datathon-kul-voodoo-boyz/lib/python3.10/site-packages/sklearn/svm/_base.py:299: ConvergenceWarning: Solver terminated early (max_iter=1500).  Consider pre-processing your data with StandardScaler or MinMaxScaler.\n",
      "  warnings.warn(\n",
      "/home/jcierocki/.local/share/virtualenvs/datathon-kul-voodoo-boyz/lib/python3.10/site-packages/sklearn/svm/_base.py:299: ConvergenceWarning: Solver terminated early (max_iter=1500).  Consider pre-processing your data with StandardScaler or MinMaxScaler.\n",
      "  warnings.warn(\n",
      "/home/jcierocki/.local/share/virtualenvs/datathon-kul-voodoo-boyz/lib/python3.10/site-packages/sklearn/svm/_base.py:299: ConvergenceWarning: Solver terminated early (max_iter=1500).  Consider pre-processing your data with StandardScaler or MinMaxScaler.\n",
      "  warnings.warn(\n",
      "/home/jcierocki/.local/share/virtualenvs/datathon-kul-voodoo-boyz/lib/python3.10/site-packages/sklearn/svm/_base.py:299: ConvergenceWarning: Solver terminated early (max_iter=1500).  Consider pre-processing your data with StandardScaler or MinMaxScaler.\n",
      "  warnings.warn(\n",
      "/home/jcierocki/.local/share/virtualenvs/datathon-kul-voodoo-boyz/lib/python3.10/site-packages/sklearn/svm/_base.py:299: ConvergenceWarning: Solver terminated early (max_iter=1500).  Consider pre-processing your data with StandardScaler or MinMaxScaler.\n",
      "  warnings.warn(\n",
      "/home/jcierocki/.local/share/virtualenvs/datathon-kul-voodoo-boyz/lib/python3.10/site-packages/sklearn/svm/_base.py:299: ConvergenceWarning: Solver terminated early (max_iter=1500).  Consider pre-processing your data with StandardScaler or MinMaxScaler.\n",
      "  warnings.warn(\n"
     ]
    },
    {
     "name": "stdout",
     "output_type": "stream",
     "text": [
      "\u001b[32m[I 2023-02-23 08:40:16,106]\u001b[0m Trial 24 finished with value: 0.5543630689519129 and parameters: {'kernel': 'poly', 'C': 0.3290094788482769, 'gamma': 'auto'}. Best is trial 21 with value: 0.5858078713922666.\u001b[0m\n"
     ]
    },
    {
     "name": "stderr",
     "output_type": "stream",
     "text": [
      "/home/jcierocki/.local/share/virtualenvs/datathon-kul-voodoo-boyz/lib/python3.10/site-packages/sklearn/svm/_base.py:299: ConvergenceWarning: Solver terminated early (max_iter=1500).  Consider pre-processing your data with StandardScaler or MinMaxScaler.\n",
      "  warnings.warn(\n",
      "/home/jcierocki/.local/share/virtualenvs/datathon-kul-voodoo-boyz/lib/python3.10/site-packages/sklearn/svm/_base.py:299: ConvergenceWarning: Solver terminated early (max_iter=1500).  Consider pre-processing your data with StandardScaler or MinMaxScaler.\n",
      "  warnings.warn(\n",
      "/home/jcierocki/.local/share/virtualenvs/datathon-kul-voodoo-boyz/lib/python3.10/site-packages/sklearn/svm/_base.py:299: ConvergenceWarning: Solver terminated early (max_iter=1500).  Consider pre-processing your data with StandardScaler or MinMaxScaler.\n",
      "  warnings.warn(\n",
      "/home/jcierocki/.local/share/virtualenvs/datathon-kul-voodoo-boyz/lib/python3.10/site-packages/sklearn/svm/_base.py:299: ConvergenceWarning: Solver terminated early (max_iter=1500).  Consider pre-processing your data with StandardScaler or MinMaxScaler.\n",
      "  warnings.warn(\n",
      "/home/jcierocki/.local/share/virtualenvs/datathon-kul-voodoo-boyz/lib/python3.10/site-packages/sklearn/svm/_base.py:299: ConvergenceWarning: Solver terminated early (max_iter=1500).  Consider pre-processing your data with StandardScaler or MinMaxScaler.\n",
      "  warnings.warn(\n",
      "/home/jcierocki/.local/share/virtualenvs/datathon-kul-voodoo-boyz/lib/python3.10/site-packages/sklearn/svm/_base.py:299: ConvergenceWarning: Solver terminated early (max_iter=1500).  Consider pre-processing your data with StandardScaler or MinMaxScaler.\n",
      "  warnings.warn(\n"
     ]
    },
    {
     "name": "stdout",
     "output_type": "stream",
     "text": [
      "\u001b[32m[I 2023-02-23 08:40:54,528]\u001b[0m Trial 25 finished with value: 0.5460110256253995 and parameters: {'kernel': 'poly', 'C': 0.624523833225526, 'gamma': 'auto'}. Best is trial 21 with value: 0.5858078713922666.\u001b[0m\n"
     ]
    },
    {
     "name": "stderr",
     "output_type": "stream",
     "text": [
      "/home/jcierocki/.local/share/virtualenvs/datathon-kul-voodoo-boyz/lib/python3.10/site-packages/sklearn/svm/_base.py:299: ConvergenceWarning: Solver terminated early (max_iter=1500).  Consider pre-processing your data with StandardScaler or MinMaxScaler.\n",
      "  warnings.warn(\n",
      "/home/jcierocki/.local/share/virtualenvs/datathon-kul-voodoo-boyz/lib/python3.10/site-packages/sklearn/svm/_base.py:299: ConvergenceWarning: Solver terminated early (max_iter=1500).  Consider pre-processing your data with StandardScaler or MinMaxScaler.\n",
      "  warnings.warn(\n",
      "/home/jcierocki/.local/share/virtualenvs/datathon-kul-voodoo-boyz/lib/python3.10/site-packages/sklearn/svm/_base.py:299: ConvergenceWarning: Solver terminated early (max_iter=1500).  Consider pre-processing your data with StandardScaler or MinMaxScaler.\n",
      "  warnings.warn(\n",
      "/home/jcierocki/.local/share/virtualenvs/datathon-kul-voodoo-boyz/lib/python3.10/site-packages/sklearn/svm/_base.py:299: ConvergenceWarning: Solver terminated early (max_iter=1500).  Consider pre-processing your data with StandardScaler or MinMaxScaler.\n",
      "  warnings.warn(\n",
      "/home/jcierocki/.local/share/virtualenvs/datathon-kul-voodoo-boyz/lib/python3.10/site-packages/sklearn/svm/_base.py:299: ConvergenceWarning: Solver terminated early (max_iter=1500).  Consider pre-processing your data with StandardScaler or MinMaxScaler.\n",
      "  warnings.warn(\n",
      "/home/jcierocki/.local/share/virtualenvs/datathon-kul-voodoo-boyz/lib/python3.10/site-packages/sklearn/svm/_base.py:299: ConvergenceWarning: Solver terminated early (max_iter=1500).  Consider pre-processing your data with StandardScaler or MinMaxScaler.\n",
      "  warnings.warn(\n"
     ]
    },
    {
     "name": "stdout",
     "output_type": "stream",
     "text": [
      "\u001b[32m[I 2023-02-23 08:41:34,103]\u001b[0m Trial 26 finished with value: 0.5689847464825483 and parameters: {'kernel': 'poly', 'C': 0.7711115426583672, 'gamma': 'scale'}. Best is trial 21 with value: 0.5858078713922666.\u001b[0m\n"
     ]
    },
    {
     "name": "stderr",
     "output_type": "stream",
     "text": [
      "/home/jcierocki/.local/share/virtualenvs/datathon-kul-voodoo-boyz/lib/python3.10/site-packages/sklearn/svm/_base.py:299: ConvergenceWarning: Solver terminated early (max_iter=1500).  Consider pre-processing your data with StandardScaler or MinMaxScaler.\n",
      "  warnings.warn(\n",
      "/home/jcierocki/.local/share/virtualenvs/datathon-kul-voodoo-boyz/lib/python3.10/site-packages/sklearn/svm/_base.py:299: ConvergenceWarning: Solver terminated early (max_iter=1500).  Consider pre-processing your data with StandardScaler or MinMaxScaler.\n",
      "  warnings.warn(\n",
      "/home/jcierocki/.local/share/virtualenvs/datathon-kul-voodoo-boyz/lib/python3.10/site-packages/sklearn/svm/_base.py:299: ConvergenceWarning: Solver terminated early (max_iter=1500).  Consider pre-processing your data with StandardScaler or MinMaxScaler.\n",
      "  warnings.warn(\n",
      "/home/jcierocki/.local/share/virtualenvs/datathon-kul-voodoo-boyz/lib/python3.10/site-packages/sklearn/svm/_base.py:299: ConvergenceWarning: Solver terminated early (max_iter=1500).  Consider pre-processing your data with StandardScaler or MinMaxScaler.\n",
      "  warnings.warn(\n",
      "/home/jcierocki/.local/share/virtualenvs/datathon-kul-voodoo-boyz/lib/python3.10/site-packages/sklearn/svm/_base.py:299: ConvergenceWarning: Solver terminated early (max_iter=1500).  Consider pre-processing your data with StandardScaler or MinMaxScaler.\n",
      "  warnings.warn(\n",
      "/home/jcierocki/.local/share/virtualenvs/datathon-kul-voodoo-boyz/lib/python3.10/site-packages/sklearn/svm/_base.py:299: ConvergenceWarning: Solver terminated early (max_iter=1500).  Consider pre-processing your data with StandardScaler or MinMaxScaler.\n",
      "  warnings.warn(\n"
     ]
    },
    {
     "name": "stdout",
     "output_type": "stream",
     "text": [
      "\u001b[32m[I 2023-02-23 08:42:12,937]\u001b[0m Trial 27 finished with value: 0.5457332550543837 and parameters: {'kernel': 'poly', 'C': 0.47162972615064674, 'gamma': 'auto'}. Best is trial 21 with value: 0.5858078713922666.\u001b[0m\n"
     ]
    },
    {
     "name": "stderr",
     "output_type": "stream",
     "text": [
      "/home/jcierocki/.local/share/virtualenvs/datathon-kul-voodoo-boyz/lib/python3.10/site-packages/sklearn/svm/_base.py:299: ConvergenceWarning: Solver terminated early (max_iter=1500).  Consider pre-processing your data with StandardScaler or MinMaxScaler.\n",
      "  warnings.warn(\n",
      "/home/jcierocki/.local/share/virtualenvs/datathon-kul-voodoo-boyz/lib/python3.10/site-packages/sklearn/svm/_base.py:299: ConvergenceWarning: Solver terminated early (max_iter=1500).  Consider pre-processing your data with StandardScaler or MinMaxScaler.\n",
      "  warnings.warn(\n",
      "/home/jcierocki/.local/share/virtualenvs/datathon-kul-voodoo-boyz/lib/python3.10/site-packages/sklearn/svm/_base.py:299: ConvergenceWarning: Solver terminated early (max_iter=1500).  Consider pre-processing your data with StandardScaler or MinMaxScaler.\n",
      "  warnings.warn(\n",
      "/home/jcierocki/.local/share/virtualenvs/datathon-kul-voodoo-boyz/lib/python3.10/site-packages/sklearn/svm/_base.py:299: ConvergenceWarning: Solver terminated early (max_iter=1500).  Consider pre-processing your data with StandardScaler or MinMaxScaler.\n",
      "  warnings.warn(\n",
      "/home/jcierocki/.local/share/virtualenvs/datathon-kul-voodoo-boyz/lib/python3.10/site-packages/sklearn/svm/_base.py:299: ConvergenceWarning: Solver terminated early (max_iter=1500).  Consider pre-processing your data with StandardScaler or MinMaxScaler.\n",
      "  warnings.warn(\n",
      "/home/jcierocki/.local/share/virtualenvs/datathon-kul-voodoo-boyz/lib/python3.10/site-packages/sklearn/svm/_base.py:299: ConvergenceWarning: Solver terminated early (max_iter=1500).  Consider pre-processing your data with StandardScaler or MinMaxScaler.\n",
      "  warnings.warn(\n"
     ]
    },
    {
     "name": "stdout",
     "output_type": "stream",
     "text": [
      "\u001b[32m[I 2023-02-23 08:43:06,920]\u001b[0m Trial 28 finished with value: 0.5002971944840703 and parameters: {'kernel': 'rbf', 'C': 1.1432784085978713, 'gamma': 'auto'}. Best is trial 21 with value: 0.5858078713922666.\u001b[0m\n"
     ]
    },
    {
     "name": "stderr",
     "output_type": "stream",
     "text": [
      "/home/jcierocki/.local/share/virtualenvs/datathon-kul-voodoo-boyz/lib/python3.10/site-packages/sklearn/svm/_base.py:299: ConvergenceWarning: Solver terminated early (max_iter=1500).  Consider pre-processing your data with StandardScaler or MinMaxScaler.\n",
      "  warnings.warn(\n",
      "/home/jcierocki/.local/share/virtualenvs/datathon-kul-voodoo-boyz/lib/python3.10/site-packages/sklearn/svm/_base.py:299: ConvergenceWarning: Solver terminated early (max_iter=1500).  Consider pre-processing your data with StandardScaler or MinMaxScaler.\n",
      "  warnings.warn(\n",
      "/home/jcierocki/.local/share/virtualenvs/datathon-kul-voodoo-boyz/lib/python3.10/site-packages/sklearn/svm/_base.py:299: ConvergenceWarning: Solver terminated early (max_iter=1500).  Consider pre-processing your data with StandardScaler or MinMaxScaler.\n",
      "  warnings.warn(\n",
      "/home/jcierocki/.local/share/virtualenvs/datathon-kul-voodoo-boyz/lib/python3.10/site-packages/sklearn/svm/_base.py:299: ConvergenceWarning: Solver terminated early (max_iter=1500).  Consider pre-processing your data with StandardScaler or MinMaxScaler.\n",
      "  warnings.warn(\n",
      "/home/jcierocki/.local/share/virtualenvs/datathon-kul-voodoo-boyz/lib/python3.10/site-packages/sklearn/svm/_base.py:299: ConvergenceWarning: Solver terminated early (max_iter=1500).  Consider pre-processing your data with StandardScaler or MinMaxScaler.\n",
      "  warnings.warn(\n",
      "/home/jcierocki/.local/share/virtualenvs/datathon-kul-voodoo-boyz/lib/python3.10/site-packages/sklearn/svm/_base.py:299: ConvergenceWarning: Solver terminated early (max_iter=1500).  Consider pre-processing your data with StandardScaler or MinMaxScaler.\n",
      "  warnings.warn(\n"
     ]
    },
    {
     "name": "stdout",
     "output_type": "stream",
     "text": [
      "\u001b[32m[I 2023-02-23 08:43:32,551]\u001b[0m Trial 29 finished with value: 0.5 and parameters: {'kernel': 'sigmoid', 'C': 0.571882804774995, 'gamma': 'auto'}. Best is trial 21 with value: 0.5858078713922666.\u001b[0m\n"
     ]
    },
    {
     "name": "stderr",
     "output_type": "stream",
     "text": [
      "/home/jcierocki/.local/share/virtualenvs/datathon-kul-voodoo-boyz/lib/python3.10/site-packages/sklearn/svm/_base.py:299: ConvergenceWarning: Solver terminated early (max_iter=1500).  Consider pre-processing your data with StandardScaler or MinMaxScaler.\n",
      "  warnings.warn(\n",
      "/home/jcierocki/.local/share/virtualenvs/datathon-kul-voodoo-boyz/lib/python3.10/site-packages/sklearn/svm/_base.py:299: ConvergenceWarning: Solver terminated early (max_iter=1500).  Consider pre-processing your data with StandardScaler or MinMaxScaler.\n",
      "  warnings.warn(\n",
      "/home/jcierocki/.local/share/virtualenvs/datathon-kul-voodoo-boyz/lib/python3.10/site-packages/sklearn/svm/_base.py:299: ConvergenceWarning: Solver terminated early (max_iter=1500).  Consider pre-processing your data with StandardScaler or MinMaxScaler.\n",
      "  warnings.warn(\n",
      "/home/jcierocki/.local/share/virtualenvs/datathon-kul-voodoo-boyz/lib/python3.10/site-packages/sklearn/svm/_base.py:299: ConvergenceWarning: Solver terminated early (max_iter=1500).  Consider pre-processing your data with StandardScaler or MinMaxScaler.\n",
      "  warnings.warn(\n",
      "/home/jcierocki/.local/share/virtualenvs/datathon-kul-voodoo-boyz/lib/python3.10/site-packages/sklearn/svm/_base.py:299: ConvergenceWarning: Solver terminated early (max_iter=1500).  Consider pre-processing your data with StandardScaler or MinMaxScaler.\n",
      "  warnings.warn(\n",
      "/home/jcierocki/.local/share/virtualenvs/datathon-kul-voodoo-boyz/lib/python3.10/site-packages/sklearn/svm/_base.py:299: ConvergenceWarning: Solver terminated early (max_iter=1500).  Consider pre-processing your data with StandardScaler or MinMaxScaler.\n",
      "  warnings.warn(\n"
     ]
    },
    {
     "name": "stdout",
     "output_type": "stream",
     "text": [
      "\u001b[32m[I 2023-02-23 08:44:26,430]\u001b[0m Trial 30 finished with value: 0.5 and parameters: {'kernel': 'rbf', 'C': 0.7465303995718218, 'gamma': 'auto'}. Best is trial 21 with value: 0.5858078713922666.\u001b[0m\n"
     ]
    },
    {
     "name": "stderr",
     "output_type": "stream",
     "text": [
      "/home/jcierocki/.local/share/virtualenvs/datathon-kul-voodoo-boyz/lib/python3.10/site-packages/sklearn/svm/_base.py:299: ConvergenceWarning: Solver terminated early (max_iter=1500).  Consider pre-processing your data with StandardScaler or MinMaxScaler.\n",
      "  warnings.warn(\n",
      "/home/jcierocki/.local/share/virtualenvs/datathon-kul-voodoo-boyz/lib/python3.10/site-packages/sklearn/svm/_base.py:299: ConvergenceWarning: Solver terminated early (max_iter=1500).  Consider pre-processing your data with StandardScaler or MinMaxScaler.\n",
      "  warnings.warn(\n",
      "/home/jcierocki/.local/share/virtualenvs/datathon-kul-voodoo-boyz/lib/python3.10/site-packages/sklearn/svm/_base.py:299: ConvergenceWarning: Solver terminated early (max_iter=1500).  Consider pre-processing your data with StandardScaler or MinMaxScaler.\n",
      "  warnings.warn(\n",
      "/home/jcierocki/.local/share/virtualenvs/datathon-kul-voodoo-boyz/lib/python3.10/site-packages/sklearn/svm/_base.py:299: ConvergenceWarning: Solver terminated early (max_iter=1500).  Consider pre-processing your data with StandardScaler or MinMaxScaler.\n",
      "  warnings.warn(\n",
      "/home/jcierocki/.local/share/virtualenvs/datathon-kul-voodoo-boyz/lib/python3.10/site-packages/sklearn/svm/_base.py:299: ConvergenceWarning: Solver terminated early (max_iter=1500).  Consider pre-processing your data with StandardScaler or MinMaxScaler.\n",
      "  warnings.warn(\n",
      "/home/jcierocki/.local/share/virtualenvs/datathon-kul-voodoo-boyz/lib/python3.10/site-packages/sklearn/svm/_base.py:299: ConvergenceWarning: Solver terminated early (max_iter=1500).  Consider pre-processing your data with StandardScaler or MinMaxScaler.\n",
      "  warnings.warn(\n"
     ]
    },
    {
     "name": "stdout",
     "output_type": "stream",
     "text": [
      "\u001b[32m[I 2023-02-23 08:45:05,144]\u001b[0m Trial 31 finished with value: 0.5518016522493138 and parameters: {'kernel': 'poly', 'C': 1.2066460747781589, 'gamma': 'auto'}. Best is trial 21 with value: 0.5858078713922666.\u001b[0m\n"
     ]
    },
    {
     "name": "stderr",
     "output_type": "stream",
     "text": [
      "/home/jcierocki/.local/share/virtualenvs/datathon-kul-voodoo-boyz/lib/python3.10/site-packages/sklearn/svm/_base.py:299: ConvergenceWarning: Solver terminated early (max_iter=1500).  Consider pre-processing your data with StandardScaler or MinMaxScaler.\n",
      "  warnings.warn(\n",
      "/home/jcierocki/.local/share/virtualenvs/datathon-kul-voodoo-boyz/lib/python3.10/site-packages/sklearn/svm/_base.py:299: ConvergenceWarning: Solver terminated early (max_iter=1500).  Consider pre-processing your data with StandardScaler or MinMaxScaler.\n",
      "  warnings.warn(\n",
      "/home/jcierocki/.local/share/virtualenvs/datathon-kul-voodoo-boyz/lib/python3.10/site-packages/sklearn/svm/_base.py:299: ConvergenceWarning: Solver terminated early (max_iter=1500).  Consider pre-processing your data with StandardScaler or MinMaxScaler.\n",
      "  warnings.warn(\n",
      "/home/jcierocki/.local/share/virtualenvs/datathon-kul-voodoo-boyz/lib/python3.10/site-packages/sklearn/svm/_base.py:299: ConvergenceWarning: Solver terminated early (max_iter=1500).  Consider pre-processing your data with StandardScaler or MinMaxScaler.\n",
      "  warnings.warn(\n",
      "/home/jcierocki/.local/share/virtualenvs/datathon-kul-voodoo-boyz/lib/python3.10/site-packages/sklearn/svm/_base.py:299: ConvergenceWarning: Solver terminated early (max_iter=1500).  Consider pre-processing your data with StandardScaler or MinMaxScaler.\n",
      "  warnings.warn(\n",
      "/home/jcierocki/.local/share/virtualenvs/datathon-kul-voodoo-boyz/lib/python3.10/site-packages/sklearn/svm/_base.py:299: ConvergenceWarning: Solver terminated early (max_iter=1500).  Consider pre-processing your data with StandardScaler or MinMaxScaler.\n",
      "  warnings.warn(\n"
     ]
    },
    {
     "name": "stdout",
     "output_type": "stream",
     "text": [
      "\u001b[32m[I 2023-02-23 08:45:43,904]\u001b[0m Trial 32 finished with value: 0.5580191246972991 and parameters: {'kernel': 'poly', 'C': 1.9079522678710077, 'gamma': 'auto'}. Best is trial 21 with value: 0.5858078713922666.\u001b[0m\n"
     ]
    },
    {
     "name": "stderr",
     "output_type": "stream",
     "text": [
      "/home/jcierocki/.local/share/virtualenvs/datathon-kul-voodoo-boyz/lib/python3.10/site-packages/sklearn/svm/_base.py:299: ConvergenceWarning: Solver terminated early (max_iter=1500).  Consider pre-processing your data with StandardScaler or MinMaxScaler.\n",
      "  warnings.warn(\n",
      "/home/jcierocki/.local/share/virtualenvs/datathon-kul-voodoo-boyz/lib/python3.10/site-packages/sklearn/svm/_base.py:299: ConvergenceWarning: Solver terminated early (max_iter=1500).  Consider pre-processing your data with StandardScaler or MinMaxScaler.\n",
      "  warnings.warn(\n",
      "/home/jcierocki/.local/share/virtualenvs/datathon-kul-voodoo-boyz/lib/python3.10/site-packages/sklearn/svm/_base.py:299: ConvergenceWarning: Solver terminated early (max_iter=1500).  Consider pre-processing your data with StandardScaler or MinMaxScaler.\n",
      "  warnings.warn(\n",
      "/home/jcierocki/.local/share/virtualenvs/datathon-kul-voodoo-boyz/lib/python3.10/site-packages/sklearn/svm/_base.py:299: ConvergenceWarning: Solver terminated early (max_iter=1500).  Consider pre-processing your data with StandardScaler or MinMaxScaler.\n",
      "  warnings.warn(\n",
      "/home/jcierocki/.local/share/virtualenvs/datathon-kul-voodoo-boyz/lib/python3.10/site-packages/sklearn/svm/_base.py:299: ConvergenceWarning: Solver terminated early (max_iter=1500).  Consider pre-processing your data with StandardScaler or MinMaxScaler.\n",
      "  warnings.warn(\n",
      "/home/jcierocki/.local/share/virtualenvs/datathon-kul-voodoo-boyz/lib/python3.10/site-packages/sklearn/svm/_base.py:299: ConvergenceWarning: Solver terminated early (max_iter=1500).  Consider pre-processing your data with StandardScaler or MinMaxScaler.\n",
      "  warnings.warn(\n"
     ]
    },
    {
     "name": "stdout",
     "output_type": "stream",
     "text": [
      "\u001b[32m[I 2023-02-23 08:46:22,585]\u001b[0m Trial 33 finished with value: 0.5567724122758003 and parameters: {'kernel': 'poly', 'C': 0.8000489056084893, 'gamma': 'auto'}. Best is trial 21 with value: 0.5858078713922666.\u001b[0m\n"
     ]
    },
    {
     "name": "stderr",
     "output_type": "stream",
     "text": [
      "/home/jcierocki/.local/share/virtualenvs/datathon-kul-voodoo-boyz/lib/python3.10/site-packages/sklearn/svm/_base.py:299: ConvergenceWarning: Solver terminated early (max_iter=1500).  Consider pre-processing your data with StandardScaler or MinMaxScaler.\n",
      "  warnings.warn(\n",
      "/home/jcierocki/.local/share/virtualenvs/datathon-kul-voodoo-boyz/lib/python3.10/site-packages/sklearn/svm/_base.py:299: ConvergenceWarning: Solver terminated early (max_iter=1500).  Consider pre-processing your data with StandardScaler or MinMaxScaler.\n",
      "  warnings.warn(\n",
      "/home/jcierocki/.local/share/virtualenvs/datathon-kul-voodoo-boyz/lib/python3.10/site-packages/sklearn/svm/_base.py:299: ConvergenceWarning: Solver terminated early (max_iter=1500).  Consider pre-processing your data with StandardScaler or MinMaxScaler.\n",
      "  warnings.warn(\n",
      "/home/jcierocki/.local/share/virtualenvs/datathon-kul-voodoo-boyz/lib/python3.10/site-packages/sklearn/svm/_base.py:299: ConvergenceWarning: Solver terminated early (max_iter=1500).  Consider pre-processing your data with StandardScaler or MinMaxScaler.\n",
      "  warnings.warn(\n",
      "/home/jcierocki/.local/share/virtualenvs/datathon-kul-voodoo-boyz/lib/python3.10/site-packages/sklearn/svm/_base.py:299: ConvergenceWarning: Solver terminated early (max_iter=1500).  Consider pre-processing your data with StandardScaler or MinMaxScaler.\n",
      "  warnings.warn(\n",
      "/home/jcierocki/.local/share/virtualenvs/datathon-kul-voodoo-boyz/lib/python3.10/site-packages/sklearn/svm/_base.py:299: ConvergenceWarning: Solver terminated early (max_iter=1500).  Consider pre-processing your data with StandardScaler or MinMaxScaler.\n",
      "  warnings.warn(\n"
     ]
    },
    {
     "name": "stdout",
     "output_type": "stream",
     "text": [
      "\u001b[32m[I 2023-02-23 08:47:03,420]\u001b[0m Trial 34 finished with value: 0.5546918577686035 and parameters: {'kernel': 'poly', 'C': 0.20047469316504207, 'gamma': 'scale'}. Best is trial 21 with value: 0.5858078713922666.\u001b[0m\n"
     ]
    },
    {
     "name": "stderr",
     "output_type": "stream",
     "text": [
      "/home/jcierocki/.local/share/virtualenvs/datathon-kul-voodoo-boyz/lib/python3.10/site-packages/sklearn/svm/_base.py:299: ConvergenceWarning: Solver terminated early (max_iter=1500).  Consider pre-processing your data with StandardScaler or MinMaxScaler.\n",
      "  warnings.warn(\n",
      "/home/jcierocki/.local/share/virtualenvs/datathon-kul-voodoo-boyz/lib/python3.10/site-packages/sklearn/svm/_base.py:299: ConvergenceWarning: Solver terminated early (max_iter=1500).  Consider pre-processing your data with StandardScaler or MinMaxScaler.\n",
      "  warnings.warn(\n",
      "/home/jcierocki/.local/share/virtualenvs/datathon-kul-voodoo-boyz/lib/python3.10/site-packages/sklearn/svm/_base.py:299: ConvergenceWarning: Solver terminated early (max_iter=1500).  Consider pre-processing your data with StandardScaler or MinMaxScaler.\n",
      "  warnings.warn(\n",
      "/home/jcierocki/.local/share/virtualenvs/datathon-kul-voodoo-boyz/lib/python3.10/site-packages/sklearn/svm/_base.py:299: ConvergenceWarning: Solver terminated early (max_iter=1500).  Consider pre-processing your data with StandardScaler or MinMaxScaler.\n",
      "  warnings.warn(\n",
      "/home/jcierocki/.local/share/virtualenvs/datathon-kul-voodoo-boyz/lib/python3.10/site-packages/sklearn/svm/_base.py:299: ConvergenceWarning: Solver terminated early (max_iter=1500).  Consider pre-processing your data with StandardScaler or MinMaxScaler.\n",
      "  warnings.warn(\n",
      "/home/jcierocki/.local/share/virtualenvs/datathon-kul-voodoo-boyz/lib/python3.10/site-packages/sklearn/svm/_base.py:299: ConvergenceWarning: Solver terminated early (max_iter=1500).  Consider pre-processing your data with StandardScaler or MinMaxScaler.\n",
      "  warnings.warn(\n"
     ]
    },
    {
     "name": "stdout",
     "output_type": "stream",
     "text": [
      "\u001b[32m[I 2023-02-23 08:47:57,241]\u001b[0m Trial 35 finished with value: 0.5 and parameters: {'kernel': 'rbf', 'C': 0.5583640193005868, 'gamma': 'auto'}. Best is trial 21 with value: 0.5858078713922666.\u001b[0m\n"
     ]
    },
    {
     "name": "stderr",
     "output_type": "stream",
     "text": [
      "/home/jcierocki/.local/share/virtualenvs/datathon-kul-voodoo-boyz/lib/python3.10/site-packages/sklearn/svm/_base.py:299: ConvergenceWarning: Solver terminated early (max_iter=1500).  Consider pre-processing your data with StandardScaler or MinMaxScaler.\n",
      "  warnings.warn(\n",
      "/home/jcierocki/.local/share/virtualenvs/datathon-kul-voodoo-boyz/lib/python3.10/site-packages/sklearn/svm/_base.py:299: ConvergenceWarning: Solver terminated early (max_iter=1500).  Consider pre-processing your data with StandardScaler or MinMaxScaler.\n",
      "  warnings.warn(\n",
      "/home/jcierocki/.local/share/virtualenvs/datathon-kul-voodoo-boyz/lib/python3.10/site-packages/sklearn/svm/_base.py:299: ConvergenceWarning: Solver terminated early (max_iter=1500).  Consider pre-processing your data with StandardScaler or MinMaxScaler.\n",
      "  warnings.warn(\n",
      "/home/jcierocki/.local/share/virtualenvs/datathon-kul-voodoo-boyz/lib/python3.10/site-packages/sklearn/svm/_base.py:299: ConvergenceWarning: Solver terminated early (max_iter=1500).  Consider pre-processing your data with StandardScaler or MinMaxScaler.\n",
      "  warnings.warn(\n",
      "/home/jcierocki/.local/share/virtualenvs/datathon-kul-voodoo-boyz/lib/python3.10/site-packages/sklearn/svm/_base.py:299: ConvergenceWarning: Solver terminated early (max_iter=1500).  Consider pre-processing your data with StandardScaler or MinMaxScaler.\n",
      "  warnings.warn(\n",
      "/home/jcierocki/.local/share/virtualenvs/datathon-kul-voodoo-boyz/lib/python3.10/site-packages/sklearn/svm/_base.py:299: ConvergenceWarning: Solver terminated early (max_iter=1500).  Consider pre-processing your data with StandardScaler or MinMaxScaler.\n",
      "  warnings.warn(\n"
     ]
    },
    {
     "name": "stdout",
     "output_type": "stream",
     "text": [
      "\u001b[32m[I 2023-02-23 08:48:36,909]\u001b[0m Trial 36 finished with value: 0.5373441768528618 and parameters: {'kernel': 'poly', 'C': 0.9715953833783723, 'gamma': 'scale'}. Best is trial 21 with value: 0.5858078713922666.\u001b[0m\n"
     ]
    },
    {
     "name": "stderr",
     "output_type": "stream",
     "text": [
      "/home/jcierocki/.local/share/virtualenvs/datathon-kul-voodoo-boyz/lib/python3.10/site-packages/sklearn/svm/_base.py:299: ConvergenceWarning: Solver terminated early (max_iter=1500).  Consider pre-processing your data with StandardScaler or MinMaxScaler.\n",
      "  warnings.warn(\n",
      "/home/jcierocki/.local/share/virtualenvs/datathon-kul-voodoo-boyz/lib/python3.10/site-packages/sklearn/svm/_base.py:299: ConvergenceWarning: Solver terminated early (max_iter=1500).  Consider pre-processing your data with StandardScaler or MinMaxScaler.\n",
      "  warnings.warn(\n",
      "/home/jcierocki/.local/share/virtualenvs/datathon-kul-voodoo-boyz/lib/python3.10/site-packages/sklearn/svm/_base.py:299: ConvergenceWarning: Solver terminated early (max_iter=1500).  Consider pre-processing your data with StandardScaler or MinMaxScaler.\n",
      "  warnings.warn(\n",
      "/home/jcierocki/.local/share/virtualenvs/datathon-kul-voodoo-boyz/lib/python3.10/site-packages/sklearn/svm/_base.py:299: ConvergenceWarning: Solver terminated early (max_iter=1500).  Consider pre-processing your data with StandardScaler or MinMaxScaler.\n",
      "  warnings.warn(\n",
      "/home/jcierocki/.local/share/virtualenvs/datathon-kul-voodoo-boyz/lib/python3.10/site-packages/sklearn/svm/_base.py:299: ConvergenceWarning: Solver terminated early (max_iter=1500).  Consider pre-processing your data with StandardScaler or MinMaxScaler.\n",
      "  warnings.warn(\n",
      "/home/jcierocki/.local/share/virtualenvs/datathon-kul-voodoo-boyz/lib/python3.10/site-packages/sklearn/svm/_base.py:299: ConvergenceWarning: Solver terminated early (max_iter=1500).  Consider pre-processing your data with StandardScaler or MinMaxScaler.\n",
      "  warnings.warn(\n"
     ]
    },
    {
     "name": "stdout",
     "output_type": "stream",
     "text": [
      "\u001b[32m[I 2023-02-23 08:49:15,251]\u001b[0m Trial 37 finished with value: 0.5693810136770382 and parameters: {'kernel': 'poly', 'C': 2.5135804066575003, 'gamma': 'auto'}. Best is trial 21 with value: 0.5858078713922666.\u001b[0m\n"
     ]
    },
    {
     "name": "stderr",
     "output_type": "stream",
     "text": [
      "/home/jcierocki/.local/share/virtualenvs/datathon-kul-voodoo-boyz/lib/python3.10/site-packages/sklearn/svm/_base.py:299: ConvergenceWarning: Solver terminated early (max_iter=1500).  Consider pre-processing your data with StandardScaler or MinMaxScaler.\n",
      "  warnings.warn(\n",
      "/home/jcierocki/.local/share/virtualenvs/datathon-kul-voodoo-boyz/lib/python3.10/site-packages/sklearn/svm/_base.py:299: ConvergenceWarning: Solver terminated early (max_iter=1500).  Consider pre-processing your data with StandardScaler or MinMaxScaler.\n",
      "  warnings.warn(\n",
      "/home/jcierocki/.local/share/virtualenvs/datathon-kul-voodoo-boyz/lib/python3.10/site-packages/sklearn/svm/_base.py:299: ConvergenceWarning: Solver terminated early (max_iter=1500).  Consider pre-processing your data with StandardScaler or MinMaxScaler.\n",
      "  warnings.warn(\n",
      "/home/jcierocki/.local/share/virtualenvs/datathon-kul-voodoo-boyz/lib/python3.10/site-packages/sklearn/svm/_base.py:299: ConvergenceWarning: Solver terminated early (max_iter=1500).  Consider pre-processing your data with StandardScaler or MinMaxScaler.\n",
      "  warnings.warn(\n",
      "/home/jcierocki/.local/share/virtualenvs/datathon-kul-voodoo-boyz/lib/python3.10/site-packages/sklearn/svm/_base.py:299: ConvergenceWarning: Solver terminated early (max_iter=1500).  Consider pre-processing your data with StandardScaler or MinMaxScaler.\n",
      "  warnings.warn(\n",
      "/home/jcierocki/.local/share/virtualenvs/datathon-kul-voodoo-boyz/lib/python3.10/site-packages/sklearn/svm/_base.py:299: ConvergenceWarning: Solver terminated early (max_iter=1500).  Consider pre-processing your data with StandardScaler or MinMaxScaler.\n",
      "  warnings.warn(\n"
     ]
    },
    {
     "name": "stdout",
     "output_type": "stream",
     "text": [
      "\u001b[32m[I 2023-02-23 08:50:09,164]\u001b[0m Trial 38 finished with value: 0.5 and parameters: {'kernel': 'rbf', 'C': 0.6778768500268589, 'gamma': 'auto'}. Best is trial 21 with value: 0.5858078713922666.\u001b[0m\n"
     ]
    },
    {
     "name": "stderr",
     "output_type": "stream",
     "text": [
      "/home/jcierocki/.local/share/virtualenvs/datathon-kul-voodoo-boyz/lib/python3.10/site-packages/sklearn/svm/_base.py:299: ConvergenceWarning: Solver terminated early (max_iter=1500).  Consider pre-processing your data with StandardScaler or MinMaxScaler.\n",
      "  warnings.warn(\n",
      "/home/jcierocki/.local/share/virtualenvs/datathon-kul-voodoo-boyz/lib/python3.10/site-packages/sklearn/svm/_base.py:299: ConvergenceWarning: Solver terminated early (max_iter=1500).  Consider pre-processing your data with StandardScaler or MinMaxScaler.\n",
      "  warnings.warn(\n",
      "/home/jcierocki/.local/share/virtualenvs/datathon-kul-voodoo-boyz/lib/python3.10/site-packages/sklearn/svm/_base.py:299: ConvergenceWarning: Solver terminated early (max_iter=1500).  Consider pre-processing your data with StandardScaler or MinMaxScaler.\n",
      "  warnings.warn(\n",
      "/home/jcierocki/.local/share/virtualenvs/datathon-kul-voodoo-boyz/lib/python3.10/site-packages/sklearn/svm/_base.py:299: ConvergenceWarning: Solver terminated early (max_iter=1500).  Consider pre-processing your data with StandardScaler or MinMaxScaler.\n",
      "  warnings.warn(\n",
      "/home/jcierocki/.local/share/virtualenvs/datathon-kul-voodoo-boyz/lib/python3.10/site-packages/sklearn/svm/_base.py:299: ConvergenceWarning: Solver terminated early (max_iter=1500).  Consider pre-processing your data with StandardScaler or MinMaxScaler.\n",
      "  warnings.warn(\n",
      "/home/jcierocki/.local/share/virtualenvs/datathon-kul-voodoo-boyz/lib/python3.10/site-packages/sklearn/svm/_base.py:299: ConvergenceWarning: Solver terminated early (max_iter=1500).  Consider pre-processing your data with StandardScaler or MinMaxScaler.\n",
      "  warnings.warn(\n"
     ]
    },
    {
     "name": "stdout",
     "output_type": "stream",
     "text": [
      "\u001b[32m[I 2023-02-23 08:50:48,599]\u001b[0m Trial 39 finished with value: 0.5445050741460967 and parameters: {'kernel': 'poly', 'C': 1.5546279362233293, 'gamma': 'scale'}. Best is trial 21 with value: 0.5858078713922666.\u001b[0m\n",
      "FrozenTrial(number=21, state=TrialState.COMPLETE, values=[0.5858078713922666], datetime_start=datetime.datetime(2023, 2, 23, 8, 37, 41, 332911), datetime_complete=datetime.datetime(2023, 2, 23, 8, 38, 19, 910161), params={'C': 0.38247176315704867, 'gamma': 'auto', 'kernel': 'poly'}, user_attrs={}, system_attrs={}, intermediate_values={}, distributions={'C': FloatDistribution(high=3.0, log=True, low=0.1, step=None), 'gamma': CategoricalDistribution(choices=('auto', 'scale')), 'kernel': CategoricalDistribution(choices=('poly', 'rbf', 'sigmoid'))}, trial_id=26, value=None)\n"
     ]
    }
   ],
   "source": [
    "study = optuna.create_study(direction=\"maximize\", storage=\"sqlite:///svm_tuning_trials.db\")\n",
    "study.optimize(obj, n_trials=40, show_progress_bar=True)\n",
    "print(study.best_trial)"
   ]
  },
  {
   "cell_type": "code",
   "execution_count": null,
   "metadata": {},
   "outputs": [],
   "source": []
  }
 ],
 "metadata": {
  "kernelspec": {
   "display_name": ".env",
   "language": "python",
   "name": "python3"
  },
  "language_info": {
   "codemirror_mode": {
    "name": "ipython",
    "version": 3
   },
   "file_extension": ".py",
   "mimetype": "text/x-python",
   "name": "python",
   "nbconvert_exporter": "python",
   "pygments_lexer": "ipython3",
   "version": "3.10.10"
  },
  "orig_nbformat": 4,
  "vscode": {
   "interpreter": {
    "hash": "288cc0bc7b69a3e071393ce6c1d2ea0844b1ab617f870d6c833f5a032d9594c9"
   }
  }
 },
 "nbformat": 4,
 "nbformat_minor": 2
}
